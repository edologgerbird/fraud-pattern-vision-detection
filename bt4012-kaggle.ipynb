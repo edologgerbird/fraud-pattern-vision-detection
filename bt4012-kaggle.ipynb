{
 "cells": [
  {
   "cell_type": "markdown",
   "metadata": {},
   "source": [
    "# BT4012 Kaggle Competition\n",
    "\n",
    "Author: Loh Hong Tak Edmund\n",
    "\n",
    "Python Version: 3.8.11"
   ]
  },
  {
   "cell_type": "markdown",
   "metadata": {},
   "source": [
    "# plan:\n",
    "\n",
    "- EDA\n",
    "- Scaling\n",
    "- RFE\n",
    "- Models:\n",
    "    - XGBoost\n",
    "    - RandomForest\n",
    "    - Logit\n",
    "    - Neural Network: CNN + LSTM"
   ]
  },
  {
   "cell_type": "markdown",
   "metadata": {},
   "source": [
    "## Importing packages"
   ]
  },
  {
   "cell_type": "code",
   "execution_count": 6,
   "metadata": {},
   "outputs": [
    {
     "name": "stdout",
     "output_type": "stream",
     "text": [
      "Collecting xgboost\n",
      "  Using cached xgboost-1.4.2-py3-none-win_amd64.whl (97.8 MB)\n",
      "Requirement already satisfied: scipy in c:\\users\\edmun\\anaconda3\\envs\\gpuenv\\lib\\site-packages (from xgboost) (1.7.1)\n",
      "Requirement already satisfied: numpy in c:\\users\\edmun\\anaconda3\\envs\\gpuenv\\lib\\site-packages (from xgboost) (1.19.5)\n",
      "Installing collected packages: xgboost\n",
      "Successfully installed xgboost-1.4.2\n"
     ]
    }
   ],
   "source": [
    "!pip install xgboost"
   ]
  },
  {
   "cell_type": "code",
   "execution_count": 65,
   "metadata": {},
   "outputs": [],
   "source": [
    "# Loading Packages\n",
    "\n",
    "# EDA\n",
    "import pandas as pd\n",
    "import matplotlib.pyplot as plt\n",
    "import plotly.express as px\n",
    "import numpy as np\n",
    "from numpy import sort\n",
    "\n",
    "from collections import Counter\n",
    "\n",
    "# Machine Learning\n",
    "from sklearn.model_selection import train_test_split\n",
    "from sklearn.linear_model import LogisticRegression\n",
    "from sklearn.feature_selection import RFE, SelectFromModel\n",
    "from sklearn.metrics import accuracy_score, f1_score, classification_report, confusion_matrix, roc_curve, auc, log_loss, roc_auc_score \n",
    "from sklearn.preprocessing import MinMaxScaler\n",
    "from sklearn.ensemble import RandomForestClassifier\n",
    "from sklearn.model_selection import RepeatedStratifiedKFold, GridSearchCV\n",
    "import xgboost\n",
    "\n",
    "# Deep Learning\n",
    "import tensorflow as tf\n",
    "from tensorflow import keras\n",
    "from keras.preprocessing.text import Tokenizer\n",
    "from keras.preprocessing.sequence import pad_sequences\n",
    "from keras.models import Sequential\n",
    "from keras import layers\n",
    "from keras import utils\n",
    "from keras.callbacks import ReduceLROnPlateau, EarlyStopping\n",
    "from keras.layers import TextVectorization\n",
    "\n",
    "# Settings\n",
    "import pickle\n",
    "import warnings\n",
    "warnings.filterwarnings(\"ignore\")"
   ]
  },
  {
   "cell_type": "markdown",
   "metadata": {},
   "source": [
    "## Helper Functions"
   ]
  },
  {
   "cell_type": "code",
   "execution_count": 9,
   "metadata": {},
   "outputs": [],
   "source": [
    "def getRFEfeatures(model, x, y, n_features_to_select):\n",
    "    rfe = RFE(model, n_features_to_select)\n",
    "    rfe = rfe.fit(x,y)\n",
    "    selected_features = list(x.columns[rfe.support_])\n",
    "    print('Selected features: %s' % selected_features)\n",
    "    return selected_features\n",
    "\n",
    "def get_auc(model, x, y):\n",
    "    y_pred_proba = model.predict_proba(x)[:,1]\n",
    "    [fpr, tpr, thr] = roc_curve(y, y_pred_proba)\n",
    "    return auc(fpr, tpr)\n",
    "\n",
    "def get_logloss(model, x, y):\n",
    "    y_pred_proba = model.predict_proba(x)[:,1]\n",
    "    return log_loss(y, y_pred_proba)\n",
    "\n",
    "def print_train_score(model, x_train, y_train, auc=True):\n",
    "    pred = model.predict(x_train)\n",
    "    model_report = pd.DataFrame(classification_report(y_train, pred, output_dict=True))\n",
    "    print(\"TRAIN RESULT:\\n================================================\")\n",
    "    print(f\"ACCURACY SCORE: {accuracy_score(y_train, pred) * 100:.2f}%\")\n",
    "    print(\"_______________________________________________\")\n",
    "    print(f\"CLASSIFICATION REPORT:\\n{model_report}\")\n",
    "    print(\"_______________________________________________\")\n",
    "    print(f\"CONFUSION MATRIX: \\n {confusion_matrix(y_train, pred)}\\n\")\n",
    "    if auc:\n",
    "        print(\"_______________________________________________\")\n",
    "        print(f\"AUC Score: \\n {get_auc(model, x_train, y_train)}\\n\")\n",
    "    \n",
    "def print_test_score(model, x_test, y_test, auc=True):\n",
    "    pred = model.predict(x_test)\n",
    "    model_report = pd.DataFrame(classification_report(y_test, pred, output_dict=True))\n",
    "    print(\"TEST RESULT:\\n================================================\")\n",
    "    print(f\"ACCURACY SCORE: {accuracy_score(y_test, pred) * 100:.2f}%\")\n",
    "    print(\"_______________________________________________\")\n",
    "    print(f\"CLASSIFICATION REPORT:\\n{model_report}\")\n",
    "    print(\"_______________________________________________\")\n",
    "    print(f\"CONFUSION MATRIX: \\n {confusion_matrix(y_test, pred)}\\n\")\n",
    "    if auc:\n",
    "        print(\"_______________________________________________\")\n",
    "        print(f\"AUC Score: \\n {get_auc(model, x_test, y_test)}\\n\")\n",
    "\n",
    "def predict_to_csv(model,ds,name):\n",
    "    pred = model.predict(ds)\n",
    "    pred_df = pd.DataFrame({'Id':Id, 'Predicted':predictions}, columns=['Id', 'Predicted'])\n",
    "    pred_df.to_csv('%s.csv'%(name), index=False)\n",
    "    return True"
   ]
  },
  {
   "cell_type": "markdown",
   "metadata": {},
   "source": [
    "## Loading Dataset"
   ]
  },
  {
   "cell_type": "code",
   "execution_count": 19,
   "metadata": {},
   "outputs": [],
   "source": [
    "ds = pd.read_csv('train.csv')"
   ]
  },
  {
   "cell_type": "code",
   "execution_count": 20,
   "metadata": {},
   "outputs": [
    {
     "data": {
      "text/html": [
       "<div>\n",
       "<style scoped>\n",
       "    .dataframe tbody tr th:only-of-type {\n",
       "        vertical-align: middle;\n",
       "    }\n",
       "\n",
       "    .dataframe tbody tr th {\n",
       "        vertical-align: top;\n",
       "    }\n",
       "\n",
       "    .dataframe thead th {\n",
       "        text-align: right;\n",
       "    }\n",
       "</style>\n",
       "<table border=\"1\" class=\"dataframe\">\n",
       "  <thead>\n",
       "    <tr style=\"text-align: right;\">\n",
       "      <th></th>\n",
       "      <th>r0c0</th>\n",
       "      <th>r0c1</th>\n",
       "      <th>r0c2</th>\n",
       "      <th>r0c3</th>\n",
       "      <th>r0c4</th>\n",
       "      <th>r0c5</th>\n",
       "      <th>r0c6</th>\n",
       "      <th>r0c7</th>\n",
       "      <th>r0c8</th>\n",
       "      <th>r0c9</th>\n",
       "      <th>...</th>\n",
       "      <th>r19c11</th>\n",
       "      <th>r19c12</th>\n",
       "      <th>r19c13</th>\n",
       "      <th>r19c14</th>\n",
       "      <th>r19c15</th>\n",
       "      <th>r19c16</th>\n",
       "      <th>r19c17</th>\n",
       "      <th>r19c18</th>\n",
       "      <th>r19c19</th>\n",
       "      <th>label</th>\n",
       "    </tr>\n",
       "  </thead>\n",
       "  <tbody>\n",
       "    <tr>\n",
       "      <th>0</th>\n",
       "      <td>1</td>\n",
       "      <td>1</td>\n",
       "      <td>1</td>\n",
       "      <td>1</td>\n",
       "      <td>28</td>\n",
       "      <td>43</td>\n",
       "      <td>52</td>\n",
       "      <td>255</td>\n",
       "      <td>255</td>\n",
       "      <td>255</td>\n",
       "      <td>...</td>\n",
       "      <td>191</td>\n",
       "      <td>255</td>\n",
       "      <td>52</td>\n",
       "      <td>34</td>\n",
       "      <td>1</td>\n",
       "      <td>1</td>\n",
       "      <td>1</td>\n",
       "      <td>1</td>\n",
       "      <td>1</td>\n",
       "      <td>0</td>\n",
       "    </tr>\n",
       "    <tr>\n",
       "      <th>1</th>\n",
       "      <td>1</td>\n",
       "      <td>1</td>\n",
       "      <td>1</td>\n",
       "      <td>1</td>\n",
       "      <td>1</td>\n",
       "      <td>1</td>\n",
       "      <td>1</td>\n",
       "      <td>1</td>\n",
       "      <td>1</td>\n",
       "      <td>1</td>\n",
       "      <td>...</td>\n",
       "      <td>1</td>\n",
       "      <td>1</td>\n",
       "      <td>1</td>\n",
       "      <td>1</td>\n",
       "      <td>1</td>\n",
       "      <td>1</td>\n",
       "      <td>1</td>\n",
       "      <td>1</td>\n",
       "      <td>1</td>\n",
       "      <td>0</td>\n",
       "    </tr>\n",
       "    <tr>\n",
       "      <th>2</th>\n",
       "      <td>1</td>\n",
       "      <td>1</td>\n",
       "      <td>128</td>\n",
       "      <td>255</td>\n",
       "      <td>255</td>\n",
       "      <td>255</td>\n",
       "      <td>255</td>\n",
       "      <td>255</td>\n",
       "      <td>255</td>\n",
       "      <td>255</td>\n",
       "      <td>...</td>\n",
       "      <td>255</td>\n",
       "      <td>255</td>\n",
       "      <td>255</td>\n",
       "      <td>255</td>\n",
       "      <td>255</td>\n",
       "      <td>255</td>\n",
       "      <td>128</td>\n",
       "      <td>1</td>\n",
       "      <td>1</td>\n",
       "      <td>0</td>\n",
       "    </tr>\n",
       "    <tr>\n",
       "      <th>3</th>\n",
       "      <td>53</td>\n",
       "      <td>54</td>\n",
       "      <td>61</td>\n",
       "      <td>91</td>\n",
       "      <td>141</td>\n",
       "      <td>172</td>\n",
       "      <td>197</td>\n",
       "      <td>223</td>\n",
       "      <td>233</td>\n",
       "      <td>246</td>\n",
       "      <td>...</td>\n",
       "      <td>184</td>\n",
       "      <td>185</td>\n",
       "      <td>187</td>\n",
       "      <td>169</td>\n",
       "      <td>147</td>\n",
       "      <td>106</td>\n",
       "      <td>82</td>\n",
       "      <td>34</td>\n",
       "      <td>23</td>\n",
       "      <td>1</td>\n",
       "    </tr>\n",
       "    <tr>\n",
       "      <th>4</th>\n",
       "      <td>46</td>\n",
       "      <td>46</td>\n",
       "      <td>46</td>\n",
       "      <td>46</td>\n",
       "      <td>36</td>\n",
       "      <td>36</td>\n",
       "      <td>41</td>\n",
       "      <td>41</td>\n",
       "      <td>41</td>\n",
       "      <td>41</td>\n",
       "      <td>...</td>\n",
       "      <td>38</td>\n",
       "      <td>65</td>\n",
       "      <td>65</td>\n",
       "      <td>95</td>\n",
       "      <td>95</td>\n",
       "      <td>149</td>\n",
       "      <td>149</td>\n",
       "      <td>205</td>\n",
       "      <td>205</td>\n",
       "      <td>0</td>\n",
       "    </tr>\n",
       "  </tbody>\n",
       "</table>\n",
       "<p>5 rows × 401 columns</p>\n",
       "</div>"
      ],
      "text/plain": [
       "   r0c0  r0c1  r0c2  r0c3  r0c4  r0c5  r0c6  r0c7  r0c8  r0c9  ...  r19c11  \\\n",
       "0     1     1     1     1    28    43    52   255   255   255  ...     191   \n",
       "1     1     1     1     1     1     1     1     1     1     1  ...       1   \n",
       "2     1     1   128   255   255   255   255   255   255   255  ...     255   \n",
       "3    53    54    61    91   141   172   197   223   233   246  ...     184   \n",
       "4    46    46    46    46    36    36    41    41    41    41  ...      38   \n",
       "\n",
       "   r19c12  r19c13  r19c14  r19c15  r19c16  r19c17  r19c18  r19c19  label  \n",
       "0     255      52      34       1       1       1       1       1      0  \n",
       "1       1       1       1       1       1       1       1       1      0  \n",
       "2     255     255     255     255     255     128       1       1      0  \n",
       "3     185     187     169     147     106      82      34      23      1  \n",
       "4      65      65      95      95     149     149     205     205      0  \n",
       "\n",
       "[5 rows x 401 columns]"
      ]
     },
     "execution_count": 20,
     "metadata": {},
     "output_type": "execute_result"
    }
   ],
   "source": [
    "ds.head()"
   ]
  },
  {
   "cell_type": "code",
   "execution_count": 25,
   "metadata": {},
   "outputs": [
    {
     "data": {
      "text/plain": [
       "0        0\n",
       "1        0\n",
       "2        0\n",
       "3        1\n",
       "4        0\n",
       "        ..\n",
       "72134    0\n",
       "72135    0\n",
       "72136    0\n",
       "72137    0\n",
       "72138    0\n",
       "Name: label, Length: 72139, dtype: int64"
      ]
     },
     "execution_count": 25,
     "metadata": {},
     "output_type": "execute_result"
    }
   ],
   "source": [
    "ds.label"
   ]
  },
  {
   "cell_type": "code",
   "execution_count": 32,
   "metadata": {},
   "outputs": [
    {
     "data": {
      "text/plain": [
       "Counter({0: 65581, 1: 6558})"
      ]
     },
     "execution_count": 32,
     "metadata": {},
     "output_type": "execute_result"
    }
   ],
   "source": [
    "counter = Counter\n",
    "counter(ds.label)"
   ]
  },
  {
   "cell_type": "code",
   "execution_count": 15,
   "metadata": {},
   "outputs": [
    {
     "data": {
      "text/html": [
       "<div>\n",
       "<style scoped>\n",
       "    .dataframe tbody tr th:only-of-type {\n",
       "        vertical-align: middle;\n",
       "    }\n",
       "\n",
       "    .dataframe tbody tr th {\n",
       "        vertical-align: top;\n",
       "    }\n",
       "\n",
       "    .dataframe thead th {\n",
       "        text-align: right;\n",
       "    }\n",
       "</style>\n",
       "<table border=\"1\" class=\"dataframe\">\n",
       "  <thead>\n",
       "    <tr style=\"text-align: right;\">\n",
       "      <th></th>\n",
       "      <th>r0c0</th>\n",
       "      <th>r0c1</th>\n",
       "      <th>r0c2</th>\n",
       "      <th>r0c3</th>\n",
       "      <th>r0c4</th>\n",
       "      <th>r0c5</th>\n",
       "      <th>r0c6</th>\n",
       "      <th>r0c7</th>\n",
       "      <th>r0c8</th>\n",
       "      <th>r0c9</th>\n",
       "      <th>...</th>\n",
       "      <th>r19c11</th>\n",
       "      <th>r19c12</th>\n",
       "      <th>r19c13</th>\n",
       "      <th>r19c14</th>\n",
       "      <th>r19c15</th>\n",
       "      <th>r19c16</th>\n",
       "      <th>r19c17</th>\n",
       "      <th>r19c18</th>\n",
       "      <th>r19c19</th>\n",
       "      <th>label</th>\n",
       "    </tr>\n",
       "  </thead>\n",
       "  <tbody>\n",
       "    <tr>\n",
       "      <th>count</th>\n",
       "      <td>72139.000000</td>\n",
       "      <td>72139.000000</td>\n",
       "      <td>72139.000000</td>\n",
       "      <td>72139.000000</td>\n",
       "      <td>72139.000000</td>\n",
       "      <td>72139.000000</td>\n",
       "      <td>72139.000000</td>\n",
       "      <td>72139.000000</td>\n",
       "      <td>72139.000000</td>\n",
       "      <td>72139.000000</td>\n",
       "      <td>...</td>\n",
       "      <td>72139.000000</td>\n",
       "      <td>72139.000000</td>\n",
       "      <td>72139.000000</td>\n",
       "      <td>72139.000000</td>\n",
       "      <td>72139.000000</td>\n",
       "      <td>72139.000000</td>\n",
       "      <td>72139.000000</td>\n",
       "      <td>72139.000000</td>\n",
       "      <td>72139.000000</td>\n",
       "      <td>72139.000000</td>\n",
       "    </tr>\n",
       "    <tr>\n",
       "      <th>mean</th>\n",
       "      <td>36.125383</td>\n",
       "      <td>51.473308</td>\n",
       "      <td>70.855279</td>\n",
       "      <td>82.032354</td>\n",
       "      <td>86.869142</td>\n",
       "      <td>96.391730</td>\n",
       "      <td>101.608728</td>\n",
       "      <td>108.712333</td>\n",
       "      <td>115.257752</td>\n",
       "      <td>119.014680</td>\n",
       "      <td>...</td>\n",
       "      <td>105.187416</td>\n",
       "      <td>101.996327</td>\n",
       "      <td>98.175689</td>\n",
       "      <td>94.994663</td>\n",
       "      <td>83.791611</td>\n",
       "      <td>79.024744</td>\n",
       "      <td>67.467084</td>\n",
       "      <td>49.497775</td>\n",
       "      <td>37.186349</td>\n",
       "      <td>0.090908</td>\n",
       "    </tr>\n",
       "    <tr>\n",
       "      <th>std</th>\n",
       "      <td>70.769428</td>\n",
       "      <td>83.545299</td>\n",
       "      <td>93.468985</td>\n",
       "      <td>99.787787</td>\n",
       "      <td>100.295541</td>\n",
       "      <td>103.128587</td>\n",
       "      <td>104.129642</td>\n",
       "      <td>103.806258</td>\n",
       "      <td>106.480366</td>\n",
       "      <td>107.572306</td>\n",
       "      <td>...</td>\n",
       "      <td>106.387324</td>\n",
       "      <td>102.402083</td>\n",
       "      <td>103.242319</td>\n",
       "      <td>102.317456</td>\n",
       "      <td>98.440790</td>\n",
       "      <td>97.781003</td>\n",
       "      <td>90.884177</td>\n",
       "      <td>82.706445</td>\n",
       "      <td>72.454911</td>\n",
       "      <td>0.287480</td>\n",
       "    </tr>\n",
       "    <tr>\n",
       "      <th>min</th>\n",
       "      <td>0.000000</td>\n",
       "      <td>0.000000</td>\n",
       "      <td>0.000000</td>\n",
       "      <td>0.000000</td>\n",
       "      <td>0.000000</td>\n",
       "      <td>0.000000</td>\n",
       "      <td>0.000000</td>\n",
       "      <td>0.000000</td>\n",
       "      <td>0.000000</td>\n",
       "      <td>0.000000</td>\n",
       "      <td>...</td>\n",
       "      <td>0.000000</td>\n",
       "      <td>0.000000</td>\n",
       "      <td>0.000000</td>\n",
       "      <td>0.000000</td>\n",
       "      <td>0.000000</td>\n",
       "      <td>0.000000</td>\n",
       "      <td>0.000000</td>\n",
       "      <td>0.000000</td>\n",
       "      <td>0.000000</td>\n",
       "      <td>0.000000</td>\n",
       "    </tr>\n",
       "    <tr>\n",
       "      <th>25%</th>\n",
       "      <td>1.000000</td>\n",
       "      <td>1.000000</td>\n",
       "      <td>1.000000</td>\n",
       "      <td>1.000000</td>\n",
       "      <td>1.000000</td>\n",
       "      <td>1.000000</td>\n",
       "      <td>1.000000</td>\n",
       "      <td>1.000000</td>\n",
       "      <td>1.000000</td>\n",
       "      <td>1.000000</td>\n",
       "      <td>...</td>\n",
       "      <td>1.000000</td>\n",
       "      <td>1.000000</td>\n",
       "      <td>1.000000</td>\n",
       "      <td>1.000000</td>\n",
       "      <td>1.000000</td>\n",
       "      <td>1.000000</td>\n",
       "      <td>1.000000</td>\n",
       "      <td>1.000000</td>\n",
       "      <td>1.000000</td>\n",
       "      <td>0.000000</td>\n",
       "    </tr>\n",
       "    <tr>\n",
       "      <th>50%</th>\n",
       "      <td>1.000000</td>\n",
       "      <td>1.000000</td>\n",
       "      <td>2.000000</td>\n",
       "      <td>18.000000</td>\n",
       "      <td>33.000000</td>\n",
       "      <td>52.000000</td>\n",
       "      <td>67.000000</td>\n",
       "      <td>91.000000</td>\n",
       "      <td>96.000000</td>\n",
       "      <td>104.000000</td>\n",
       "      <td>...</td>\n",
       "      <td>69.000000</td>\n",
       "      <td>73.000000</td>\n",
       "      <td>60.000000</td>\n",
       "      <td>52.000000</td>\n",
       "      <td>26.000000</td>\n",
       "      <td>7.000000</td>\n",
       "      <td>1.000000</td>\n",
       "      <td>1.000000</td>\n",
       "      <td>1.000000</td>\n",
       "      <td>0.000000</td>\n",
       "    </tr>\n",
       "    <tr>\n",
       "      <th>75%</th>\n",
       "      <td>30.000000</td>\n",
       "      <td>80.000000</td>\n",
       "      <td>128.000000</td>\n",
       "      <td>171.000000</td>\n",
       "      <td>181.000000</td>\n",
       "      <td>208.000000</td>\n",
       "      <td>219.000000</td>\n",
       "      <td>226.000000</td>\n",
       "      <td>248.000000</td>\n",
       "      <td>255.000000</td>\n",
       "      <td>...</td>\n",
       "      <td>236.000000</td>\n",
       "      <td>213.000000</td>\n",
       "      <td>207.000000</td>\n",
       "      <td>199.000000</td>\n",
       "      <td>172.000000</td>\n",
       "      <td>163.000000</td>\n",
       "      <td>128.000000</td>\n",
       "      <td>73.000000</td>\n",
       "      <td>24.000000</td>\n",
       "      <td>0.000000</td>\n",
       "    </tr>\n",
       "    <tr>\n",
       "      <th>max</th>\n",
       "      <td>255.000000</td>\n",
       "      <td>255.000000</td>\n",
       "      <td>255.000000</td>\n",
       "      <td>255.000000</td>\n",
       "      <td>255.000000</td>\n",
       "      <td>255.000000</td>\n",
       "      <td>255.000000</td>\n",
       "      <td>255.000000</td>\n",
       "      <td>255.000000</td>\n",
       "      <td>255.000000</td>\n",
       "      <td>...</td>\n",
       "      <td>255.000000</td>\n",
       "      <td>255.000000</td>\n",
       "      <td>255.000000</td>\n",
       "      <td>255.000000</td>\n",
       "      <td>255.000000</td>\n",
       "      <td>255.000000</td>\n",
       "      <td>255.000000</td>\n",
       "      <td>255.000000</td>\n",
       "      <td>255.000000</td>\n",
       "      <td>1.000000</td>\n",
       "    </tr>\n",
       "  </tbody>\n",
       "</table>\n",
       "<p>8 rows × 401 columns</p>\n",
       "</div>"
      ],
      "text/plain": [
       "               r0c0          r0c1          r0c2          r0c3          r0c4  \\\n",
       "count  72139.000000  72139.000000  72139.000000  72139.000000  72139.000000   \n",
       "mean      36.125383     51.473308     70.855279     82.032354     86.869142   \n",
       "std       70.769428     83.545299     93.468985     99.787787    100.295541   \n",
       "min        0.000000      0.000000      0.000000      0.000000      0.000000   \n",
       "25%        1.000000      1.000000      1.000000      1.000000      1.000000   \n",
       "50%        1.000000      1.000000      2.000000     18.000000     33.000000   \n",
       "75%       30.000000     80.000000    128.000000    171.000000    181.000000   \n",
       "max      255.000000    255.000000    255.000000    255.000000    255.000000   \n",
       "\n",
       "               r0c5          r0c6          r0c7          r0c8          r0c9  \\\n",
       "count  72139.000000  72139.000000  72139.000000  72139.000000  72139.000000   \n",
       "mean      96.391730    101.608728    108.712333    115.257752    119.014680   \n",
       "std      103.128587    104.129642    103.806258    106.480366    107.572306   \n",
       "min        0.000000      0.000000      0.000000      0.000000      0.000000   \n",
       "25%        1.000000      1.000000      1.000000      1.000000      1.000000   \n",
       "50%       52.000000     67.000000     91.000000     96.000000    104.000000   \n",
       "75%      208.000000    219.000000    226.000000    248.000000    255.000000   \n",
       "max      255.000000    255.000000    255.000000    255.000000    255.000000   \n",
       "\n",
       "       ...        r19c11        r19c12        r19c13        r19c14  \\\n",
       "count  ...  72139.000000  72139.000000  72139.000000  72139.000000   \n",
       "mean   ...    105.187416    101.996327     98.175689     94.994663   \n",
       "std    ...    106.387324    102.402083    103.242319    102.317456   \n",
       "min    ...      0.000000      0.000000      0.000000      0.000000   \n",
       "25%    ...      1.000000      1.000000      1.000000      1.000000   \n",
       "50%    ...     69.000000     73.000000     60.000000     52.000000   \n",
       "75%    ...    236.000000    213.000000    207.000000    199.000000   \n",
       "max    ...    255.000000    255.000000    255.000000    255.000000   \n",
       "\n",
       "             r19c15        r19c16        r19c17        r19c18        r19c19  \\\n",
       "count  72139.000000  72139.000000  72139.000000  72139.000000  72139.000000   \n",
       "mean      83.791611     79.024744     67.467084     49.497775     37.186349   \n",
       "std       98.440790     97.781003     90.884177     82.706445     72.454911   \n",
       "min        0.000000      0.000000      0.000000      0.000000      0.000000   \n",
       "25%        1.000000      1.000000      1.000000      1.000000      1.000000   \n",
       "50%       26.000000      7.000000      1.000000      1.000000      1.000000   \n",
       "75%      172.000000    163.000000    128.000000     73.000000     24.000000   \n",
       "max      255.000000    255.000000    255.000000    255.000000    255.000000   \n",
       "\n",
       "              label  \n",
       "count  72139.000000  \n",
       "mean       0.090908  \n",
       "std        0.287480  \n",
       "min        0.000000  \n",
       "25%        0.000000  \n",
       "50%        0.000000  \n",
       "75%        0.000000  \n",
       "max        1.000000  \n",
       "\n",
       "[8 rows x 401 columns]"
      ]
     },
     "execution_count": 15,
     "metadata": {},
     "output_type": "execute_result"
    }
   ],
   "source": [
    "ds.describe()"
   ]
  },
  {
   "cell_type": "markdown",
   "metadata": {},
   "source": [
    "## Splitting Training and Testing Data"
   ]
  },
  {
   "cell_type": "code",
   "execution_count": 33,
   "metadata": {},
   "outputs": [],
   "source": [
    "X = ds.drop('label', axis=1)\n",
    "y = ds.label.values\n",
    "\n",
    "x_train, x_test, y_train, y_test = train_test_split(X, y, test_size=0.20, random_state=0)\n"
   ]
  },
  {
   "cell_type": "markdown",
   "metadata": {},
   "source": [
    "## XGBoost (Base)"
   ]
  },
  {
   "cell_type": "code",
   "execution_count": 46,
   "metadata": {},
   "outputs": [
    {
     "data": {
      "text/plain": [
       "XGBClassifier(base_score=0.5, booster='gbtree', colsample_bylevel=1,\n",
       "              colsample_bynode=1, colsample_bytree=1, eval_metric='logloss',\n",
       "              gamma=0, gpu_id=-1, importance_type='gain',\n",
       "              interaction_constraints='', learning_rate=0.300000012,\n",
       "              max_delta_step=0, max_depth=6, min_child_weight=1, missing=nan,\n",
       "              monotone_constraints='()', n_estimators=100, n_jobs=12,\n",
       "              num_parallel_tree=1, random_state=0, reg_alpha=0, reg_lambda=1,\n",
       "              scale_pos_weight=1, subsample=1, tree_method='exact',\n",
       "              use_label_encoder=False, validate_parameters=1, verbosity=None)"
      ]
     },
     "execution_count": 46,
     "metadata": {},
     "output_type": "execute_result"
    }
   ],
   "source": [
    "xgb = xgboost.XGBClassifier(use_label_encoder=False, eval_metric='logloss')\n",
    "xgb.fit(x_train,y_train)\n"
   ]
  },
  {
   "cell_type": "code",
   "execution_count": 47,
   "metadata": {},
   "outputs": [
    {
     "name": "stdout",
     "output_type": "stream",
     "text": [
      "TRAIN RESULT:\n",
      "================================================\n",
      "ACCURACY SCORE: 99.95%\n",
      "_______________________________________________\n",
      "CLASSIFICATION REPORT:\n",
      "                      0            1  accuracy     macro avg  weighted avg\n",
      "precision      0.999695     0.997721  0.999515      0.998708      0.999515\n",
      "recall         0.999771     0.996963  0.999515      0.998367      0.999515\n",
      "f1-score       0.999733     0.997342  0.999515      0.998537      0.999515\n",
      "support    52442.000000  5269.000000  0.999515  57711.000000  57711.000000\n",
      "_______________________________________________\n",
      "CONFUSION MATRIX: \n",
      " [[52430    12]\n",
      " [   16  5253]]\n",
      "\n",
      "_______________________________________________\n",
      "AUC Score: \n",
      " 0.9999885656649199\n",
      "\n"
     ]
    }
   ],
   "source": [
    "print_train_score(xgb, x_train,y_train)\n"
   ]
  },
  {
   "cell_type": "code",
   "execution_count": 48,
   "metadata": {},
   "outputs": [
    {
     "name": "stdout",
     "output_type": "stream",
     "text": [
      "TEST RESULT:\n",
      "================================================\n",
      "ACCURACY SCORE: 97.52%\n",
      "_______________________________________________\n",
      "CLASSIFICATION REPORT:\n",
      "                      0            1  accuracy     macro avg  weighted avg\n",
      "precision      0.978009     0.939566  0.975187      0.958787      0.974574\n",
      "recall         0.995129     0.771916  0.975187      0.883523      0.975187\n",
      "f1-score       0.986495     0.847530  0.975187      0.917012      0.974080\n",
      "support    13139.000000  1289.000000  0.975187  14428.000000  14428.000000\n",
      "_______________________________________________\n",
      "CONFUSION MATRIX: \n",
      " [[13075    64]\n",
      " [  294   995]]\n",
      "\n",
      "_______________________________________________\n",
      "AUC Score: \n",
      " 0.9880131111099434\n",
      "\n"
     ]
    }
   ],
   "source": [
    "print_test_score(xgb, x_test,y_test)\n"
   ]
  },
  {
   "cell_type": "markdown",
   "metadata": {},
   "source": [
    "## XGBoost (Feature Selection)"
   ]
  },
  {
   "cell_type": "code",
   "execution_count": 70,
   "metadata": {},
   "outputs": [
    {
     "name": "stdout",
     "output_type": "stream",
     "text": [
      "Thresh=0.000, n=400, Accuracy: 97.519%, F1-score: 0.848, ROC_AUC: 0.988\n",
      "Thresh=0.000, n=399, Accuracy: 97.449%, F1-score: 0.843, ROC_AUC: 0.989\n",
      "Thresh=0.000, n=398, Accuracy: 97.449%, F1-score: 0.843, ROC_AUC: 0.988\n",
      "Thresh=0.000, n=397, Accuracy: 97.415%, F1-score: 0.840, ROC_AUC: 0.987\n",
      "Thresh=0.001, n=396, Accuracy: 97.540%, F1-score: 0.848, ROC_AUC: 0.988\n",
      "Thresh=0.001, n=395, Accuracy: 97.408%, F1-score: 0.840, ROC_AUC: 0.987\n",
      "Thresh=0.001, n=394, Accuracy: 97.463%, F1-score: 0.844, ROC_AUC: 0.988\n",
      "Thresh=0.001, n=393, Accuracy: 97.533%, F1-score: 0.848, ROC_AUC: 0.988\n",
      "Thresh=0.001, n=392, Accuracy: 97.491%, F1-score: 0.845, ROC_AUC: 0.988\n",
      "Thresh=0.001, n=391, Accuracy: 97.526%, F1-score: 0.847, ROC_AUC: 0.990\n",
      "Thresh=0.001, n=390, Accuracy: 97.456%, F1-score: 0.844, ROC_AUC: 0.989\n",
      "Thresh=0.001, n=389, Accuracy: 97.422%, F1-score: 0.841, ROC_AUC: 0.988\n",
      "Thresh=0.001, n=388, Accuracy: 97.436%, F1-score: 0.841, ROC_AUC: 0.988\n",
      "Thresh=0.001, n=387, Accuracy: 97.491%, F1-score: 0.845, ROC_AUC: 0.988\n",
      "Thresh=0.001, n=386, Accuracy: 97.540%, F1-score: 0.850, ROC_AUC: 0.988\n",
      "Thresh=0.001, n=385, Accuracy: 97.408%, F1-score: 0.840, ROC_AUC: 0.988\n",
      "Thresh=0.001, n=384, Accuracy: 97.373%, F1-score: 0.838, ROC_AUC: 0.988\n",
      "Thresh=0.001, n=383, Accuracy: 97.318%, F1-score: 0.834, ROC_AUC: 0.987\n",
      "Thresh=0.001, n=382, Accuracy: 97.491%, F1-score: 0.845, ROC_AUC: 0.987\n",
      "Thresh=0.001, n=381, Accuracy: 97.352%, F1-score: 0.836, ROC_AUC: 0.988\n",
      "Thresh=0.001, n=380, Accuracy: 97.366%, F1-score: 0.837, ROC_AUC: 0.988\n",
      "Thresh=0.001, n=379, Accuracy: 97.373%, F1-score: 0.838, ROC_AUC: 0.987\n",
      "Thresh=0.001, n=378, Accuracy: 97.345%, F1-score: 0.836, ROC_AUC: 0.986\n",
      "Thresh=0.001, n=377, Accuracy: 97.408%, F1-score: 0.840, ROC_AUC: 0.987\n",
      "Thresh=0.001, n=376, Accuracy: 97.387%, F1-score: 0.838, ROC_AUC: 0.988\n",
      "Thresh=0.001, n=375, Accuracy: 97.332%, F1-score: 0.834, ROC_AUC: 0.988\n",
      "Thresh=0.001, n=374, Accuracy: 97.401%, F1-score: 0.839, ROC_AUC: 0.988\n",
      "Thresh=0.001, n=373, Accuracy: 97.422%, F1-score: 0.840, ROC_AUC: 0.988\n",
      "Thresh=0.001, n=372, Accuracy: 97.477%, F1-score: 0.845, ROC_AUC: 0.989\n",
      "Thresh=0.001, n=371, Accuracy: 97.304%, F1-score: 0.833, ROC_AUC: 0.988\n",
      "Thresh=0.001, n=370, Accuracy: 97.512%, F1-score: 0.847, ROC_AUC: 0.987\n",
      "Thresh=0.001, n=369, Accuracy: 97.463%, F1-score: 0.844, ROC_AUC: 0.988\n",
      "Thresh=0.001, n=368, Accuracy: 97.470%, F1-score: 0.844, ROC_AUC: 0.986\n",
      "Thresh=0.001, n=367, Accuracy: 97.345%, F1-score: 0.836, ROC_AUC: 0.988\n",
      "Thresh=0.001, n=366, Accuracy: 97.394%, F1-score: 0.840, ROC_AUC: 0.988\n",
      "Thresh=0.001, n=365, Accuracy: 97.394%, F1-score: 0.839, ROC_AUC: 0.988\n",
      "Thresh=0.001, n=364, Accuracy: 97.373%, F1-score: 0.838, ROC_AUC: 0.988\n",
      "Thresh=0.001, n=363, Accuracy: 97.366%, F1-score: 0.837, ROC_AUC: 0.987\n",
      "Thresh=0.001, n=362, Accuracy: 97.429%, F1-score: 0.842, ROC_AUC: 0.988\n",
      "Thresh=0.001, n=361, Accuracy: 97.422%, F1-score: 0.840, ROC_AUC: 0.989\n",
      "Thresh=0.001, n=360, Accuracy: 97.311%, F1-score: 0.833, ROC_AUC: 0.988\n",
      "Thresh=0.001, n=359, Accuracy: 97.429%, F1-score: 0.841, ROC_AUC: 0.987\n",
      "Thresh=0.001, n=358, Accuracy: 97.449%, F1-score: 0.842, ROC_AUC: 0.987\n",
      "Thresh=0.001, n=357, Accuracy: 97.290%, F1-score: 0.833, ROC_AUC: 0.987\n",
      "Thresh=0.001, n=356, Accuracy: 97.325%, F1-score: 0.833, ROC_AUC: 0.988\n",
      "Thresh=0.001, n=355, Accuracy: 97.415%, F1-score: 0.841, ROC_AUC: 0.989\n",
      "Thresh=0.001, n=354, Accuracy: 97.366%, F1-score: 0.838, ROC_AUC: 0.988\n",
      "Thresh=0.001, n=353, Accuracy: 97.380%, F1-score: 0.838, ROC_AUC: 0.988\n",
      "Thresh=0.001, n=352, Accuracy: 97.442%, F1-score: 0.842, ROC_AUC: 0.988\n",
      "Thresh=0.001, n=351, Accuracy: 97.526%, F1-score: 0.848, ROC_AUC: 0.986\n"
     ]
    }
   ],
   "source": [
    "thresholds = sort(xgb.feature_importances_)\n",
    "store = {}\n",
    "\n",
    "for thresh in thresholds[:50]:\n",
    "    selection = SelectFromModel(xgb, threshold=thresh, prefit=True)\n",
    "    select_x_train = selection.transform(x_train)\n",
    "    selection_model = xgboost.XGBClassifier(use_label_encoder=False, eval_metric='logloss')\n",
    "    selection_model.fit(select_x_train, y_train)\n",
    "    select_x_test = selection.transform(x_test)\n",
    "    predictions = selection_model.predict(select_x_test)\n",
    "    accuracy = accuracy_score(y_test, predictions)\n",
    "    f1 = f1_score(y_test,predictions)\n",
    "    n = select_x_train.shape[1]\n",
    "    roc_auc = roc_auc_score(y_test, selection_model.predict_proba(select_x_test)[:, 1])\n",
    "    store[n] = {\"Threshold\": thresh, \"Accuracy\": accuracy, \"F1-Score\": f1, \"ROC_AUC\": roc_auc, \"Model\": selection_model, \"Selection\": selection}\n",
    "    print(\"Thresh=%.3f, n=%d, Accuracy: %.3f%%, F1-score: %.3f, ROC_AUC: %.3f\" % (thresh, n , accuracy*100.0, f1, roc_auc))\n",
    "    \n"
   ]
  },
  {
   "cell_type": "code",
   "execution_count": 76,
   "metadata": {},
   "outputs": [],
   "source": [
    "thresh_re = pd.DataFrame(store).T"
   ]
  },
  {
   "cell_type": "code",
   "execution_count": 133,
   "metadata": {},
   "outputs": [
    {
     "data": {
      "text/html": [
       "<div>\n",
       "<style scoped>\n",
       "    .dataframe tbody tr th:only-of-type {\n",
       "        vertical-align: middle;\n",
       "    }\n",
       "\n",
       "    .dataframe tbody tr th {\n",
       "        vertical-align: top;\n",
       "    }\n",
       "\n",
       "    .dataframe thead th {\n",
       "        text-align: right;\n",
       "    }\n",
       "</style>\n",
       "<table border=\"1\" class=\"dataframe\">\n",
       "  <thead>\n",
       "    <tr style=\"text-align: right;\">\n",
       "      <th></th>\n",
       "      <th>Threshold</th>\n",
       "      <th>Accuracy</th>\n",
       "      <th>F1-Score</th>\n",
       "      <th>ROC_AUC</th>\n",
       "      <th>Model</th>\n",
       "      <th>Selection</th>\n",
       "      <th>Accuracy\\t</th>\n",
       "    </tr>\n",
       "  </thead>\n",
       "  <tbody>\n",
       "    <tr>\n",
       "      <th>400</th>\n",
       "      <td>0.000397</td>\n",
       "      <td>0.975187</td>\n",
       "      <td>0.847530</td>\n",
       "      <td>0.988013</td>\n",
       "      <td>XGBClassifier(base_score=0.5, booster='gbtree'...</td>\n",
       "      <td>SelectFromModel(estimator=XGBClassifier(base_s...</td>\n",
       "      <td>0.975187</td>\n",
       "    </tr>\n",
       "    <tr>\n",
       "      <th>399</th>\n",
       "      <td>0.000409</td>\n",
       "      <td>0.974494</td>\n",
       "      <td>0.842601</td>\n",
       "      <td>0.988947</td>\n",
       "      <td>XGBClassifier(base_score=0.5, booster='gbtree'...</td>\n",
       "      <td>SelectFromModel(estimator=XGBClassifier(base_s...</td>\n",
       "      <td>0.974494</td>\n",
       "    </tr>\n",
       "    <tr>\n",
       "      <th>398</th>\n",
       "      <td>0.000420</td>\n",
       "      <td>0.974494</td>\n",
       "      <td>0.843137</td>\n",
       "      <td>0.988064</td>\n",
       "      <td>XGBClassifier(base_score=0.5, booster='gbtree'...</td>\n",
       "      <td>SelectFromModel(estimator=XGBClassifier(base_s...</td>\n",
       "      <td>0.974494</td>\n",
       "    </tr>\n",
       "    <tr>\n",
       "      <th>397</th>\n",
       "      <td>0.000437</td>\n",
       "      <td>0.974147</td>\n",
       "      <td>0.840394</td>\n",
       "      <td>0.987188</td>\n",
       "      <td>XGBClassifier(base_score=0.5, booster='gbtree'...</td>\n",
       "      <td>SelectFromModel(estimator=XGBClassifier(base_s...</td>\n",
       "      <td>0.974147</td>\n",
       "    </tr>\n",
       "    <tr>\n",
       "      <th>396</th>\n",
       "      <td>0.000511</td>\n",
       "      <td>0.975395</td>\n",
       "      <td>0.848485</td>\n",
       "      <td>0.988470</td>\n",
       "      <td>XGBClassifier(base_score=0.5, booster='gbtree'...</td>\n",
       "      <td>SelectFromModel(estimator=XGBClassifier(base_s...</td>\n",
       "      <td>0.975395</td>\n",
       "    </tr>\n",
       "  </tbody>\n",
       "</table>\n",
       "</div>"
      ],
      "text/plain": [
       "     Threshold  Accuracy  F1-Score   ROC_AUC  \\\n",
       "400   0.000397  0.975187  0.847530  0.988013   \n",
       "399   0.000409  0.974494  0.842601  0.988947   \n",
       "398   0.000420  0.974494  0.843137  0.988064   \n",
       "397   0.000437  0.974147  0.840394  0.987188   \n",
       "396   0.000511  0.975395  0.848485  0.988470   \n",
       "\n",
       "                                                 Model  \\\n",
       "400  XGBClassifier(base_score=0.5, booster='gbtree'...   \n",
       "399  XGBClassifier(base_score=0.5, booster='gbtree'...   \n",
       "398  XGBClassifier(base_score=0.5, booster='gbtree'...   \n",
       "397  XGBClassifier(base_score=0.5, booster='gbtree'...   \n",
       "396  XGBClassifier(base_score=0.5, booster='gbtree'...   \n",
       "\n",
       "                                             Selection  Accuracy\\t  \n",
       "400  SelectFromModel(estimator=XGBClassifier(base_s...    0.975187  \n",
       "399  SelectFromModel(estimator=XGBClassifier(base_s...    0.974494  \n",
       "398  SelectFromModel(estimator=XGBClassifier(base_s...    0.974494  \n",
       "397  SelectFromModel(estimator=XGBClassifier(base_s...    0.974147  \n",
       "396  SelectFromModel(estimator=XGBClassifier(base_s...    0.975395  "
      ]
     },
     "execution_count": 133,
     "metadata": {},
     "output_type": "execute_result"
    }
   ],
   "source": [
    "thresh_re.head()"
   ]
  },
  {
   "cell_type": "code",
   "execution_count": 123,
   "metadata": {},
   "outputs": [],
   "source": [
    "thresh_re['ROC_AUC'] =pd.to_numeric(thresh_re['ROC_AUC'])\n",
    "thresh_re['Threshold'] =pd.to_numeric(thresh_re['Threshold'])\n",
    "thresh_re['Accuracy'] =pd.to_numeric(thresh_re['Accuracy'])\n",
    "thresh_re['F1-Score'] =pd.to_numeric(thresh_re['F1-Score'])"
   ]
  },
  {
   "cell_type": "code",
   "execution_count": 124,
   "metadata": {},
   "outputs": [
    {
     "data": {
      "text/plain": [
       "Threshold                                              0.000511\n",
       "Accuracy                                               0.975395\n",
       "F1-Score                                               0.848485\n",
       "ROC_AUC                                                 0.98847\n",
       "Model         XGBClassifier(base_score=0.5, booster='gbtree'...\n",
       "Selection     SelectFromModel(estimator=XGBClassifier(base_s...\n",
       "Accuracy\\t                                             0.975395\n",
       "Name: 396, dtype: object"
      ]
     },
     "execution_count": 124,
     "metadata": {},
     "output_type": "execute_result"
    }
   ],
   "source": [
    "best_thresh = thresh_re.loc[thresh_re['Accuracy'].idxmax()]\n",
    "best_thresh"
   ]
  },
  {
   "cell_type": "code",
   "execution_count": 88,
   "metadata": {},
   "outputs": [],
   "source": [
    "best_select = store[391][\"Selection\"]\n",
    "best_model = store[391][\"Model\"]\n"
   ]
  },
  {
   "cell_type": "markdown",
   "metadata": {},
   "source": [
    "## Neural Networks"
   ]
  },
  {
   "cell_type": "code",
   "execution_count": 193,
   "metadata": {},
   "outputs": [],
   "source": [
    "\n",
    "nn_model = tf.keras.Sequential([\n",
    "    #layers.InputLayer(input_shape=(None,), dtype=\"float\"),\n",
    "    layers.Dropout(0.5),\n",
    "    layers.Conv1D(256, 7, padding=\"valid\", activation=\"relu\", strides = 3),\n",
    "    layers.Conv1D(128, 7, padding=\"valid\", activation=\"relu\", strides = 2),\n",
    "    layers.GlobalMaxPooling1D(),\n",
    "    layers.Dense(128, activation=\"relu\"),\n",
    "    layers.Dropout(0.5),\n",
    "    layers.Dense(1, activation=\"sigmoid\", name=\"predictions\")\n",
    "])\n",
    "\n"
   ]
  },
  {
   "cell_type": "code",
   "execution_count": 223,
   "metadata": {},
   "outputs": [],
   "source": [
    "nn_model = tf.keras.Sequential([\n",
    "    #layers.InputLayer(input_shape=(None,), dtype=\"float\"),\n",
    "    layers.Dense(256, activation=\"relu\"),\n",
    "    layers.Dropout(0.3),\n",
    "    layers.Dense(256, activation=\"relu\"),\n",
    "    layers.Dropout(0.3),\n",
    "    layers.Dense(128, activation=\"relu\"),\n",
    "    layers.Dropout(0.3),\n",
    "    layers.Dense(128, activation=\"relu\"),\n",
    "    layers.Dropout(0.3),\n",
    "    layers.Dense(64, activation=\"relu\"),\n",
    "    layers.Dropout(0.3),\n",
    "    layers.Dense(1, activation=\"sigmoid\", name=\"predictions\")\n",
    "])"
   ]
  },
  {
   "cell_type": "code",
   "execution_count": 224,
   "metadata": {},
   "outputs": [],
   "source": [
    "nn_model.compile(loss='binary_crossentropy',\n",
    "              optimizer=\"adam\",\n",
    "              metrics=['accuracy', 'AUC'])"
   ]
  },
  {
   "cell_type": "code",
   "execution_count": 215,
   "metadata": {},
   "outputs": [],
   "source": [
    "callbacks = [ ReduceLROnPlateau(monitor='val_loss', patience=5, cooldown=0),\n",
    "              EarlyStopping(monitor='val_accuracy', min_delta=1e-4, patience=5)]"
   ]
  },
  {
   "cell_type": "code",
   "execution_count": 225,
   "metadata": {},
   "outputs": [
    {
     "name": "stdout",
     "output_type": "stream",
     "text": [
      "Epoch 1/128\n",
      "812/812 [==============================] - 8s 8ms/step - loss: 0.9082 - accuracy: 0.8827 - auc: 0.5441 - val_loss: 0.2978 - val_accuracy: 0.9085 - val_auc: 0.7626\n",
      "Epoch 2/128\n",
      "812/812 [==============================] - 6s 7ms/step - loss: 0.2973 - accuracy: 0.9079 - auc: 0.6826 - val_loss: 0.2494 - val_accuracy: 0.9085 - val_auc: 0.8464\n",
      "Epoch 3/128\n",
      "812/812 [==============================] - 8s 9ms/step - loss: 0.2613 - accuracy: 0.9084 - auc: 0.7919 - val_loss: 0.2277 - val_accuracy: 0.9085 - val_auc: 0.8774\n",
      "Epoch 4/128\n",
      "812/812 [==============================] - 8s 10ms/step - loss: 0.2398 - accuracy: 0.9136 - auc: 0.8373 - val_loss: 0.1928 - val_accuracy: 0.9208 - val_auc: 0.9118\n",
      "Epoch 5/128\n",
      "812/812 [==============================] - 8s 10ms/step - loss: 0.2122 - accuracy: 0.9240 - auc: 0.8732 - val_loss: 0.1739 - val_accuracy: 0.9324 - val_auc: 0.9262\n",
      "Epoch 6/128\n",
      "812/812 [==============================] - 8s 9ms/step - loss: 0.1957 - accuracy: 0.9325 - auc: 0.8898 - val_loss: 0.2025 - val_accuracy: 0.9494 - val_auc: 0.9348\n",
      "Epoch 7/128\n",
      "812/812 [==============================] - 8s 10ms/step - loss: 0.1835 - accuracy: 0.9370 - auc: 0.9029 - val_loss: 0.1820 - val_accuracy: 0.9439 - val_auc: 0.9320\n",
      "Epoch 8/128\n",
      "812/812 [==============================] - 8s 10ms/step - loss: 0.1783 - accuracy: 0.9398 - auc: 0.9103 - val_loss: 0.1678 - val_accuracy: 0.9492 - val_auc: 0.9415\n",
      "Epoch 9/128\n",
      "812/812 [==============================] - 9s 11ms/step - loss: 0.1661 - accuracy: 0.9428 - auc: 0.9214 - val_loss: 0.1510 - val_accuracy: 0.9494 - val_auc: 0.9438\n",
      "Epoch 10/128\n",
      "812/812 [==============================] - 9s 11ms/step - loss: 0.1655 - accuracy: 0.9446 - auc: 0.9211 - val_loss: 0.1403 - val_accuracy: 0.9543 - val_auc: 0.9575\n",
      "Epoch 11/128\n",
      "812/812 [==============================] - 9s 11ms/step - loss: 0.1559 - accuracy: 0.9499 - auc: 0.9289 - val_loss: 0.1442 - val_accuracy: 0.9551 - val_auc: 0.9588\n",
      "Epoch 12/128\n",
      "812/812 [==============================] - 9s 11ms/step - loss: 0.1504 - accuracy: 0.9509 - auc: 0.9325 - val_loss: 0.1379 - val_accuracy: 0.9489 - val_auc: 0.9597\n",
      "Epoch 13/128\n",
      "812/812 [==============================] - 8s 10ms/step - loss: 0.1455 - accuracy: 0.9528 - auc: 0.9381 - val_loss: 0.1417 - val_accuracy: 0.9513 - val_auc: 0.9561\n",
      "Epoch 14/128\n",
      "812/812 [==============================] - 8s 10ms/step - loss: 0.1388 - accuracy: 0.9539 - auc: 0.9428 - val_loss: 0.1296 - val_accuracy: 0.9567 - val_auc: 0.9643\n",
      "Epoch 15/128\n",
      "812/812 [==============================] - 9s 11ms/step - loss: 0.1312 - accuracy: 0.9564 - auc: 0.9502 - val_loss: 0.1278 - val_accuracy: 0.9600 - val_auc: 0.9664\n",
      "Epoch 16/128\n",
      "812/812 [==============================] - 8s 10ms/step - loss: 0.1365 - accuracy: 0.9544 - auc: 0.9478 - val_loss: 0.1562 - val_accuracy: 0.9574 - val_auc: 0.9616\n",
      "Epoch 17/128\n",
      "812/812 [==============================] - 9s 11ms/step - loss: 0.1292 - accuracy: 0.9569 - auc: 0.9538 - val_loss: 0.1113 - val_accuracy: 0.9626 - val_auc: 0.9685\n",
      "Epoch 18/128\n",
      "812/812 [==============================] - 9s 11ms/step - loss: 0.1275 - accuracy: 0.9575 - auc: 0.9539 - val_loss: 0.1109 - val_accuracy: 0.9621 - val_auc: 0.9691\n",
      "Epoch 19/128\n",
      "812/812 [==============================] - 8s 10ms/step - loss: 0.1239 - accuracy: 0.9586 - auc: 0.9562 - val_loss: 0.1595 - val_accuracy: 0.9300 - val_auc: 0.9689\n",
      "Epoch 20/128\n",
      "812/812 [==============================] - 8s 10ms/step - loss: 0.1227 - accuracy: 0.9605 - auc: 0.9571 - val_loss: 0.1147 - val_accuracy: 0.9584 - val_auc: 0.9638\n",
      "Epoch 21/128\n",
      "812/812 [==============================] - 8s 10ms/step - loss: 0.1170 - accuracy: 0.9612 - auc: 0.9616 - val_loss: 0.1193 - val_accuracy: 0.9612 - val_auc: 0.9595\n",
      "Epoch 22/128\n",
      "812/812 [==============================] - 8s 10ms/step - loss: 0.1169 - accuracy: 0.9621 - auc: 0.9603 - val_loss: 0.1142 - val_accuracy: 0.9553 - val_auc: 0.9714\n"
     ]
    }
   ],
   "source": [
    "BATCH_SIZE = 64\n",
    "EPOCHS = 128\n",
    "\n",
    "history = nn_model.fit(x_train, y_train,\n",
    "                    batch_size=BATCH_SIZE,\n",
    "                    epochs=EPOCHS,\n",
    "                    validation_split=0.1,\n",
    "                    verbose=1,\n",
    "                    callbacks=callbacks)"
   ]
  },
  {
   "cell_type": "code",
   "execution_count": 229,
   "metadata": {},
   "outputs": [
    {
     "name": "stdout",
     "output_type": "stream",
     "text": [
      "226/226 [==============================] - 1s 5ms/step - loss: 0.1100 - accuracy: 0.9582 - auc: 0.9733\n"
     ]
    }
   ],
   "source": [
    "score = nn_model.evaluate(x_test, y_test, batch_size=BATCH_SIZE)\n"
   ]
  },
  {
   "cell_type": "markdown",
   "metadata": {},
   "source": [
    "# Testing on Test Data"
   ]
  },
  {
   "cell_type": "code",
   "execution_count": 131,
   "metadata": {},
   "outputs": [],
   "source": [
    "test_ds = pd.read_csv(\"test.csv\")\n",
    "Id = test_ds['Id'][:]\n",
    "test_ds = test_ds.drop(\"Id\", axis=1)"
   ]
  },
  {
   "cell_type": "code",
   "execution_count": null,
   "metadata": {},
   "outputs": [],
   "source": []
  },
  {
   "cell_type": "markdown",
   "metadata": {},
   "source": [
    "## XGB with 391 Features"
   ]
  },
  {
   "cell_type": "code",
   "execution_count": 132,
   "metadata": {},
   "outputs": [
    {
     "data": {
      "text/plain": [
       "True"
      ]
     },
     "execution_count": 132,
     "metadata": {},
     "output_type": "execute_result"
    }
   ],
   "source": [
    "test_transform = best_select.transform(test_ds)\n",
    "predictions = best_model.predict(test_transform)\n",
    "predict_to_csv(best_model, test_transform,\"predictions_xgb_391\")"
   ]
  },
  {
   "cell_type": "markdown",
   "metadata": {},
   "source": [
    "## XGB with all Features"
   ]
  },
  {
   "cell_type": "code",
   "execution_count": 130,
   "metadata": {},
   "outputs": [
    {
     "data": {
      "text/plain": [
       "True"
      ]
     },
     "execution_count": 130,
     "metadata": {},
     "output_type": "execute_result"
    }
   ],
   "source": [
    "predict_to_csv(xgb,test_ds,\"predictions_xgb\")"
   ]
  },
  {
   "cell_type": "code",
   "execution_count": 230,
   "metadata": {},
   "outputs": [
    {
     "data": {
      "text/plain": [
       "True"
      ]
     },
     "execution_count": 230,
     "metadata": {},
     "output_type": "execute_result"
    }
   ],
   "source": [
    "predict_to_csv(nn_model,test_ds,\"prediction_nn1\")"
   ]
  }
 ],
 "metadata": {
  "interpreter": {
   "hash": "c61f45fa4287766d1fe49b974af5d77a1d3358a56f5db6d660bceae78d85026e"
  },
  "kernelspec": {
   "display_name": "Python 3.8.11 64-bit ('gpuEnv': conda)",
   "name": "python3"
  },
  "language_info": {
   "codemirror_mode": {
    "name": "ipython",
    "version": 3
   },
   "file_extension": ".py",
   "mimetype": "text/x-python",
   "name": "python",
   "nbconvert_exporter": "python",
   "pygments_lexer": "ipython3",
   "version": "3.8.11"
  },
  "orig_nbformat": 4
 },
 "nbformat": 4,
 "nbformat_minor": 2
}
