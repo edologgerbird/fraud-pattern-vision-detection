{
 "cells": [
  {
   "cell_type": "markdown",
   "metadata": {},
   "source": [
    "# BT4012 Kaggle Competition\n",
    "\n",
    "Author: Loh Hong Tak Edmund\n",
    "\n",
    "Python Version: 3.8.11"
   ]
  },
  {
   "cell_type": "markdown",
   "metadata": {},
   "source": [
    "# plan:\n",
    "\n",
    "- EDA\n",
    "- Train-Test Split\n",
    "- Oversampling \n",
    "    - SMOTE-EN\n",
    "    - ADASYN\n",
    "    - BorderlineSMOTE\n",
    "    - SVMSMOTE\n",
    "- Neural Networks\n",
    "    - Vanila NN\n",
    "    - CNN (3 layer)\n",
    "    - CNN (5 layer)\n",
    "- Ensemble Methods\n",
    "    - XGBoost\n",
    "    - RandomForest\n",
    "    - Logistic Regression\n",
    "    - MNB"
   ]
  },
  {
   "cell_type": "markdown",
   "metadata": {},
   "source": [
    "## Importing packages"
   ]
  },
  {
   "cell_type": "code",
   "execution_count": 6,
   "metadata": {},
   "outputs": [
    {
     "name": "stdout",
     "output_type": "stream",
     "text": [
      "Collecting xgboost\n",
      "  Using cached xgboost-1.4.2-py3-none-win_amd64.whl (97.8 MB)\n",
      "Requirement already satisfied: scipy in c:\\users\\edmun\\anaconda3\\envs\\gpuenv\\lib\\site-packages (from xgboost) (1.7.1)\n",
      "Requirement already satisfied: numpy in c:\\users\\edmun\\anaconda3\\envs\\gpuenv\\lib\\site-packages (from xgboost) (1.19.5)\n",
      "Installing collected packages: xgboost\n",
      "Successfully installed xgboost-1.4.2\n"
     ]
    }
   ],
   "source": [
    "!pip install xgboost"
   ]
  },
  {
   "cell_type": "code",
   "execution_count": 1,
   "metadata": {},
   "outputs": [],
   "source": [
    "# Loading Packages\n",
    "\n",
    "# EDA\n",
    "import pandas as pd\n",
    "import matplotlib.pyplot as plt\n",
    "import plotly.express as px\n",
    "import numpy as np\n",
    "from numpy import sort\n",
    "from collections import Counter\n",
    "\n",
    "# Machine Learning\n",
    "from sklearn.model_selection import train_test_split\n",
    "from sklearn.linear_model import LogisticRegression\n",
    "from sklearn.svm import LinearSVC, SVC\n",
    "from sklearn.feature_selection import RFE, SelectFromModel\n",
    "from sklearn.metrics import accuracy_score, f1_score, classification_report, confusion_matrix, roc_curve, auc, log_loss, roc_auc_score \n",
    "from sklearn.preprocessing import MinMaxScaler\n",
    "from sklearn.ensemble import RandomForestClassifier\n",
    "from sklearn.model_selection import RepeatedStratifiedKFold, GridSearchCV\n",
    "import xgboost\n",
    "\n",
    "# Deep Learning\n",
    "import tensorflow as tf\n",
    "from tensorflow import keras\n",
    "from keras.preprocessing.text import Tokenizer\n",
    "from keras.preprocessing.sequence import pad_sequences\n",
    "from keras.models import Sequential\n",
    "from keras import layers\n",
    "from keras import utils\n",
    "from keras.callbacks import ReduceLROnPlateau, EarlyStopping\n",
    "from keras.regularizers import l2\n",
    "from keras.preprocessing.image import ImageDataGenerator\n",
    "\n",
    "# Settings\n",
    "import pickle\n",
    "import warnings\n",
    "warnings.filterwarnings(\"ignore\")"
   ]
  },
  {
   "cell_type": "markdown",
   "metadata": {},
   "source": [
    "## Helper Functions"
   ]
  },
  {
   "cell_type": "code",
   "execution_count": 2,
   "metadata": {},
   "outputs": [],
   "source": [
    "def getRFEfeatures(model, x, y, n_features_to_select):\n",
    "    rfe = RFE(model, n_features_to_select)\n",
    "    rfe = rfe.fit(x,y)\n",
    "    selected_features = list(x.columns[rfe.support_])\n",
    "    print('Selected features: %s' % selected_features)\n",
    "    return selected_features\n",
    "\n",
    "def get_auc(model, x, y):\n",
    "    y_pred_proba = model.predict_proba(x)[:,1]\n",
    "    [fpr, tpr, thr] = roc_curve(y, y_pred_proba)\n",
    "    return auc(fpr, tpr)\n",
    "\n",
    "def get_logloss(model, x, y):\n",
    "    y_pred_proba = model.predict_proba(x)[:,1]\n",
    "    return log_loss(y, y_pred_proba)\n",
    "\n",
    "def print_train_score(model, x_train, y_train, auc=True):\n",
    "    pred = model.predict(x_train)\n",
    "    model_report = pd.DataFrame(classification_report(y_train, pred, output_dict=True))\n",
    "    print(\"TRAIN RESULT:\\n================================================\")\n",
    "    print(f\"ACCURACY SCORE: {accuracy_score(y_train, pred) * 100:.2f}%\")\n",
    "    print(\"_______________________________________________\")\n",
    "    print(f\"CLASSIFICATION REPORT:\\n{model_report}\")\n",
    "    print(\"_______________________________________________\")\n",
    "    print(f\"CONFUSION MATRIX: \\n {confusion_matrix(y_train, pred)}\\n\")\n",
    "    if auc:\n",
    "        print(\"_______________________________________________\")\n",
    "        print(f\"AUC Score: \\n {get_auc(model, x_train, y_train)}\\n\")\n",
    "    \n",
    "def print_test_score(model, x_test, y_test, auc=True):\n",
    "    pred = model.predict(x_test)\n",
    "    model_report = pd.DataFrame(classification_report(y_test, pred, output_dict=True))\n",
    "    print(\"TEST RESULT:\\n================================================\")\n",
    "    print(f\"ACCURACY SCORE: {accuracy_score(y_test, pred) * 100:.2f}%\")\n",
    "    print(\"_______________________________________________\")\n",
    "    print(f\"CLASSIFICATION REPORT:\\n{model_report}\")\n",
    "    print(\"_______________________________________________\")\n",
    "    print(f\"CONFUSION MATRIX: \\n {confusion_matrix(y_test, pred)}\\n\")\n",
    "    if auc:\n",
    "        print(\"_______________________________________________\")\n",
    "        print(f\"AUC Score: \\n {get_auc(model, x_test, y_test)}\\n\")\n",
    "\n",
    "def predict_to_csv(model,ds,name):\n",
    "    pred = model.predict(ds)\n",
    "    pred_df = pd.DataFrame({'Id':Id, 'Predicted':pred}, columns=['Id', 'Predicted'])\n",
    "    pred_df.to_csv('%s.csv'%(name), index=False)\n",
    "    return True"
   ]
  },
  {
   "cell_type": "markdown",
   "metadata": {},
   "source": [
    "## Loading Dataset"
   ]
  },
  {
   "cell_type": "code",
   "execution_count": 3,
   "metadata": {},
   "outputs": [],
   "source": [
    "ds = pd.read_csv('train.csv')\n",
    "ds = ds.drop_duplicates()"
   ]
  },
  {
   "cell_type": "code",
   "execution_count": 5,
   "metadata": {},
   "outputs": [
    {
     "data": {
      "text/html": [
       "<div>\n",
       "<style scoped>\n",
       "    .dataframe tbody tr th:only-of-type {\n",
       "        vertical-align: middle;\n",
       "    }\n",
       "\n",
       "    .dataframe tbody tr th {\n",
       "        vertical-align: top;\n",
       "    }\n",
       "\n",
       "    .dataframe thead th {\n",
       "        text-align: right;\n",
       "    }\n",
       "</style>\n",
       "<table border=\"1\" class=\"dataframe\">\n",
       "  <thead>\n",
       "    <tr style=\"text-align: right;\">\n",
       "      <th></th>\n",
       "      <th>r0c0</th>\n",
       "      <th>r0c1</th>\n",
       "      <th>r0c2</th>\n",
       "      <th>r0c3</th>\n",
       "      <th>r0c4</th>\n",
       "      <th>r0c5</th>\n",
       "      <th>r0c6</th>\n",
       "      <th>r0c7</th>\n",
       "      <th>r0c8</th>\n",
       "      <th>r0c9</th>\n",
       "      <th>...</th>\n",
       "      <th>r19c11</th>\n",
       "      <th>r19c12</th>\n",
       "      <th>r19c13</th>\n",
       "      <th>r19c14</th>\n",
       "      <th>r19c15</th>\n",
       "      <th>r19c16</th>\n",
       "      <th>r19c17</th>\n",
       "      <th>r19c18</th>\n",
       "      <th>r19c19</th>\n",
       "      <th>label</th>\n",
       "    </tr>\n",
       "  </thead>\n",
       "  <tbody>\n",
       "    <tr>\n",
       "      <th>0</th>\n",
       "      <td>1</td>\n",
       "      <td>1</td>\n",
       "      <td>1</td>\n",
       "      <td>1</td>\n",
       "      <td>28</td>\n",
       "      <td>43</td>\n",
       "      <td>52</td>\n",
       "      <td>255</td>\n",
       "      <td>255</td>\n",
       "      <td>255</td>\n",
       "      <td>...</td>\n",
       "      <td>191</td>\n",
       "      <td>255</td>\n",
       "      <td>52</td>\n",
       "      <td>34</td>\n",
       "      <td>1</td>\n",
       "      <td>1</td>\n",
       "      <td>1</td>\n",
       "      <td>1</td>\n",
       "      <td>1</td>\n",
       "      <td>0</td>\n",
       "    </tr>\n",
       "    <tr>\n",
       "      <th>1</th>\n",
       "      <td>1</td>\n",
       "      <td>1</td>\n",
       "      <td>1</td>\n",
       "      <td>1</td>\n",
       "      <td>1</td>\n",
       "      <td>1</td>\n",
       "      <td>1</td>\n",
       "      <td>1</td>\n",
       "      <td>1</td>\n",
       "      <td>1</td>\n",
       "      <td>...</td>\n",
       "      <td>1</td>\n",
       "      <td>1</td>\n",
       "      <td>1</td>\n",
       "      <td>1</td>\n",
       "      <td>1</td>\n",
       "      <td>1</td>\n",
       "      <td>1</td>\n",
       "      <td>1</td>\n",
       "      <td>1</td>\n",
       "      <td>0</td>\n",
       "    </tr>\n",
       "    <tr>\n",
       "      <th>2</th>\n",
       "      <td>1</td>\n",
       "      <td>1</td>\n",
       "      <td>128</td>\n",
       "      <td>255</td>\n",
       "      <td>255</td>\n",
       "      <td>255</td>\n",
       "      <td>255</td>\n",
       "      <td>255</td>\n",
       "      <td>255</td>\n",
       "      <td>255</td>\n",
       "      <td>...</td>\n",
       "      <td>255</td>\n",
       "      <td>255</td>\n",
       "      <td>255</td>\n",
       "      <td>255</td>\n",
       "      <td>255</td>\n",
       "      <td>255</td>\n",
       "      <td>128</td>\n",
       "      <td>1</td>\n",
       "      <td>1</td>\n",
       "      <td>0</td>\n",
       "    </tr>\n",
       "    <tr>\n",
       "      <th>3</th>\n",
       "      <td>53</td>\n",
       "      <td>54</td>\n",
       "      <td>61</td>\n",
       "      <td>91</td>\n",
       "      <td>141</td>\n",
       "      <td>172</td>\n",
       "      <td>197</td>\n",
       "      <td>223</td>\n",
       "      <td>233</td>\n",
       "      <td>246</td>\n",
       "      <td>...</td>\n",
       "      <td>184</td>\n",
       "      <td>185</td>\n",
       "      <td>187</td>\n",
       "      <td>169</td>\n",
       "      <td>147</td>\n",
       "      <td>106</td>\n",
       "      <td>82</td>\n",
       "      <td>34</td>\n",
       "      <td>23</td>\n",
       "      <td>1</td>\n",
       "    </tr>\n",
       "    <tr>\n",
       "      <th>4</th>\n",
       "      <td>46</td>\n",
       "      <td>46</td>\n",
       "      <td>46</td>\n",
       "      <td>46</td>\n",
       "      <td>36</td>\n",
       "      <td>36</td>\n",
       "      <td>41</td>\n",
       "      <td>41</td>\n",
       "      <td>41</td>\n",
       "      <td>41</td>\n",
       "      <td>...</td>\n",
       "      <td>38</td>\n",
       "      <td>65</td>\n",
       "      <td>65</td>\n",
       "      <td>95</td>\n",
       "      <td>95</td>\n",
       "      <td>149</td>\n",
       "      <td>149</td>\n",
       "      <td>205</td>\n",
       "      <td>205</td>\n",
       "      <td>0</td>\n",
       "    </tr>\n",
       "  </tbody>\n",
       "</table>\n",
       "<p>5 rows × 401 columns</p>\n",
       "</div>"
      ],
      "text/plain": [
       "   r0c0  r0c1  r0c2  r0c3  r0c4  r0c5  r0c6  r0c7  r0c8  r0c9  ...  r19c11  \\\n",
       "0     1     1     1     1    28    43    52   255   255   255  ...     191   \n",
       "1     1     1     1     1     1     1     1     1     1     1  ...       1   \n",
       "2     1     1   128   255   255   255   255   255   255   255  ...     255   \n",
       "3    53    54    61    91   141   172   197   223   233   246  ...     184   \n",
       "4    46    46    46    46    36    36    41    41    41    41  ...      38   \n",
       "\n",
       "   r19c12  r19c13  r19c14  r19c15  r19c16  r19c17  r19c18  r19c19  label  \n",
       "0     255      52      34       1       1       1       1       1      0  \n",
       "1       1       1       1       1       1       1       1       1      0  \n",
       "2     255     255     255     255     255     128       1       1      0  \n",
       "3     185     187     169     147     106      82      34      23      1  \n",
       "4      65      65      95      95     149     149     205     205      0  \n",
       "\n",
       "[5 rows x 401 columns]"
      ]
     },
     "execution_count": 5,
     "metadata": {},
     "output_type": "execute_result"
    }
   ],
   "source": [
    "ds.head()"
   ]
  },
  {
   "cell_type": "code",
   "execution_count": 4,
   "metadata": {},
   "outputs": [
    {
     "data": {
      "text/plain": [
       "0        0\n",
       "1        0\n",
       "2        0\n",
       "3        1\n",
       "4        0\n",
       "        ..\n",
       "72134    0\n",
       "72135    0\n",
       "72136    0\n",
       "72137    0\n",
       "72138    0\n",
       "Name: label, Length: 71967, dtype: int64"
      ]
     },
     "execution_count": 4,
     "metadata": {},
     "output_type": "execute_result"
    }
   ],
   "source": [
    "ds.label"
   ]
  },
  {
   "cell_type": "code",
   "execution_count": 6,
   "metadata": {},
   "outputs": [
    {
     "data": {
      "text/plain": [
       "Counter({0: 65581, 1: 6558})"
      ]
     },
     "execution_count": 6,
     "metadata": {},
     "output_type": "execute_result"
    }
   ],
   "source": [
    "counter = Counter\n",
    "counter(ds.label)"
   ]
  },
  {
   "cell_type": "code",
   "execution_count": 7,
   "metadata": {},
   "outputs": [
    {
     "data": {
      "text/html": [
       "<div>\n",
       "<style scoped>\n",
       "    .dataframe tbody tr th:only-of-type {\n",
       "        vertical-align: middle;\n",
       "    }\n",
       "\n",
       "    .dataframe tbody tr th {\n",
       "        vertical-align: top;\n",
       "    }\n",
       "\n",
       "    .dataframe thead th {\n",
       "        text-align: right;\n",
       "    }\n",
       "</style>\n",
       "<table border=\"1\" class=\"dataframe\">\n",
       "  <thead>\n",
       "    <tr style=\"text-align: right;\">\n",
       "      <th></th>\n",
       "      <th>r0c0</th>\n",
       "      <th>r0c1</th>\n",
       "      <th>r0c2</th>\n",
       "      <th>r0c3</th>\n",
       "      <th>r0c4</th>\n",
       "      <th>r0c5</th>\n",
       "      <th>r0c6</th>\n",
       "      <th>r0c7</th>\n",
       "      <th>r0c8</th>\n",
       "      <th>r0c9</th>\n",
       "      <th>...</th>\n",
       "      <th>r19c11</th>\n",
       "      <th>r19c12</th>\n",
       "      <th>r19c13</th>\n",
       "      <th>r19c14</th>\n",
       "      <th>r19c15</th>\n",
       "      <th>r19c16</th>\n",
       "      <th>r19c17</th>\n",
       "      <th>r19c18</th>\n",
       "      <th>r19c19</th>\n",
       "      <th>label</th>\n",
       "    </tr>\n",
       "  </thead>\n",
       "  <tbody>\n",
       "    <tr>\n",
       "      <th>count</th>\n",
       "      <td>72139.000000</td>\n",
       "      <td>72139.000000</td>\n",
       "      <td>72139.000000</td>\n",
       "      <td>72139.000000</td>\n",
       "      <td>72139.000000</td>\n",
       "      <td>72139.000000</td>\n",
       "      <td>72139.000000</td>\n",
       "      <td>72139.000000</td>\n",
       "      <td>72139.000000</td>\n",
       "      <td>72139.000000</td>\n",
       "      <td>...</td>\n",
       "      <td>72139.000000</td>\n",
       "      <td>72139.000000</td>\n",
       "      <td>72139.000000</td>\n",
       "      <td>72139.000000</td>\n",
       "      <td>72139.000000</td>\n",
       "      <td>72139.000000</td>\n",
       "      <td>72139.000000</td>\n",
       "      <td>72139.000000</td>\n",
       "      <td>72139.000000</td>\n",
       "      <td>72139.000000</td>\n",
       "    </tr>\n",
       "    <tr>\n",
       "      <th>mean</th>\n",
       "      <td>36.125383</td>\n",
       "      <td>51.473308</td>\n",
       "      <td>70.855279</td>\n",
       "      <td>82.032354</td>\n",
       "      <td>86.869142</td>\n",
       "      <td>96.391730</td>\n",
       "      <td>101.608728</td>\n",
       "      <td>108.712333</td>\n",
       "      <td>115.257752</td>\n",
       "      <td>119.014680</td>\n",
       "      <td>...</td>\n",
       "      <td>105.187416</td>\n",
       "      <td>101.996327</td>\n",
       "      <td>98.175689</td>\n",
       "      <td>94.994663</td>\n",
       "      <td>83.791611</td>\n",
       "      <td>79.024744</td>\n",
       "      <td>67.467084</td>\n",
       "      <td>49.497775</td>\n",
       "      <td>37.186349</td>\n",
       "      <td>0.090908</td>\n",
       "    </tr>\n",
       "    <tr>\n",
       "      <th>std</th>\n",
       "      <td>70.769428</td>\n",
       "      <td>83.545299</td>\n",
       "      <td>93.468985</td>\n",
       "      <td>99.787787</td>\n",
       "      <td>100.295541</td>\n",
       "      <td>103.128587</td>\n",
       "      <td>104.129642</td>\n",
       "      <td>103.806258</td>\n",
       "      <td>106.480366</td>\n",
       "      <td>107.572306</td>\n",
       "      <td>...</td>\n",
       "      <td>106.387324</td>\n",
       "      <td>102.402083</td>\n",
       "      <td>103.242319</td>\n",
       "      <td>102.317456</td>\n",
       "      <td>98.440790</td>\n",
       "      <td>97.781003</td>\n",
       "      <td>90.884177</td>\n",
       "      <td>82.706445</td>\n",
       "      <td>72.454911</td>\n",
       "      <td>0.287480</td>\n",
       "    </tr>\n",
       "    <tr>\n",
       "      <th>min</th>\n",
       "      <td>0.000000</td>\n",
       "      <td>0.000000</td>\n",
       "      <td>0.000000</td>\n",
       "      <td>0.000000</td>\n",
       "      <td>0.000000</td>\n",
       "      <td>0.000000</td>\n",
       "      <td>0.000000</td>\n",
       "      <td>0.000000</td>\n",
       "      <td>0.000000</td>\n",
       "      <td>0.000000</td>\n",
       "      <td>...</td>\n",
       "      <td>0.000000</td>\n",
       "      <td>0.000000</td>\n",
       "      <td>0.000000</td>\n",
       "      <td>0.000000</td>\n",
       "      <td>0.000000</td>\n",
       "      <td>0.000000</td>\n",
       "      <td>0.000000</td>\n",
       "      <td>0.000000</td>\n",
       "      <td>0.000000</td>\n",
       "      <td>0.000000</td>\n",
       "    </tr>\n",
       "    <tr>\n",
       "      <th>25%</th>\n",
       "      <td>1.000000</td>\n",
       "      <td>1.000000</td>\n",
       "      <td>1.000000</td>\n",
       "      <td>1.000000</td>\n",
       "      <td>1.000000</td>\n",
       "      <td>1.000000</td>\n",
       "      <td>1.000000</td>\n",
       "      <td>1.000000</td>\n",
       "      <td>1.000000</td>\n",
       "      <td>1.000000</td>\n",
       "      <td>...</td>\n",
       "      <td>1.000000</td>\n",
       "      <td>1.000000</td>\n",
       "      <td>1.000000</td>\n",
       "      <td>1.000000</td>\n",
       "      <td>1.000000</td>\n",
       "      <td>1.000000</td>\n",
       "      <td>1.000000</td>\n",
       "      <td>1.000000</td>\n",
       "      <td>1.000000</td>\n",
       "      <td>0.000000</td>\n",
       "    </tr>\n",
       "    <tr>\n",
       "      <th>50%</th>\n",
       "      <td>1.000000</td>\n",
       "      <td>1.000000</td>\n",
       "      <td>2.000000</td>\n",
       "      <td>18.000000</td>\n",
       "      <td>33.000000</td>\n",
       "      <td>52.000000</td>\n",
       "      <td>67.000000</td>\n",
       "      <td>91.000000</td>\n",
       "      <td>96.000000</td>\n",
       "      <td>104.000000</td>\n",
       "      <td>...</td>\n",
       "      <td>69.000000</td>\n",
       "      <td>73.000000</td>\n",
       "      <td>60.000000</td>\n",
       "      <td>52.000000</td>\n",
       "      <td>26.000000</td>\n",
       "      <td>7.000000</td>\n",
       "      <td>1.000000</td>\n",
       "      <td>1.000000</td>\n",
       "      <td>1.000000</td>\n",
       "      <td>0.000000</td>\n",
       "    </tr>\n",
       "    <tr>\n",
       "      <th>75%</th>\n",
       "      <td>30.000000</td>\n",
       "      <td>80.000000</td>\n",
       "      <td>128.000000</td>\n",
       "      <td>171.000000</td>\n",
       "      <td>181.000000</td>\n",
       "      <td>208.000000</td>\n",
       "      <td>219.000000</td>\n",
       "      <td>226.000000</td>\n",
       "      <td>248.000000</td>\n",
       "      <td>255.000000</td>\n",
       "      <td>...</td>\n",
       "      <td>236.000000</td>\n",
       "      <td>213.000000</td>\n",
       "      <td>207.000000</td>\n",
       "      <td>199.000000</td>\n",
       "      <td>172.000000</td>\n",
       "      <td>163.000000</td>\n",
       "      <td>128.000000</td>\n",
       "      <td>73.000000</td>\n",
       "      <td>24.000000</td>\n",
       "      <td>0.000000</td>\n",
       "    </tr>\n",
       "    <tr>\n",
       "      <th>max</th>\n",
       "      <td>255.000000</td>\n",
       "      <td>255.000000</td>\n",
       "      <td>255.000000</td>\n",
       "      <td>255.000000</td>\n",
       "      <td>255.000000</td>\n",
       "      <td>255.000000</td>\n",
       "      <td>255.000000</td>\n",
       "      <td>255.000000</td>\n",
       "      <td>255.000000</td>\n",
       "      <td>255.000000</td>\n",
       "      <td>...</td>\n",
       "      <td>255.000000</td>\n",
       "      <td>255.000000</td>\n",
       "      <td>255.000000</td>\n",
       "      <td>255.000000</td>\n",
       "      <td>255.000000</td>\n",
       "      <td>255.000000</td>\n",
       "      <td>255.000000</td>\n",
       "      <td>255.000000</td>\n",
       "      <td>255.000000</td>\n",
       "      <td>1.000000</td>\n",
       "    </tr>\n",
       "  </tbody>\n",
       "</table>\n",
       "<p>8 rows × 401 columns</p>\n",
       "</div>"
      ],
      "text/plain": [
       "               r0c0          r0c1          r0c2          r0c3          r0c4  \\\n",
       "count  72139.000000  72139.000000  72139.000000  72139.000000  72139.000000   \n",
       "mean      36.125383     51.473308     70.855279     82.032354     86.869142   \n",
       "std       70.769428     83.545299     93.468985     99.787787    100.295541   \n",
       "min        0.000000      0.000000      0.000000      0.000000      0.000000   \n",
       "25%        1.000000      1.000000      1.000000      1.000000      1.000000   \n",
       "50%        1.000000      1.000000      2.000000     18.000000     33.000000   \n",
       "75%       30.000000     80.000000    128.000000    171.000000    181.000000   \n",
       "max      255.000000    255.000000    255.000000    255.000000    255.000000   \n",
       "\n",
       "               r0c5          r0c6          r0c7          r0c8          r0c9  \\\n",
       "count  72139.000000  72139.000000  72139.000000  72139.000000  72139.000000   \n",
       "mean      96.391730    101.608728    108.712333    115.257752    119.014680   \n",
       "std      103.128587    104.129642    103.806258    106.480366    107.572306   \n",
       "min        0.000000      0.000000      0.000000      0.000000      0.000000   \n",
       "25%        1.000000      1.000000      1.000000      1.000000      1.000000   \n",
       "50%       52.000000     67.000000     91.000000     96.000000    104.000000   \n",
       "75%      208.000000    219.000000    226.000000    248.000000    255.000000   \n",
       "max      255.000000    255.000000    255.000000    255.000000    255.000000   \n",
       "\n",
       "       ...        r19c11        r19c12        r19c13        r19c14  \\\n",
       "count  ...  72139.000000  72139.000000  72139.000000  72139.000000   \n",
       "mean   ...    105.187416    101.996327     98.175689     94.994663   \n",
       "std    ...    106.387324    102.402083    103.242319    102.317456   \n",
       "min    ...      0.000000      0.000000      0.000000      0.000000   \n",
       "25%    ...      1.000000      1.000000      1.000000      1.000000   \n",
       "50%    ...     69.000000     73.000000     60.000000     52.000000   \n",
       "75%    ...    236.000000    213.000000    207.000000    199.000000   \n",
       "max    ...    255.000000    255.000000    255.000000    255.000000   \n",
       "\n",
       "             r19c15        r19c16        r19c17        r19c18        r19c19  \\\n",
       "count  72139.000000  72139.000000  72139.000000  72139.000000  72139.000000   \n",
       "mean      83.791611     79.024744     67.467084     49.497775     37.186349   \n",
       "std       98.440790     97.781003     90.884177     82.706445     72.454911   \n",
       "min        0.000000      0.000000      0.000000      0.000000      0.000000   \n",
       "25%        1.000000      1.000000      1.000000      1.000000      1.000000   \n",
       "50%       26.000000      7.000000      1.000000      1.000000      1.000000   \n",
       "75%      172.000000    163.000000    128.000000     73.000000     24.000000   \n",
       "max      255.000000    255.000000    255.000000    255.000000    255.000000   \n",
       "\n",
       "              label  \n",
       "count  72139.000000  \n",
       "mean       0.090908  \n",
       "std        0.287480  \n",
       "min        0.000000  \n",
       "25%        0.000000  \n",
       "50%        0.000000  \n",
       "75%        0.000000  \n",
       "max        1.000000  \n",
       "\n",
       "[8 rows x 401 columns]"
      ]
     },
     "execution_count": 7,
     "metadata": {},
     "output_type": "execute_result"
    }
   ],
   "source": [
    "ds.describe()"
   ]
  },
  {
   "cell_type": "code",
   "execution_count": 4,
   "metadata": {},
   "outputs": [],
   "source": [
    "X = ds.drop('label', axis=1)\n",
    "y = ds.label.values\n"
   ]
  },
  {
   "cell_type": "code",
   "execution_count": 6,
   "metadata": {},
   "outputs": [],
   "source": [
    "x_train_val, x_test, y_train_val, y_test = train_test_split(X, y, test_size=0.20,random_state=42)\n",
    "x_train, x_val, y_train, y_val = train_test_split(x_train_val,y_train_val, test_size=0.10,random_state=42)\n",
    "x_train = x_train/255\n",
    "x_val = x_val/255\n",
    "x_test= x_test/255\n"
   ]
  },
  {
   "cell_type": "code",
   "execution_count": 17,
   "metadata": {},
   "outputs": [
    {
     "data": {
      "text/plain": [
       "Counter({0: 13070, 1: 1324})"
      ]
     },
     "execution_count": 17,
     "metadata": {},
     "output_type": "execute_result"
    }
   ],
   "source": [
    "Counter(y_test)"
   ]
  },
  {
   "cell_type": "code",
   "execution_count": 27,
   "metadata": {},
   "outputs": [],
   "source": [
    "from imblearn.combine import SMOTEENN\n",
    "x_train_smenn, y_train_smenn = SMOTEENN().fit_resample(x_train,y_train)"
   ]
  },
  {
   "cell_type": "code",
   "execution_count": 28,
   "metadata": {},
   "outputs": [],
   "source": [
    "from imblearn.combine import SMOTETomek\n",
    "x_train_tomek, y_train_tomek = SMOTETomek().fit_resample(x_train,y_train)"
   ]
  },
  {
   "cell_type": "code",
   "execution_count": 29,
   "metadata": {},
   "outputs": [],
   "source": [
    "from imblearn.over_sampling import ADASYN\n",
    "x_train_adasyn, y_train_adasyn = ADASYN().fit_resample(x_train, y_train)\n"
   ]
  },
  {
   "cell_type": "code",
   "execution_count": 30,
   "metadata": {},
   "outputs": [],
   "source": [
    "from imblearn.over_sampling import BorderlineSMOTE\n",
    "x_train_borderline, y_train_borderline = BorderlineSMOTE().fit_resample(x_train, y_train)\n"
   ]
  },
  {
   "cell_type": "code",
   "execution_count": 31,
   "metadata": {},
   "outputs": [],
   "source": [
    "from imblearn.over_sampling import SVMSMOTE\n",
    "x_train_svmsmote, y_train_svmsmote = SVMSMOTE().fit_resample(x_train, y_train)\n"
   ]
  },
  {
   "cell_type": "code",
   "execution_count": 39,
   "metadata": {},
   "outputs": [],
   "source": [
    "from imblearn.over_sampling import RandomOverSampler\n",
    "x_train_oversam, y_train_oversam = RandomOverSampler(random_state=42).fit_resample(x_train,y_train)"
   ]
  },
  {
   "cell_type": "code",
   "execution_count": 40,
   "metadata": {},
   "outputs": [
    {
     "data": {
      "text/plain": [
       "Counter({0: 47196, 1: 47196})"
      ]
     },
     "execution_count": 40,
     "metadata": {},
     "output_type": "execute_result"
    }
   ],
   "source": [
    "Counter(y_train_oversam)"
   ]
  },
  {
   "cell_type": "code",
   "execution_count": 12,
   "metadata": {},
   "outputs": [],
   "source": [
    "def reshape_mat(X):\n",
    "    X_mat = []\n",
    "    for i in range(X.shape[0]):\n",
    "        X_mat.append(np.reshape(X.iloc[i].tolist(), (20,20)).T)\n",
    "    X_mat_arr = np.array(X_mat)\n",
    "    X_mat_arr_ex = X_mat_arr[:,:,:,None]\n",
    "    return X_mat_arr_ex\n",
    "\n",
    "def show_batch(image_batch, label_batch):\n",
    "    plt.figure(figsize=(20,20))\n",
    "    r = reshape_mat(image_batch)\n",
    "    for n in range(100):\n",
    "        ax = plt.subplot(10,10,n+1)\n",
    "        plt.imshow(r[n])\n",
    "        plt.title(str(label_batch[n]))\n",
    "        plt.axis(\"off\")"
   ]
  },
  {
   "cell_type": "code",
   "execution_count": 13,
   "metadata": {},
   "outputs": [
    {
     "data": {
      "image/png": "[encoded data removed]",
      "text/plain": [
       "<Figure size 1440x1440 with 100 Axes>"
      ]
     },
     "metadata": {
      "needs_background": "light"
     },
     "output_type": "display_data"
    }
   ],
   "source": [
    "show_batch(x_train, y_train)\n"
   ]
  },
  {
   "cell_type": "markdown",
   "metadata": {},
   "source": [
    "## CNNs"
   ]
  },
  {
   "cell_type": "code",
   "execution_count": 5,
   "metadata": {},
   "outputs": [],
   "source": [
    "#model\n",
    "\n",
    "def model_score(model, x, y):\n",
    "    model.compile(\n",
    "        optimizer='adam',\n",
    "        loss='binary_crossentropy',\n",
    "        metrics=['accuracy', 'AUC', 'Recall', 'Precision']\n",
    "    )\n",
    "\n",
    "    callbacks = [ReduceLROnPlateau(monitor='val_loss', patience=5, cooldown=0),\n",
    "                EarlyStopping(monitor='val_loss', min_delta=1e-4, patience=12, restore_best_weights=True)]\n",
    "    \n",
    "    print(\"\\n MODEL BUILDING ============================================================================ \\n\")\n",
    "\n",
    "    history = model.fit(\n",
    "        x, y, \n",
    "        epochs=128, \n",
    "        batch_size = 32, \n",
    "        validation_data=(x_val,y_val),\n",
    "        callbacks=callbacks\n",
    "    )\n",
    "\n",
    "    print(\"\\n MODEL EVALUATION ON TEST SET ============================================================================ \\n\")\n",
    "\n",
    "    score = model.evaluate(x_test, y_test, batch_size=32)\n",
    "\n",
    "    return [model, history, score]\n",
    "\n",
    "\n",
    "def pred_test_to_csv(model, name):\n",
    "    test_ds = pd.read_csv(\"test.csv\")\n",
    "    Id = test_ds['Id'][:]\n",
    "    test_ds = test_ds.drop(\"Id\", axis=1)\n",
    "    test_ds = test_ds/255\n",
    "    pred = model.predict(test_ds)\n",
    "    pred_df = pd.DataFrame({'Id':Id.values, 'Predicted':pred.flatten()}, columns=['Id', 'Predicted'])\n",
    "    print(pred_df)\n",
    "    pred_df.to_csv(f'{name}.csv', index=False)\n",
    "    return True"
   ]
  },
  {
   "cell_type": "code",
   "execution_count": 8,
   "metadata": {},
   "outputs": [],
   "source": [
    "def conv_block(filters):\n",
    "    block = tf.keras.Sequential([\n",
    "        tf.keras.layers.Conv2D(filters, (3, 3), activation = 'relu', padding='same', kernel_regularizer=l2(0.0001)),\n",
    "        tf.keras.layers.Conv2D(filters, (3, 3), activation = 'relu', padding='same', kernel_regularizer=l2(0.0001)),\n",
    "        tf.keras.layers.BatchNormalization(),\n",
    "        tf.keras.layers.MaxPooling2D(pool_size=(2, 2), strides=(1, 1), padding='same')\n",
    "    ])\n",
    "    return block\n",
    "\n",
    "def conv_layer(filters):\n",
    "    return tf.keras.Sequential([layers.Conv2D(filters, (3, 3), activation = 'relu', kernel_regularizer=l2(0.0001), padding='same')])\n",
    "\n",
    "def pool_layer(size):\n",
    "    return tf.keras.Sequential([layers.MaxPooling2D(pool_size=(size, size), strides=(2, 2), padding='same')])\n",
    "\n",
    "def dense_block(units, dropout_rate):\n",
    "    block = tf.keras.Sequential([\n",
    "        tf.keras.layers.Dense(units, activation='relu'),\n",
    "        #tf.keras.layers.BatchNormalization(),\n",
    "        tf.keras.layers.Dropout(dropout_rate)\n",
    "    ])\n",
    "    return block"
   ]
  },
  {
   "cell_type": "markdown",
   "metadata": {},
   "source": [
    "# CNN (4-layers) with SMOTE-ENN"
   ]
  },
  {
   "cell_type": "code",
   "execution_count": 32,
   "metadata": {},
   "outputs": [
    {
     "name": "stdout",
     "output_type": "stream",
     "text": [
      "Epoch 1/32\n",
      "2888/2888 [==============================] - 93s 32ms/step - loss: 0.2734 - accuracy: 0.8899 - auc: 0.9593 - recall: 0.8876 - precision: 0.8959 - val_loss: 0.2019 - val_accuracy: 0.9340 - val_auc: 0.9749 - val_recall: 0.9179 - val_precision: 0.5935\n",
      "Epoch 2/32\n",
      "2888/2888 [==============================] - 124s 43ms/step - loss: 0.1327 - accuracy: 0.9571 - auc: 0.9912 - recall: 0.9601 - precision: 0.9561 - val_loss: 0.1529 - val_accuracy: 0.9534 - val_auc: 0.9798 - val_recall: 0.9104 - val_precision: 0.6883\n",
      "Epoch 3/32\n",
      "2888/2888 [==============================] - 145s 50ms/step - loss: 0.1060 - accuracy: 0.9680 - auc: 0.9948 - recall: 0.9719 - precision: 0.9657 - val_loss: 0.1655 - val_accuracy: 0.9525 - val_auc: 0.9656 - val_recall: 0.8358 - val_precision: 0.7066\n",
      "Epoch 4/32\n",
      "2888/2888 [==============================] - 162s 56ms/step - loss: 0.0891 - accuracy: 0.9750 - auc: 0.9967 - recall: 0.9780 - precision: 0.9732 - val_loss: 0.1625 - val_accuracy: 0.9569 - val_auc: 0.9806 - val_recall: 0.9179 - val_precision: 0.7059\n",
      "Epoch 5/32\n",
      "2888/2888 [==============================] - 146s 51ms/step - loss: 0.0819 - accuracy: 0.9777 - auc: 0.9971 - recall: 0.9802 - precision: 0.9763 - val_loss: 0.1486 - val_accuracy: 0.9567 - val_auc: 0.9809 - val_recall: 0.9216 - val_precision: 0.7037\n",
      "Epoch 6/32\n",
      "2888/2888 [==============================] - 137s 47ms/step - loss: 0.0737 - accuracy: 0.9808 - auc: 0.9978 - recall: 0.9840 - precision: 0.9785 - val_loss: 0.1352 - val_accuracy: 0.9683 - val_auc: 0.9776 - val_recall: 0.8657 - val_precision: 0.8070\n",
      "Epoch 7/32\n",
      "2888/2888 [==============================] - 169s 59ms/step - loss: 0.0684 - accuracy: 0.9830 - auc: 0.9982 - recall: 0.9857 - precision: 0.9812 - val_loss: 0.1548 - val_accuracy: 0.9584 - val_auc: 0.9798 - val_recall: 0.9216 - val_precision: 0.7139\n",
      "Epoch 8/32\n",
      "2888/2888 [==============================] - 156s 54ms/step - loss: 0.0662 - accuracy: 0.9842 - auc: 0.9982 - recall: 0.9868 - precision: 0.9823 - val_loss: 0.1312 - val_accuracy: 0.9681 - val_auc: 0.9798 - val_recall: 0.8993 - val_precision: 0.7876\n",
      "Epoch 9/32\n",
      "2888/2888 [==============================] - 166s 57ms/step - loss: 0.0604 - accuracy: 0.9858 - auc: 0.9985 - recall: 0.9883 - precision: 0.9840 - val_loss: 0.2002 - val_accuracy: 0.9567 - val_auc: 0.9759 - val_recall: 0.9179 - val_precision: 0.7049\n",
      "Epoch 10/32\n",
      "2888/2888 [==============================] - 144s 50ms/step - loss: 0.0576 - accuracy: 0.9871 - auc: 0.9986 - recall: 0.9887 - precision: 0.9860 - val_loss: 0.1479 - val_accuracy: 0.9624 - val_auc: 0.9837 - val_recall: 0.9160 - val_precision: 0.7406\n",
      "Epoch 11/32\n",
      "2888/2888 [==============================] - 140s 48ms/step - loss: 0.0553 - accuracy: 0.9874 - auc: 0.9988 - recall: 0.9898 - precision: 0.9857 - val_loss: 0.1407 - val_accuracy: 0.9659 - val_auc: 0.9740 - val_recall: 0.8899 - val_precision: 0.7756\n",
      "Epoch 12/32\n",
      "2888/2888 [==============================] - 107s 37ms/step - loss: 0.0538 - accuracy: 0.9876 - auc: 0.9988 - recall: 0.9895 - precision: 0.9862 - val_loss: 0.1536 - val_accuracy: 0.9648 - val_auc: 0.9834 - val_recall: 0.9347 - val_precision: 0.7489\n",
      "Epoch 13/32\n",
      "2888/2888 [==============================] - 79s 28ms/step - loss: 0.0502 - accuracy: 0.9885 - auc: 0.9991 - recall: 0.9902 - precision: 0.9874 - val_loss: 0.1704 - val_accuracy: 0.9666 - val_auc: 0.9693 - val_recall: 0.8750 - val_precision: 0.7882\n",
      "Epoch 14/32\n",
      "2888/2888 [==============================] - 77s 27ms/step - loss: 0.0343 - accuracy: 0.9945 - auc: 0.9997 - recall: 0.9961 - precision: 0.9931 - val_loss: 0.1723 - val_accuracy: 0.9723 - val_auc: 0.9736 - val_recall: 0.9049 - val_precision: 0.8165\n",
      "Epoch 15/32\n",
      "2888/2888 [==============================] - 79s 27ms/step - loss: 0.0302 - accuracy: 0.9957 - auc: 0.9998 - recall: 0.9974 - precision: 0.9941 - val_loss: 0.1809 - val_accuracy: 0.9712 - val_auc: 0.9743 - val_recall: 0.9216 - val_precision: 0.7994\n",
      "Epoch 16/32\n",
      "2888/2888 [==============================] - 76s 26ms/step - loss: 0.0284 - accuracy: 0.9960 - auc: 0.9998 - recall: 0.9977 - precision: 0.9944 - val_loss: 0.1858 - val_accuracy: 0.9719 - val_auc: 0.9734 - val_recall: 0.9086 - val_precision: 0.8117\n",
      "1444/1444 [==============================] - 23s 16ms/step - loss: 0.0184 - accuracy: 0.9996 - auc: 1.0000 - recall: 0.9999 - precision: 0.9993\n"
     ]
    }
   ],
   "source": [
    "# predictions_CNN_prob_1 - SUBMIT THISISSISISISISISISIS\n",
    "#  0.98813\n",
    "\n",
    "model = tf.keras.Sequential([\n",
    "    layers.Reshape(target_shape=(20, 20, 1), input_shape=(400,)),\n",
    "    #layers.InputLayer(input_shape=(20, 20, 1)),\n",
    "    layers.Conv2D(32, (3, 3), activation = 'relu', kernel_regularizer=l2(0.0001), padding='same'),\n",
    "    layers.MaxPooling2D(pool_size=(2, 2), strides=(1, 1), padding='same'),\n",
    "    layers.Conv2D(64, (3, 3), activation = 'relu', kernel_regularizer=l2(0.0001), padding='same'),\n",
    "    layers.MaxPooling2D(pool_size=(2, 2), strides=(1, 1), padding='same'),\n",
    "    layers.Conv2D(128, (3, 3), activation = 'relu', kernel_regularizer=l2(0.0001), padding='same'),\n",
    "    layers.MaxPooling2D(pool_size=(2, 2), strides=(1, 1), padding='same'),\n",
    "    layers.Conv2D(128, (3, 3), activation = 'relu', kernel_regularizer=l2(0.0001), padding='same'),\n",
    "    layers.MaxPooling2D(pool_size=(2, 2), strides=(1, 1), padding='same'),\n",
    "    layers.Flatten(),\n",
    "    layers.Dense(128, activation='relu'),\n",
    "    layers.Dropout(0.5),\n",
    "    layers.Dense(128, activation='relu'),\n",
    "    layers.Dense(1, activation='sigmoid')\n",
    "])\n",
    "\n",
    "model_CNN_1 = model_score(model, x_train_smenn, y_train_smenn)"
   ]
  },
  {
   "cell_type": "code",
   "execution_count": 39,
   "metadata": {},
   "outputs": [
    {
     "name": "stdout",
     "output_type": "stream",
     "text": [
      "\n",
      " MODEL BUILDING ============================================================================ \n",
      "\n",
      "Epoch 1/32\n",
      "2888/2888 [==============================] - 170s 58ms/step - loss: 0.4688 - accuracy: 0.7657 - auc: 0.8603 - recall: 0.7909 - precision: 0.7601 - val_loss: 0.2494 - val_accuracy: 0.9092 - val_auc: 0.8979 - val_recall: 0.6903 - val_precision: 0.5082\n",
      "Epoch 2/32\n",
      "2888/2888 [==============================] - 155s 54ms/step - loss: 0.2901 - accuracy: 0.8858 - auc: 0.9513 - recall: 0.8869 - precision: 0.8891 - val_loss: 0.2143 - val_accuracy: 0.9165 - val_auc: 0.9375 - val_recall: 0.7985 - val_precision: 0.5337\n",
      "Epoch 3/32\n",
      "2888/2888 [==============================] - 159s 55ms/step - loss: 0.2420 - accuracy: 0.9090 - auc: 0.9668 - recall: 0.9115 - precision: 0.9105 - val_loss: 0.2316 - val_accuracy: 0.9092 - val_auc: 0.9390 - val_recall: 0.8022 - val_precision: 0.5071\n",
      "Epoch 4/32\n",
      "2888/2888 [==============================] - 168s 58ms/step - loss: 0.2168 - accuracy: 0.9213 - auc: 0.9741 - recall: 0.9236 - precision: 0.9223 - val_loss: 0.2500 - val_accuracy: 0.9002 - val_auc: 0.9427 - val_recall: 0.8377 - val_precision: 0.4787\n",
      "Epoch 5/32\n",
      "2888/2888 [==============================] - 162s 56ms/step - loss: 0.2014 - accuracy: 0.9282 - auc: 0.9781 - recall: 0.9307 - precision: 0.9288 - val_loss: 0.1968 - val_accuracy: 0.9278 - val_auc: 0.9402 - val_recall: 0.7743 - val_precision: 0.5837\n",
      "Epoch 6/32\n",
      "2888/2888 [==============================] - 161s 56ms/step - loss: 0.1923 - accuracy: 0.9326 - auc: 0.9804 - recall: 0.9358 - precision: 0.9325 - val_loss: 0.1975 - val_accuracy: 0.9267 - val_auc: 0.9449 - val_recall: 0.7892 - val_precision: 0.5771\n",
      "Epoch 7/32\n",
      "2888/2888 [==============================] - 158s 55ms/step - loss: 0.1832 - accuracy: 0.9367 - auc: 0.9826 - recall: 0.9400 - precision: 0.9363 - val_loss: 0.1693 - val_accuracy: 0.9425 - val_auc: 0.9566 - val_recall: 0.8060 - val_precision: 0.6545\n",
      "Epoch 8/32\n",
      "2888/2888 [==============================] - 158s 55ms/step - loss: 0.1780 - accuracy: 0.9394 - auc: 0.9838 - recall: 0.9421 - precision: 0.9393 - val_loss: 0.1860 - val_accuracy: 0.9345 - val_auc: 0.9559 - val_recall: 0.8209 - val_precision: 0.6094\n",
      "Epoch 9/32\n",
      "2888/2888 [==============================] - 157s 55ms/step - loss: 0.1710 - accuracy: 0.9423 - auc: 0.9854 - recall: 0.9455 - precision: 0.9417 - val_loss: 0.1720 - val_accuracy: 0.9409 - val_auc: 0.9556 - val_recall: 0.7854 - val_precision: 0.6507\n",
      "Epoch 10/32\n",
      "2888/2888 [==============================] - 154s 53ms/step - loss: 0.1675 - accuracy: 0.9443 - auc: 0.9862 - recall: 0.9472 - precision: 0.9439 - val_loss: 0.2052 - val_accuracy: 0.9271 - val_auc: 0.9565 - val_recall: 0.8377 - val_precision: 0.5734\n",
      "Epoch 11/32\n",
      "2888/2888 [==============================] - 159s 55ms/step - loss: 0.1646 - accuracy: 0.9458 - auc: 0.9868 - recall: 0.9488 - precision: 0.9452 - val_loss: 0.1724 - val_accuracy: 0.9432 - val_auc: 0.9529 - val_recall: 0.7780 - val_precision: 0.6661\n",
      "Epoch 12/32\n",
      "2888/2888 [==============================] - 159s 55ms/step - loss: 0.1594 - accuracy: 0.9488 - auc: 0.9878 - recall: 0.9530 - precision: 0.9471 - val_loss: 0.1551 - val_accuracy: 0.9506 - val_auc: 0.9569 - val_recall: 0.7649 - val_precision: 0.7206\n",
      "Epoch 13/32\n",
      "2888/2888 [==============================] - 160s 56ms/step - loss: 0.1566 - accuracy: 0.9498 - auc: 0.9884 - recall: 0.9538 - precision: 0.9482 - val_loss: 0.1627 - val_accuracy: 0.9440 - val_auc: 0.9591 - val_recall: 0.7929 - val_precision: 0.6672\n",
      "Epoch 14/32\n",
      "2888/2888 [==============================] - 169s 59ms/step - loss: 0.1556 - accuracy: 0.9505 - auc: 0.9887 - recall: 0.9532 - precision: 0.9502 - val_loss: 0.1559 - val_accuracy: 0.9513 - val_auc: 0.9590 - val_recall: 0.7631 - val_precision: 0.7265\n",
      "Epoch 15/32\n",
      "2888/2888 [==============================] - 163s 57ms/step - loss: 0.1516 - accuracy: 0.9524 - auc: 0.9893 - recall: 0.9560 - precision: 0.9511 - val_loss: 0.1727 - val_accuracy: 0.9435 - val_auc: 0.9609 - val_recall: 0.8302 - val_precision: 0.6544\n",
      "Epoch 16/32\n",
      "2888/2888 [==============================] - 157s 54ms/step - loss: 0.1477 - accuracy: 0.9537 - auc: 0.9901 - recall: 0.9575 - precision: 0.9521 - val_loss: 0.1733 - val_accuracy: 0.9453 - val_auc: 0.9666 - val_recall: 0.8470 - val_precision: 0.6599\n",
      "Epoch 17/32\n",
      "2888/2888 [==============================] - 166s 57ms/step - loss: 0.1477 - accuracy: 0.9540 - auc: 0.9901 - recall: 0.9572 - precision: 0.9530 - val_loss: 0.1495 - val_accuracy: 0.9558 - val_auc: 0.9630 - val_recall: 0.7910 - val_precision: 0.7478\n",
      "Epoch 18/32\n",
      "2888/2888 [==============================] - 162s 56ms/step - loss: 0.1457 - accuracy: 0.9563 - auc: 0.9904 - recall: 0.9592 - precision: 0.9553 - val_loss: 0.1643 - val_accuracy: 0.9468 - val_auc: 0.9672 - val_recall: 0.8433 - val_precision: 0.6696\n",
      "Epoch 19/32\n",
      "2888/2888 [==============================] - 157s 54ms/step - loss: 0.1450 - accuracy: 0.9561 - auc: 0.9906 - recall: 0.9589 - precision: 0.9553 - val_loss: 0.1623 - val_accuracy: 0.9492 - val_auc: 0.9606 - val_recall: 0.8190 - val_precision: 0.6913\n",
      "Epoch 20/32\n",
      "2888/2888 [==============================] - 183s 63ms/step - loss: 0.1415 - accuracy: 0.9571 - auc: 0.9913 - recall: 0.9597 - precision: 0.9564 - val_loss: 0.1648 - val_accuracy: 0.9428 - val_auc: 0.9642 - val_recall: 0.8358 - val_precision: 0.6493\n",
      "Epoch 21/32\n",
      "2888/2888 [==============================] - 166s 58ms/step - loss: 0.1409 - accuracy: 0.9573 - auc: 0.9914 - recall: 0.9603 - precision: 0.9563 - val_loss: 0.1661 - val_accuracy: 0.9487 - val_auc: 0.9607 - val_recall: 0.8153 - val_precision: 0.6893\n",
      "Epoch 22/32\n",
      "2888/2888 [==============================] - 163s 57ms/step - loss: 0.1376 - accuracy: 0.9591 - auc: 0.9918 - recall: 0.9623 - precision: 0.9577 - val_loss: 0.1688 - val_accuracy: 0.9437 - val_auc: 0.9645 - val_recall: 0.8284 - val_precision: 0.6558\n",
      "Epoch 23/32\n",
      "2888/2888 [==============================] - 156s 54ms/step - loss: 0.1082 - accuracy: 0.9708 - auc: 0.9954 - recall: 0.9735 - precision: 0.9693 - val_loss: 0.1589 - val_accuracy: 0.9475 - val_auc: 0.9684 - val_recall: 0.8563 - val_precision: 0.6701\n",
      "Epoch 24/32\n",
      "2888/2888 [==============================] - 160s 55ms/step - loss: 0.0994 - accuracy: 0.9736 - auc: 0.9961 - recall: 0.9765 - precision: 0.9721 - val_loss: 0.1477 - val_accuracy: 0.9556 - val_auc: 0.9662 - val_recall: 0.8358 - val_precision: 0.7273\n",
      "Epoch 25/32\n",
      "2888/2888 [==============================] - 158s 55ms/step - loss: 0.0967 - accuracy: 0.9743 - auc: 0.9964 - recall: 0.9770 - precision: 0.9729 - val_loss: 0.1471 - val_accuracy: 0.9556 - val_auc: 0.9640 - val_recall: 0.8321 - val_precision: 0.7288\n",
      "Epoch 26/32\n",
      "2888/2888 [==============================] - 156s 54ms/step - loss: 0.0950 - accuracy: 0.9750 - auc: 0.9965 - recall: 0.9777 - precision: 0.9734 - val_loss: 0.1454 - val_accuracy: 0.9555 - val_auc: 0.9671 - val_recall: 0.8078 - val_precision: 0.7376\n",
      "Epoch 27/32\n",
      "2888/2888 [==============================] - 153s 53ms/step - loss: 0.0941 - accuracy: 0.9753 - auc: 0.9965 - recall: 0.9777 - precision: 0.9740 - val_loss: 0.1468 - val_accuracy: 0.9541 - val_auc: 0.9668 - val_recall: 0.8396 - val_precision: 0.7154\n",
      "Epoch 28/32\n",
      "2888/2888 [==============================] - 152s 53ms/step - loss: 0.0918 - accuracy: 0.9761 - auc: 0.9967 - recall: 0.9785 - precision: 0.9749 - val_loss: 0.1443 - val_accuracy: 0.9569 - val_auc: 0.9670 - val_recall: 0.8265 - val_precision: 0.7396\n",
      "Epoch 29/32\n",
      "2888/2888 [==============================] - 153s 53ms/step - loss: 0.0922 - accuracy: 0.9755 - auc: 0.9968 - recall: 0.9778 - precision: 0.9744 - val_loss: 0.1399 - val_accuracy: 0.9589 - val_auc: 0.9648 - val_recall: 0.8172 - val_precision: 0.7591\n",
      "Epoch 30/32\n",
      "2888/2888 [==============================] - 156s 54ms/step - loss: 0.0887 - accuracy: 0.9775 - auc: 0.9969 - recall: 0.9804 - precision: 0.9756 - val_loss: 0.1415 - val_accuracy: 0.9581 - val_auc: 0.9667 - val_recall: 0.8284 - val_precision: 0.7475\n",
      "Epoch 31/32\n",
      "2888/2888 [==============================] - 155s 54ms/step - loss: 0.0887 - accuracy: 0.9776 - auc: 0.9969 - recall: 0.9802 - precision: 0.9761 - val_loss: 0.1423 - val_accuracy: 0.9576 - val_auc: 0.9652 - val_recall: 0.7892 - val_precision: 0.7622\n",
      "Epoch 32/32\n",
      "2888/2888 [==============================] - 155s 54ms/step - loss: 0.0871 - accuracy: 0.9780 - auc: 0.9970 - recall: 0.9803 - precision: 0.9767 - val_loss: 0.1355 - val_accuracy: 0.9593 - val_auc: 0.9685 - val_recall: 0.8172 - val_precision: 0.7617\n",
      "\n",
      " MODEL EVALUATION ON TEST SET ============================================================================ \n",
      "\n",
      "226/226 [==============================] - 8s 32ms/step - loss: 0.1398 - accuracy: 0.9601 - auc: 0.9627 - recall: 0.8038 - precision: 0.7663\n"
     ]
    }
   ],
   "source": [
    "# predictions_CNN_prob_2 \n",
    "# SMOTE EN sampled\n",
    "#  \n",
    "\n",
    "model = tf.keras.Sequential([\n",
    "    layers.Reshape(target_shape=(20, 20, 1), input_shape=(400,)),\n",
    "    #layers.InputLayer(input_shape=(20, 20, 1)),\n",
    "    layers.Conv2D(32, (3, 3), activation = 'relu', kernel_regularizer=l2(0.0001), padding='same'),\n",
    "    layers.MaxPooling2D(pool_size=(2, 2), strides=(1, 1), padding='same'),\n",
    "    layers.Conv2D(64, (3, 3), activation = 'relu', kernel_regularizer=l2(0.0001), padding='same'),\n",
    "    layers.MaxPooling2D(pool_size=(2, 2), strides=(1, 1), padding='same'),\n",
    "    layers.Conv2D(128, (3, 3), activation = 'relu', kernel_regularizer=l2(0.0001), padding='same'),\n",
    "    layers.MaxPooling2D(pool_size=(2, 2), strides=(1, 1), padding='same'),\n",
    "    layers.Conv2D(256, (3, 3), activation = 'relu', kernel_regularizer=l2(0.0001), padding='same'),\n",
    "    layers.MaxPooling2D(pool_size=(2, 2), strides=(1, 1), padding='same'),\n",
    "    layers.Conv2D(256, (3, 3), activation = 'relu', kernel_regularizer=l2(0.0001), padding='same'),\n",
    "    layers.MaxPooling2D(pool_size=(2, 2), strides=(1, 1), padding='same'),\n",
    "    layers.Flatten(),\n",
    "    layers.Dropout(0.5),\n",
    "    layers.Dense(128, activation='relu'),\n",
    "    layers.Dropout(0.5),\n",
    "    layers.Dense(128, activation='relu'),\n",
    "    layers.Dense(1, activation='sigmoid')\n",
    "])\n",
    "\n",
    "model_CNN_2 = model_score(model, x_train_smenn, y_train_smenn)"
   ]
  },
  {
   "cell_type": "code",
   "execution_count": 40,
   "metadata": {},
   "outputs": [
    {
     "name": "stdout",
     "output_type": "stream",
     "text": [
      "\n",
      " MODEL BUILDING ============================================================================ \n",
      "\n",
      "Epoch 1/32\n",
      "1624/1624 [==============================] - 93s 56ms/step - loss: 0.2617 - accuracy: 0.9210 - auc: 0.7793 - recall: 0.1982 - precision: 0.7438 - val_loss: 0.2422 - val_accuracy: 0.9397 - val_auc: 0.9067 - val_recall: 0.4944 - val_precision: 0.7749\n",
      "Epoch 2/32\n",
      "1624/1624 [==============================] - 100s 62ms/step - loss: 0.1812 - accuracy: 0.9435 - auc: 0.9053 - recall: 0.4986 - precision: 0.8044 - val_loss: 0.1912 - val_accuracy: 0.9494 - val_auc: 0.9451 - val_recall: 0.5634 - val_precision: 0.8389\n",
      "Epoch 3/32\n",
      "1624/1624 [==============================] - 91s 56ms/step - loss: 0.1584 - accuracy: 0.9493 - auc: 0.9349 - recall: 0.5720 - precision: 0.8141 - val_loss: 0.1366 - val_accuracy: 0.9572 - val_auc: 0.9592 - val_recall: 0.6828 - val_precision: 0.8262\n",
      "Epoch 4/32\n",
      "1624/1624 [==============================] - 90s 56ms/step - loss: 0.1436 - accuracy: 0.9546 - auc: 0.9497 - recall: 0.6178 - precision: 0.8400 - val_loss: 0.1339 - val_accuracy: 0.9586 - val_auc: 0.9696 - val_recall: 0.5989 - val_precision: 0.9304\n",
      "Epoch 5/32\n",
      "1624/1624 [==============================] - 90s 55ms/step - loss: 0.1323 - accuracy: 0.9584 - auc: 0.9574 - recall: 0.6621 - precision: 0.8461 - val_loss: 0.1343 - val_accuracy: 0.9624 - val_auc: 0.9768 - val_recall: 0.7463 - val_precision: 0.8316\n",
      "Epoch 6/32\n",
      "1624/1624 [==============================] - 92s 57ms/step - loss: 0.1264 - accuracy: 0.9602 - auc: 0.9623 - recall: 0.6809 - precision: 0.8513 - val_loss: 0.1416 - val_accuracy: 0.9605 - val_auc: 0.9736 - val_recall: 0.7015 - val_precision: 0.8468\n",
      "Epoch 7/32\n",
      "1624/1624 [==============================] - 91s 56ms/step - loss: 0.1175 - accuracy: 0.9641 - auc: 0.9691 - recall: 0.7130 - precision: 0.8681 - val_loss: 0.1138 - val_accuracy: 0.9643 - val_auc: 0.9737 - val_recall: 0.6978 - val_precision: 0.8947\n",
      "Epoch 8/32\n",
      "1624/1624 [==============================] - 91s 56ms/step - loss: 0.1159 - accuracy: 0.9647 - auc: 0.9691 - recall: 0.7199 - precision: 0.8692 - val_loss: 0.1123 - val_accuracy: 0.9648 - val_auc: 0.9765 - val_recall: 0.6866 - val_precision: 0.9132\n",
      "Epoch 9/32\n",
      "1624/1624 [==============================] - 92s 57ms/step - loss: 0.1136 - accuracy: 0.9649 - auc: 0.9721 - recall: 0.7305 - precision: 0.8619 - val_loss: 0.1284 - val_accuracy: 0.9650 - val_auc: 0.9785 - val_recall: 0.6959 - val_precision: 0.9053\n",
      "Epoch 10/32\n",
      "1624/1624 [==============================] - 92s 57ms/step - loss: 0.1052 - accuracy: 0.9671 - auc: 0.9772 - recall: 0.7543 - precision: 0.8661 - val_loss: 0.1029 - val_accuracy: 0.9695 - val_auc: 0.9827 - val_recall: 0.7948 - val_precision: 0.8659\n",
      "Epoch 11/32\n",
      "1624/1624 [==============================] - 92s 57ms/step - loss: 0.1032 - accuracy: 0.9674 - auc: 0.9785 - recall: 0.7551 - precision: 0.8692 - val_loss: 0.1236 - val_accuracy: 0.9688 - val_auc: 0.9813 - val_recall: 0.8116 - val_precision: 0.8463\n",
      "Epoch 12/32\n",
      "1624/1624 [==============================] - 94s 58ms/step - loss: 0.1001 - accuracy: 0.9696 - auc: 0.9793 - recall: 0.7670 - precision: 0.8829 - val_loss: 0.1027 - val_accuracy: 0.9683 - val_auc: 0.9834 - val_recall: 0.7201 - val_precision: 0.9212\n",
      "Epoch 13/32\n",
      "1624/1624 [==============================] - 95s 59ms/step - loss: 0.0978 - accuracy: 0.9707 - auc: 0.9795 - recall: 0.7761 - precision: 0.8869 - val_loss: 0.1050 - val_accuracy: 0.9681 - val_auc: 0.9841 - val_recall: 0.7239 - val_precision: 0.9151\n",
      "Epoch 14/32\n",
      "1624/1624 [==============================] - 123s 76ms/step - loss: 0.0953 - accuracy: 0.9716 - auc: 0.9820 - recall: 0.7925 - precision: 0.8831 - val_loss: 0.1189 - val_accuracy: 0.9678 - val_auc: 0.9803 - val_recall: 0.7649 - val_precision: 0.8723\n",
      "Epoch 15/32\n",
      "1624/1624 [==============================] - 106s 65ms/step - loss: 0.0943 - accuracy: 0.9714 - auc: 0.9824 - recall: 0.7920 - precision: 0.8809 - val_loss: 0.1085 - val_accuracy: 0.9697 - val_auc: 0.9821 - val_recall: 0.7556 - val_precision: 0.9020\n",
      "Epoch 16/32\n",
      "1624/1624 [==============================] - 96s 59ms/step - loss: 0.0935 - accuracy: 0.9723 - auc: 0.9832 - recall: 0.7990 - precision: 0.8843 - val_loss: 0.1009 - val_accuracy: 0.9711 - val_auc: 0.9866 - val_recall: 0.7929 - val_precision: 0.8836\n",
      "Epoch 17/32\n",
      "1624/1624 [==============================] - 94s 58ms/step - loss: 0.0903 - accuracy: 0.9732 - auc: 0.9837 - recall: 0.8084 - precision: 0.8861 - val_loss: 0.1060 - val_accuracy: 0.9718 - val_auc: 0.9859 - val_recall: 0.8134 - val_precision: 0.8737\n",
      "Epoch 18/32\n",
      "1624/1624 [==============================] - 95s 58ms/step - loss: 0.0877 - accuracy: 0.9743 - auc: 0.9843 - recall: 0.8086 - precision: 0.8987 - val_loss: 0.1287 - val_accuracy: 0.9711 - val_auc: 0.9833 - val_recall: 0.8545 - val_precision: 0.8373\n",
      "Epoch 19/32\n",
      "1624/1624 [==============================] - 93s 57ms/step - loss: 0.0874 - accuracy: 0.9749 - auc: 0.9851 - recall: 0.8196 - precision: 0.8953 - val_loss: 0.1013 - val_accuracy: 0.9761 - val_auc: 0.9883 - val_recall: 0.8489 - val_precision: 0.8887\n",
      "Epoch 20/32\n",
      "1624/1624 [==============================] - 92s 57ms/step - loss: 0.0861 - accuracy: 0.9749 - auc: 0.9852 - recall: 0.8190 - precision: 0.8961 - val_loss: 0.0899 - val_accuracy: 0.9719 - val_auc: 0.9874 - val_recall: 0.7668 - val_precision: 0.9174\n",
      "Epoch 21/32\n",
      "1624/1624 [==============================] - 92s 57ms/step - loss: 0.0832 - accuracy: 0.9756 - auc: 0.9871 - recall: 0.8257 - precision: 0.8979 - val_loss: 0.0950 - val_accuracy: 0.9738 - val_auc: 0.9847 - val_recall: 0.7948 - val_precision: 0.9122\n",
      "Epoch 22/32\n",
      "1624/1624 [==============================] - 93s 57ms/step - loss: 0.0855 - accuracy: 0.9751 - auc: 0.9861 - recall: 0.8281 - precision: 0.8902 - val_loss: 0.1086 - val_accuracy: 0.9645 - val_auc: 0.9798 - val_recall: 0.6642 - val_precision: 0.9344\n",
      "Epoch 23/32\n",
      "1624/1624 [==============================] - 94s 58ms/step - loss: 0.0818 - accuracy: 0.9761 - auc: 0.9873 - recall: 0.8321 - precision: 0.8978 - val_loss: 0.0967 - val_accuracy: 0.9704 - val_auc: 0.9854 - val_recall: 0.7593 - val_precision: 0.9065\n",
      "Epoch 24/32\n",
      "1624/1624 [==============================] - 93s 58ms/step - loss: 0.0824 - accuracy: 0.9759 - auc: 0.9866 - recall: 0.8353 - precision: 0.8928 - val_loss: 0.0958 - val_accuracy: 0.9742 - val_auc: 0.9849 - val_recall: 0.8097 - val_precision: 0.9023\n",
      "Epoch 25/32\n",
      "1624/1624 [==============================] - 95s 58ms/step - loss: 0.0810 - accuracy: 0.9764 - auc: 0.9877 - recall: 0.8387 - precision: 0.8946 - val_loss: 0.0936 - val_accuracy: 0.9745 - val_auc: 0.9891 - val_recall: 0.8116 - val_precision: 0.9044\n",
      "Epoch 26/32\n",
      "1624/1624 [==============================] - 89s 55ms/step - loss: 0.0645 - accuracy: 0.9824 - auc: 0.9937 - recall: 0.8773 - precision: 0.9251 - val_loss: 0.0842 - val_accuracy: 0.9768 - val_auc: 0.9890 - val_recall: 0.8396 - val_precision: 0.9036\n",
      "Epoch 27/32\n",
      "1624/1624 [==============================] - 88s 54ms/step - loss: 0.0574 - accuracy: 0.9849 - auc: 0.9949 - recall: 0.9012 - precision: 0.9300 - val_loss: 0.0811 - val_accuracy: 0.9773 - val_auc: 0.9875 - val_recall: 0.8433 - val_precision: 0.9058\n",
      "Epoch 28/32\n",
      "1624/1624 [==============================] - 86s 53ms/step - loss: 0.0561 - accuracy: 0.9849 - auc: 0.9951 - recall: 0.9052 - precision: 0.9266 - val_loss: 0.0799 - val_accuracy: 0.9773 - val_auc: 0.9868 - val_recall: 0.8265 - val_precision: 0.9210\n",
      "Epoch 29/32\n",
      "1624/1624 [==============================] - 88s 54ms/step - loss: 0.0543 - accuracy: 0.9853 - auc: 0.9949 - recall: 0.9105 - precision: 0.9258 - val_loss: 0.0807 - val_accuracy: 0.9777 - val_auc: 0.9872 - val_recall: 0.8340 - val_precision: 0.9179\n",
      "Epoch 30/32\n",
      "1624/1624 [==============================] - 88s 54ms/step - loss: 0.0532 - accuracy: 0.9864 - auc: 0.9956 - recall: 0.9150 - precision: 0.9342 - val_loss: 0.0801 - val_accuracy: 0.9778 - val_auc: 0.9879 - val_recall: 0.8377 - val_precision: 0.9163\n",
      "Epoch 31/32\n",
      "1624/1624 [==============================] - 87s 54ms/step - loss: 0.0521 - accuracy: 0.9861 - auc: 0.9957 - recall: 0.9144 - precision: 0.9309 - val_loss: 0.0791 - val_accuracy: 0.9783 - val_auc: 0.9861 - val_recall: 0.8489 - val_precision: 0.9118\n",
      "Epoch 32/32\n",
      "1624/1624 [==============================] - 87s 54ms/step - loss: 0.0504 - accuracy: 0.9868 - auc: 0.9956 - recall: 0.9182 - precision: 0.9354 - val_loss: 0.0830 - val_accuracy: 0.9773 - val_auc: 0.9883 - val_recall: 0.8619 - val_precision: 0.8902\n",
      "\n",
      " MODEL EVALUATION ON TEST SET ============================================================================ \n",
      "\n",
      "226/226 [==============================] - 7s 30ms/step - loss: 0.0866 - accuracy: 0.9777 - auc: 0.9858 - recall: 0.8659 - precision: 0.8849\n"
     ]
    }
   ],
   "source": [
    "# 5-layer on normally sampled train set.\n",
    "# predictions_CNN_prob_3 - SUBMIT THISISSISISISISISISIS\n",
    "# 0.99060 on kaggle\n",
    "# normally sampled\n",
    "#  \n",
    "\n",
    "model = tf.keras.Sequential([\n",
    "    layers.Reshape(target_shape=(20, 20, 1), input_shape=(400,)),\n",
    "    #layers.InputLayer(input_shape=(20, 20, 1)),\n",
    "    layers.Conv2D(32, (3, 3), activation = 'relu', kernel_regularizer=l2(0.0001), padding='same'),\n",
    "    layers.MaxPooling2D(pool_size=(2, 2), strides=(1, 1), padding='same'),\n",
    "    layers.Conv2D(64, (3, 3), activation = 'relu', kernel_regularizer=l2(0.0001), padding='same'),\n",
    "    layers.MaxPooling2D(pool_size=(2, 2), strides=(1, 1), padding='same'),\n",
    "    layers.Conv2D(128, (3, 3), activation = 'relu', kernel_regularizer=l2(0.0001), padding='same'),\n",
    "    layers.MaxPooling2D(pool_size=(2, 2), strides=(1, 1), padding='same'),\n",
    "    layers.Conv2D(256, (3, 3), activation = 'relu', kernel_regularizer=l2(0.0001), padding='same'),\n",
    "    layers.MaxPooling2D(pool_size=(2, 2), strides=(1, 1), padding='same'),\n",
    "    layers.Conv2D(256, (3, 3), activation = 'relu', kernel_regularizer=l2(0.0001), padding='same'),\n",
    "    layers.MaxPooling2D(pool_size=(2, 2), strides=(1, 1), padding='same'),\n",
    "    layers.Flatten(),\n",
    "    layers.Dropout(0.5),\n",
    "    layers.Dense(128, activation='relu'),\n",
    "    layers.Dropout(0.5),\n",
    "    layers.Dense(128, activation='relu'),\n",
    "    layers.Dense(1, activation='sigmoid')\n",
    "])\n",
    "\n",
    "model_CNN_3 = model_score(model, x_train, y_train)"
   ]
  },
  {
   "cell_type": "code",
   "execution_count": 48,
   "metadata": {},
   "outputs": [
    {
     "name": "stdout",
     "output_type": "stream",
     "text": [
      "\n",
      " MODEL BUILDING ============================================================================ \n",
      "\n",
      "Epoch 1/64\n",
      "1624/1624 [==============================] - 167s 101ms/step - loss: 0.4036 - accuracy: 0.9200 - auc: 0.7902 - recall: 0.2610 - precision: 0.6482 - val_loss: 0.4930 - val_accuracy: 0.8820 - val_auc: 0.8621 - val_recall: 0.6493 - val_precision: 0.4138\n",
      "Epoch 2/64\n",
      "1624/1624 [==============================] - 156s 96ms/step - loss: 0.2805 - accuracy: 0.9348 - auc: 0.8776 - recall: 0.4469 - precision: 0.7302 - val_loss: 0.6525 - val_accuracy: 0.5035 - val_auc: 0.8335 - val_recall: 0.9627 - val_precision: 0.1535\n",
      "Epoch 3/64\n",
      "1624/1624 [==============================] - 151s 93ms/step - loss: 0.2445 - accuracy: 0.9364 - auc: 0.8879 - recall: 0.4861 - precision: 0.7224 - val_loss: 0.2242 - val_accuracy: 0.9390 - val_auc: 0.9155 - val_recall: 0.6343 - val_precision: 0.6855\n",
      "Epoch 4/64\n",
      "1624/1624 [==============================] - 153s 94ms/step - loss: 0.2495 - accuracy: 0.9325 - auc: 0.8813 - recall: 0.4950 - precision: 0.6747 - val_loss: 0.4194 - val_accuracy: 0.9203 - val_auc: 0.8129 - val_recall: 0.1493 - val_precision: 0.9524\n",
      "Epoch 5/64\n",
      "1624/1624 [==============================] - 152s 94ms/step - loss: 0.2307 - accuracy: 0.9389 - auc: 0.8931 - recall: 0.4974 - precision: 0.7452 - val_loss: 0.9866 - val_accuracy: 0.7152 - val_auc: 0.8617 - val_recall: 0.8433 - val_precision: 0.2247\n",
      "Epoch 6/64\n",
      "1624/1624 [==============================] - 152s 93ms/step - loss: 0.2206 - accuracy: 0.9410 - auc: 0.9048 - recall: 0.5207 - precision: 0.7538 - val_loss: 0.2717 - val_accuracy: 0.9276 - val_auc: 0.9115 - val_recall: 0.2761 - val_precision: 0.8315\n",
      "Epoch 7/64\n",
      "1624/1624 [==============================] - 151s 93ms/step - loss: 0.1993 - accuracy: 0.9455 - auc: 0.9238 - recall: 0.5624 - precision: 0.7760 - val_loss: 0.1855 - val_accuracy: 0.9494 - val_auc: 0.9334 - val_recall: 0.5653 - val_precision: 0.8370\n",
      "Epoch 8/64\n",
      "1624/1624 [==============================] - 152s 94ms/step - loss: 0.1825 - accuracy: 0.9485 - auc: 0.9347 - recall: 0.6044 - precision: 0.7792 - val_loss: 0.1801 - val_accuracy: 0.9473 - val_auc: 0.9310 - val_recall: 0.6026 - val_precision: 0.7802\n",
      "Epoch 9/64\n",
      "1624/1624 [==============================] - 150s 93ms/step - loss: 0.1633 - accuracy: 0.9518 - auc: 0.9448 - recall: 0.6415 - precision: 0.7888 - val_loss: 0.2104 - val_accuracy: 0.9269 - val_auc: 0.9443 - val_recall: 0.8153 - val_precision: 0.5750\n",
      "Epoch 10/64\n",
      "1624/1624 [==============================] - 151s 93ms/step - loss: 0.1562 - accuracy: 0.9540 - auc: 0.9482 - recall: 0.6515 - precision: 0.8047 - val_loss: 0.2696 - val_accuracy: 0.9023 - val_auc: 0.9458 - val_recall: 0.8489 - val_precision: 0.4851\n",
      "Epoch 11/64\n",
      "1624/1624 [==============================] - 150s 92ms/step - loss: 0.1446 - accuracy: 0.9560 - auc: 0.9572 - recall: 0.6750 - precision: 0.8087 - val_loss: 0.1512 - val_accuracy: 0.9560 - val_auc: 0.9628 - val_recall: 0.7780 - val_precision: 0.7554\n",
      "Epoch 12/64\n",
      "1624/1624 [==============================] - 149s 92ms/step - loss: 0.1408 - accuracy: 0.9575 - auc: 0.9594 - recall: 0.6896 - precision: 0.8145 - val_loss: 0.1590 - val_accuracy: 0.9463 - val_auc: 0.9559 - val_recall: 0.7836 - val_precision: 0.6840\n",
      "Epoch 13/64\n",
      "1624/1624 [==============================] - 150s 92ms/step - loss: 0.1378 - accuracy: 0.9585 - auc: 0.9606 - recall: 0.6990 - precision: 0.8175 - val_loss: 0.1575 - val_accuracy: 0.9525 - val_auc: 0.9556 - val_recall: 0.7369 - val_precision: 0.7481\n",
      "Epoch 14/64\n",
      "1624/1624 [==============================] - 150s 92ms/step - loss: 0.1314 - accuracy: 0.9596 - auc: 0.9652 - recall: 0.7117 - precision: 0.8202 - val_loss: 0.1435 - val_accuracy: 0.9548 - val_auc: 0.9596 - val_recall: 0.7668 - val_precision: 0.7514\n",
      "Epoch 15/64\n",
      "1624/1624 [==============================] - 150s 92ms/step - loss: 0.1275 - accuracy: 0.9614 - auc: 0.9663 - recall: 0.7132 - precision: 0.8372 - val_loss: 0.2033 - val_accuracy: 0.9264 - val_auc: 0.9600 - val_recall: 0.8377 - val_precision: 0.5705\n",
      "Epoch 16/64\n",
      "1624/1624 [==============================] - 148s 91ms/step - loss: 0.1264 - accuracy: 0.9614 - auc: 0.9683 - recall: 0.7098 - precision: 0.8399 - val_loss: 0.1341 - val_accuracy: 0.9551 - val_auc: 0.9700 - val_recall: 0.5840 - val_precision: 0.8968\n",
      "Epoch 17/64\n",
      "1624/1624 [==============================] - 149s 92ms/step - loss: 0.1197 - accuracy: 0.9629 - auc: 0.9718 - recall: 0.7223 - precision: 0.8467 - val_loss: 0.1259 - val_accuracy: 0.9608 - val_auc: 0.9708 - val_recall: 0.7108 - val_precision: 0.8429\n",
      "Epoch 18/64\n",
      "1624/1624 [==============================] - 148s 91ms/step - loss: 0.1175 - accuracy: 0.9642 - auc: 0.9732 - recall: 0.7403 - precision: 0.8457 - val_loss: 0.1501 - val_accuracy: 0.9499 - val_auc: 0.9713 - val_recall: 0.8396 - val_precision: 0.6891\n",
      "Epoch 19/64\n",
      "1624/1624 [==============================] - 150s 92ms/step - loss: 0.1133 - accuracy: 0.9652 - auc: 0.9758 - recall: 0.7532 - precision: 0.8468 - val_loss: 0.1341 - val_accuracy: 0.9563 - val_auc: 0.9649 - val_recall: 0.7313 - val_precision: 0.7840\n",
      "Epoch 20/64\n",
      "1624/1624 [==============================] - 148s 91ms/step - loss: 0.1085 - accuracy: 0.9663 - auc: 0.9774 - recall: 0.7630 - precision: 0.8502 - val_loss: 0.2365 - val_accuracy: 0.9099 - val_auc: 0.9656 - val_recall: 0.9030 - val_precision: 0.5084\n",
      "Epoch 21/64\n",
      "1624/1624 [==============================] - 148s 91ms/step - loss: 0.1063 - accuracy: 0.9682 - auc: 0.9780 - recall: 0.7717 - precision: 0.8640 - val_loss: 0.1662 - val_accuracy: 0.9567 - val_auc: 0.9498 - val_recall: 0.5914 - val_precision: 0.9109\n",
      "Epoch 22/64\n",
      "1624/1624 [==============================] - 148s 91ms/step - loss: 0.1033 - accuracy: 0.9685 - auc: 0.9799 - recall: 0.7755 - precision: 0.8642 - val_loss: 0.1333 - val_accuracy: 0.9621 - val_auc: 0.9639 - val_recall: 0.6735 - val_precision: 0.8914\n",
      "Epoch 23/64\n",
      "1624/1624 [==============================] - 149s 91ms/step - loss: 0.0837 - accuracy: 0.9745 - auc: 0.9877 - recall: 0.8283 - precision: 0.8835 - val_loss: 0.0985 - val_accuracy: 0.9679 - val_auc: 0.9823 - val_recall: 0.8321 - val_precision: 0.8244\n",
      "Epoch 24/64\n",
      "1624/1624 [==============================] - 151s 93ms/step - loss: 0.0784 - accuracy: 0.9761 - auc: 0.9890 - recall: 0.8480 - precision: 0.8844 - val_loss: 0.0963 - val_accuracy: 0.9695 - val_auc: 0.9814 - val_recall: 0.8060 - val_precision: 0.8571\n",
      "Epoch 25/64\n",
      "1624/1624 [==============================] - 149s 92ms/step - loss: 0.0758 - accuracy: 0.9777 - auc: 0.9898 - recall: 0.8554 - precision: 0.8945 - val_loss: 0.0974 - val_accuracy: 0.9685 - val_auc: 0.9812 - val_recall: 0.8041 - val_precision: 0.8484\n",
      "Epoch 26/64\n",
      "1624/1624 [==============================] - 149s 92ms/step - loss: 0.0733 - accuracy: 0.9784 - auc: 0.9902 - recall: 0.8603 - precision: 0.8972 - val_loss: 0.0960 - val_accuracy: 0.9676 - val_auc: 0.9839 - val_recall: 0.8302 - val_precision: 0.8226\n",
      "Epoch 27/64\n",
      "1624/1624 [==============================] - 149s 92ms/step - loss: 0.0717 - accuracy: 0.9781 - auc: 0.9908 - recall: 0.8586 - precision: 0.8964 - val_loss: 0.0952 - val_accuracy: 0.9705 - val_auc: 0.9822 - val_recall: 0.8172 - val_precision: 0.8588\n",
      "Epoch 28/64\n",
      "1624/1624 [==============================] - 147s 90ms/step - loss: 0.0690 - accuracy: 0.9794 - auc: 0.9910 - recall: 0.8609 - precision: 0.9073 - val_loss: 0.0933 - val_accuracy: 0.9714 - val_auc: 0.9819 - val_recall: 0.8116 - val_precision: 0.8717\n",
      "Epoch 29/64\n",
      "1624/1624 [==============================] - 148s 91ms/step - loss: 0.0663 - accuracy: 0.9809 - auc: 0.9923 - recall: 0.8690 - precision: 0.9162 - val_loss: 0.0985 - val_accuracy: 0.9681 - val_auc: 0.9839 - val_recall: 0.8619 - val_precision: 0.8077\n",
      "Epoch 30/64\n",
      "1624/1624 [==============================] - 148s 91ms/step - loss: 0.0655 - accuracy: 0.9811 - auc: 0.9918 - recall: 0.8692 - precision: 0.9178 - val_loss: 0.0976 - val_accuracy: 0.9707 - val_auc: 0.9799 - val_recall: 0.8041 - val_precision: 0.8707\n",
      "Epoch 31/64\n",
      "1624/1624 [==============================] - 147s 90ms/step - loss: 0.0631 - accuracy: 0.9821 - auc: 0.9920 - recall: 0.8760 - precision: 0.9229 - val_loss: 0.1009 - val_accuracy: 0.9707 - val_auc: 0.9792 - val_recall: 0.7985 - val_precision: 0.8753\n",
      "Epoch 32/64\n",
      "1624/1624 [==============================] - 149s 92ms/step - loss: 0.0623 - accuracy: 0.9820 - auc: 0.9926 - recall: 0.8743 - precision: 0.9230 - val_loss: 0.0973 - val_accuracy: 0.9686 - val_auc: 0.9817 - val_recall: 0.8414 - val_precision: 0.8245\n",
      "Epoch 33/64\n",
      "1624/1624 [==============================] - 149s 92ms/step - loss: 0.0600 - accuracy: 0.9832 - auc: 0.9929 - recall: 0.8826 - precision: 0.9288 - val_loss: 0.0968 - val_accuracy: 0.9707 - val_auc: 0.9822 - val_recall: 0.8358 - val_precision: 0.8469\n",
      "Epoch 34/64\n",
      "1624/1624 [==============================] - 147s 91ms/step - loss: 0.0559 - accuracy: 0.9850 - auc: 0.9941 - recall: 0.8942 - precision: 0.9373 - val_loss: 0.0943 - val_accuracy: 0.9723 - val_auc: 0.9821 - val_recall: 0.8340 - val_precision: 0.8629\n",
      "Epoch 35/64\n",
      "1624/1624 [==============================] - 149s 92ms/step - loss: 0.0552 - accuracy: 0.9851 - auc: 0.9941 - recall: 0.8934 - precision: 0.9398 - val_loss: 0.0956 - val_accuracy: 0.9719 - val_auc: 0.9818 - val_recall: 0.8321 - val_precision: 0.8610\n",
      "Epoch 36/64\n",
      "1624/1624 [==============================] - 152s 93ms/step - loss: 0.0547 - accuracy: 0.9854 - auc: 0.9942 - recall: 0.8961 - precision: 0.9408 - val_loss: 0.0968 - val_accuracy: 0.9714 - val_auc: 0.9817 - val_recall: 0.8228 - val_precision: 0.8630\n",
      "\n",
      " MODEL EVALUATION ON TEST SET ============================================================================ \n",
      "\n",
      "226/226 [==============================] - 13s 56ms/step - loss: 0.1058 - accuracy: 0.9728 - auc: 0.9747 - recall: 0.8383 - precision: 0.8574\n"
     ]
    }
   ],
   "source": [
    "model = tf.keras.Sequential([\n",
    "    layers.Reshape(target_shape=(20, 20, 1), input_shape=(400,)),\n",
    "    #keras.layers.InputLayer(input_shape=(20, 20, 1)),\n",
    "    conv_block(32),\n",
    "    conv_block(64),\n",
    "    conv_block(128),\n",
    "    conv_block(256),\n",
    "    conv_block(256),\n",
    "    tf.keras.layers.Flatten(),\n",
    "    tf.keras.layers.Dense(128, activation='relu'),\n",
    "    tf.keras.layers.Dense(128, activation='relu'),\n",
    "    tf.keras.layers.Dense(1, activation='sigmoid')\n",
    "])\n",
    "\n",
    "model_CNN_4 = model_score(model, x_train, y_train)"
   ]
  },
  {
   "cell_type": "code",
   "execution_count": 66,
   "metadata": {},
   "outputs": [
    {
     "name": "stdout",
     "output_type": "stream",
     "text": [
      "\n",
      " MODEL BUILDING ============================================================================ \n",
      "\n",
      "Epoch 1/128\n",
      "1624/1624 [==============================] - 29s 17ms/step - loss: 0.1688 - accuracy: 0.9479 - auc: 0.9219 - recall: 0.5610 - precision: 0.8138 - val_loss: 0.1664 - val_accuracy: 0.9574 - val_auc: 0.9582 - val_recall: 0.7167 - val_precision: 0.7954\n",
      "Epoch 2/128\n",
      "1624/1624 [==============================] - 30s 19ms/step - loss: 0.1108 - accuracy: 0.9655 - auc: 0.9712 - recall: 0.7255 - precision: 0.8775 - val_loss: 0.1071 - val_accuracy: 0.9683 - val_auc: 0.9720 - val_recall: 0.7605 - val_precision: 0.8753\n",
      "Epoch 3/128\n",
      "1624/1624 [==============================] - 32s 20ms/step - loss: 0.0924 - accuracy: 0.9729 - auc: 0.9810 - recall: 0.7869 - precision: 0.9054 - val_loss: 0.1032 - val_accuracy: 0.9747 - val_auc: 0.9829 - val_recall: 0.7643 - val_precision: 0.9481\n",
      "Epoch 4/128\n",
      "1624/1624 [==============================] - 33s 20ms/step - loss: 0.0808 - accuracy: 0.9778 - auc: 0.9859 - recall: 0.8240 - precision: 0.9264 - val_loss: 0.0988 - val_accuracy: 0.9721 - val_auc: 0.9850 - val_recall: 0.7947 - val_precision: 0.8875\n",
      "Epoch 5/128\n",
      "1624/1624 [==============================] - 33s 20ms/step - loss: 0.0767 - accuracy: 0.9804 - auc: 0.9886 - recall: 0.8496 - precision: 0.9306 - val_loss: 0.1099 - val_accuracy: 0.9688 - val_auc: 0.9839 - val_recall: 0.8346 - val_precision: 0.8252\n",
      "Epoch 6/128\n",
      "1624/1624 [==============================] - 34s 21ms/step - loss: 0.0687 - accuracy: 0.9836 - auc: 0.9923 - recall: 0.8752 - precision: 0.9422 - val_loss: 0.1115 - val_accuracy: 0.9711 - val_auc: 0.9819 - val_recall: 0.8384 - val_precision: 0.8432\n",
      "Epoch 7/128\n",
      "1624/1624 [==============================] - 34s 21ms/step - loss: 0.0647 - accuracy: 0.9857 - auc: 0.9943 - recall: 0.8922 - precision: 0.9489 - val_loss: 0.0955 - val_accuracy: 0.9773 - val_auc: 0.9833 - val_recall: 0.8308 - val_precision: 0.9123\n",
      "Epoch 8/128\n",
      "1624/1624 [==============================] - 32s 20ms/step - loss: 0.0618 - accuracy: 0.9866 - auc: 0.9951 - recall: 0.9037 - precision: 0.9479 - val_loss: 0.1028 - val_accuracy: 0.9747 - val_auc: 0.9791 - val_recall: 0.8365 - val_precision: 0.8800\n",
      "Epoch 9/128\n",
      "1624/1624 [==============================] - 32s 19ms/step - loss: 0.0575 - accuracy: 0.9890 - auc: 0.9959 - recall: 0.9251 - precision: 0.9535 - val_loss: 0.1045 - val_accuracy: 0.9761 - val_auc: 0.9845 - val_recall: 0.8498 - val_precision: 0.8834\n",
      "Epoch 10/128\n",
      "1624/1624 [==============================] - 30s 18ms/step - loss: 0.0577 - accuracy: 0.9894 - auc: 0.9957 - recall: 0.9279 - precision: 0.9559 - val_loss: 0.1104 - val_accuracy: 0.9723 - val_auc: 0.9849 - val_recall: 0.8631 - val_precision: 0.8376\n",
      "Epoch 11/128\n",
      "1624/1624 [==============================] - 31s 19ms/step - loss: 0.0551 - accuracy: 0.9902 - auc: 0.9968 - recall: 0.9365 - precision: 0.9559 - val_loss: 0.2460 - val_accuracy: 0.9430 - val_auc: 0.9741 - val_recall: 0.9144 - val_precision: 0.6288\n",
      "Epoch 12/128\n",
      "1624/1624 [==============================] - 31s 19ms/step - loss: 0.0526 - accuracy: 0.9912 - auc: 0.9974 - recall: 0.9396 - precision: 0.9632 - val_loss: 0.1166 - val_accuracy: 0.9742 - val_auc: 0.9719 - val_recall: 0.7490 - val_precision: 0.9586\n",
      "Epoch 13/128\n",
      "1624/1624 [==============================] - 31s 19ms/step - loss: 0.0396 - accuracy: 0.9960 - auc: 0.9989 - recall: 0.9719 - precision: 0.9843 - val_loss: 0.0973 - val_accuracy: 0.9806 - val_auc: 0.9838 - val_recall: 0.8612 - val_precision: 0.9207\n",
      "Epoch 14/128\n",
      "1624/1624 [==============================] - 30s 19ms/step - loss: 0.0333 - accuracy: 0.9978 - auc: 0.9993 - recall: 0.9870 - precision: 0.9895 - val_loss: 0.1112 - val_accuracy: 0.9808 - val_auc: 0.9795 - val_recall: 0.8631 - val_precision: 0.9209\n",
      "Epoch 15/128\n",
      "1624/1624 [==============================] - 30s 19ms/step - loss: 0.0301 - accuracy: 0.9986 - auc: 0.9997 - recall: 0.9920 - precision: 0.9922 - val_loss: 0.1129 - val_accuracy: 0.9815 - val_auc: 0.9744 - val_recall: 0.8688 - val_precision: 0.9232\n",
      "Epoch 16/128\n",
      "1624/1624 [==============================] - 31s 19ms/step - loss: 0.0278 - accuracy: 0.9989 - auc: 1.0000 - recall: 0.9941 - precision: 0.9937 - val_loss: 0.1215 - val_accuracy: 0.9816 - val_auc: 0.9730 - val_recall: 0.8669 - val_precision: 0.9268\n",
      "Epoch 17/128\n",
      "1624/1624 [==============================] - 31s 19ms/step - loss: 0.0268 - accuracy: 0.9988 - auc: 0.9999 - recall: 0.9937 - precision: 0.9935 - val_loss: 0.1383 - val_accuracy: 0.9813 - val_auc: 0.9682 - val_recall: 0.8688 - val_precision: 0.9214\n",
      "Epoch 18/128\n",
      "1624/1624 [==============================] - 30s 19ms/step - loss: 0.0253 - accuracy: 0.9992 - auc: 1.0000 - recall: 0.9983 - precision: 0.9935 - val_loss: 0.1400 - val_accuracy: 0.9816 - val_auc: 0.9649 - val_recall: 0.8631 - val_precision: 0.9303\n",
      "Epoch 19/128\n",
      "1624/1624 [==============================] - 31s 19ms/step - loss: 0.0248 - accuracy: 0.9994 - auc: 1.0000 - recall: 0.9977 - precision: 0.9956 - val_loss: 0.1439 - val_accuracy: 0.9811 - val_auc: 0.9646 - val_recall: 0.8707 - val_precision: 0.9178\n",
      "Epoch 20/128\n",
      "1624/1624 [==============================] - 33s 20ms/step - loss: 0.0246 - accuracy: 0.9994 - auc: 1.0000 - recall: 0.9981 - precision: 0.9950 - val_loss: 0.1498 - val_accuracy: 0.9815 - val_auc: 0.9639 - val_recall: 0.8726 - val_precision: 0.9198\n",
      "Epoch 21/128\n",
      "1624/1624 [==============================] - 33s 20ms/step - loss: 0.0243 - accuracy: 0.9994 - auc: 1.0000 - recall: 0.9979 - precision: 0.9958 - val_loss: 0.1602 - val_accuracy: 0.9813 - val_auc: 0.9611 - val_recall: 0.8669 - val_precision: 0.9231\n",
      "Epoch 22/128\n",
      "1624/1624 [==============================] - 32s 20ms/step - loss: 0.0240 - accuracy: 0.9995 - auc: 1.0000 - recall: 0.9990 - precision: 0.9958 - val_loss: 0.1659 - val_accuracy: 0.9813 - val_auc: 0.9618 - val_recall: 0.8707 - val_precision: 0.9197\n",
      "Epoch 23/128\n",
      "1624/1624 [==============================] - 32s 20ms/step - loss: 0.0239 - accuracy: 0.9995 - auc: 1.0000 - recall: 0.9985 - precision: 0.9962 - val_loss: 0.1678 - val_accuracy: 0.9813 - val_auc: 0.9619 - val_recall: 0.8688 - val_precision: 0.9214\n",
      "\n",
      " MODEL EVALUATION ON TEST SET ============================================================================ \n",
      "\n",
      "226/226 [==============================] - 3s 12ms/step - loss: 0.0958 - accuracy: 0.9766 - auc: 0.9859 - recall: 0.8157 - precision: 0.9076\n"
     ]
    }
   ],
   "source": [
    "# 5-layer on normally sampled train set.\n",
    "# predictions_CNN_prob_6 \n",
    "# normally sampled\n",
    "#  \n",
    "\n",
    "model = tf.keras.Sequential([\n",
    "    layers.Reshape(target_shape=(20, 20, 1), input_shape=(400,)),\n",
    "    layers.Conv2D(32, (3, 3), activation = 'relu', kernel_regularizer=l2(0.00001), padding='same'),\n",
    "    layers.BatchNormalization(),\n",
    "    layers.MaxPooling2D(pool_size=(2, 2), strides=(2, 2), padding='same'),\n",
    "    layers.Conv2D(64, (3, 3), activation = 'relu', kernel_regularizer=l2(0.00001), padding='same'),\n",
    "    layers.BatchNormalization(),\n",
    "    layers.MaxPooling2D(pool_size=(2, 2), strides=(2, 2), padding='same'),\n",
    "    layers.Conv2D(128, (3, 3), activation = 'relu', kernel_regularizer=l2(0.00001), padding='same'),\n",
    "    layers.BatchNormalization(),\n",
    "    layers.MaxPooling2D(pool_size=(2, 2), strides=(2, 2), padding='same'),\n",
    "    layers.Conv2D(256, (3, 3), activation = 'relu', kernel_regularizer=l2(0.00001), padding='same'),\n",
    "    layers.BatchNormalization(),\n",
    "    layers.MaxPooling2D(pool_size=(2, 2), strides=(2, 2), padding='same'),\n",
    "    layers.Conv2D(256, (3, 3), activation = 'relu', kernel_regularizer=l2(0.00001), padding='same'),\n",
    "    layers.BatchNormalization(),\n",
    "    layers.MaxPooling2D(pool_size=(2, 2), strides=(2, 2), padding='same'),\n",
    "    layers.Flatten(),\n",
    "    #layers.Dropout(0.5),\n",
    "    layers.Dense(128, activation='relu'),\n",
    "    layers.Dropout(0.5),\n",
    "    layers.Dense(96, activation='relu'),\n",
    "    layers.Dense(1, activation='sigmoid')\n",
    "])\n",
    "\n",
    "model_CNN_6 = model_score(model, x_train, y_train)"
   ]
  },
  {
   "cell_type": "code",
   "execution_count": 69,
   "metadata": {},
   "outputs": [
    {
     "name": "stdout",
     "output_type": "stream",
     "text": [
      "\n",
      " MODEL BUILDING ============================================================================ \n",
      "\n",
      "Epoch 1/128\n",
      "1624/1624 [==============================] - 29s 17ms/step - loss: 0.1820 - accuracy: 0.9436 - auc: 0.9062 - recall: 0.5161 - precision: 0.7870 - val_loss: 0.1933 - val_accuracy: 0.9589 - val_auc: 0.9688 - val_recall: 0.6736 - val_precision: 0.8480\n",
      "Epoch 2/128\n",
      "1624/1624 [==============================] - 29s 18ms/step - loss: 0.1162 - accuracy: 0.9647 - auc: 0.9660 - recall: 0.7164 - precision: 0.8704 - val_loss: 0.1910 - val_accuracy: 0.9674 - val_auc: 0.9828 - val_recall: 0.8566 - val_precision: 0.8021\n",
      "Epoch 3/128\n",
      "1624/1624 [==============================] - 30s 18ms/step - loss: 0.0971 - accuracy: 0.9713 - auc: 0.9779 - recall: 0.7686 - precision: 0.8989 - val_loss: 0.1558 - val_accuracy: 0.9556 - val_auc: 0.9654 - val_recall: 0.6962 - val_precision: 0.7953\n",
      "Epoch 4/128\n",
      "1624/1624 [==============================] - 32s 20ms/step - loss: 0.0847 - accuracy: 0.9759 - auc: 0.9849 - recall: 0.8146 - precision: 0.9094 - val_loss: 0.0968 - val_accuracy: 0.9731 - val_auc: 0.9836 - val_recall: 0.7623 - val_precision: 0.9330\n",
      "Epoch 5/128\n",
      "1624/1624 [==============================] - 34s 21ms/step - loss: 0.0794 - accuracy: 0.9796 - auc: 0.9867 - recall: 0.8399 - precision: 0.9282 - val_loss: 0.1193 - val_accuracy: 0.9730 - val_auc: 0.9868 - val_recall: 0.8377 - val_precision: 0.8638\n",
      "Epoch 6/128\n",
      "1624/1624 [==============================] - 31s 19ms/step - loss: 0.0709 - accuracy: 0.9826 - auc: 0.9921 - recall: 0.8667 - precision: 0.9359 - val_loss: 0.1211 - val_accuracy: 0.9756 - val_auc: 0.9900 - val_recall: 0.8868 - val_precision: 0.8530\n",
      "Epoch 7/128\n",
      "1624/1624 [==============================] - 30s 18ms/step - loss: 0.0655 - accuracy: 0.9850 - auc: 0.9932 - recall: 0.8895 - precision: 0.9414 - val_loss: 0.1748 - val_accuracy: 0.9648 - val_auc: 0.9858 - val_recall: 0.8943 - val_precision: 0.7633\n",
      "Epoch 8/128\n",
      "1624/1624 [==============================] - 30s 19ms/step - loss: 0.0639 - accuracy: 0.9858 - auc: 0.9944 - recall: 0.8970 - precision: 0.9427 - val_loss: 0.1090 - val_accuracy: 0.9742 - val_auc: 0.9871 - val_recall: 0.8623 - val_precision: 0.8574\n",
      "Epoch 9/128\n",
      "1624/1624 [==============================] - 31s 19ms/step - loss: 0.0597 - accuracy: 0.9874 - auc: 0.9963 - recall: 0.9136 - precision: 0.9449 - val_loss: 0.1074 - val_accuracy: 0.9731 - val_auc: 0.9808 - val_recall: 0.7906 - val_precision: 0.9050\n",
      "Epoch 10/128\n",
      "1624/1624 [==============================] - 32s 20ms/step - loss: 0.0414 - accuracy: 0.9949 - auc: 0.9988 - recall: 0.9627 - precision: 0.9801 - val_loss: 0.0890 - val_accuracy: 0.9811 - val_auc: 0.9870 - val_recall: 0.8792 - val_precision: 0.9119\n",
      "Epoch 11/128\n",
      "1624/1624 [==============================] - 35s 22ms/step - loss: 0.0329 - accuracy: 0.9972 - auc: 0.9996 - recall: 0.9828 - precision: 0.9867 - val_loss: 0.0992 - val_accuracy: 0.9816 - val_auc: 0.9803 - val_recall: 0.8849 - val_precision: 0.9125\n",
      "Epoch 12/128\n",
      "1624/1624 [==============================] - 34s 21ms/step - loss: 0.0291 - accuracy: 0.9984 - auc: 0.9997 - recall: 0.9908 - precision: 0.9913 - val_loss: 0.1220 - val_accuracy: 0.9813 - val_auc: 0.9679 - val_recall: 0.8736 - val_precision: 0.9187\n",
      "Epoch 13/128\n",
      "1624/1624 [==============================] - 33s 20ms/step - loss: 0.0271 - accuracy: 0.9987 - auc: 0.9999 - recall: 0.9932 - precision: 0.9923 - val_loss: 0.1309 - val_accuracy: 0.9822 - val_auc: 0.9662 - val_recall: 0.8830 - val_precision: 0.9194\n",
      "Epoch 14/128\n",
      "1624/1624 [==============================] - 33s 20ms/step - loss: 0.0257 - accuracy: 0.9987 - auc: 1.0000 - recall: 0.9932 - precision: 0.9928 - val_loss: 0.1361 - val_accuracy: 0.9816 - val_auc: 0.9675 - val_recall: 0.8792 - val_precision: 0.9173\n",
      "Epoch 15/128\n",
      "1624/1624 [==============================] - 32s 20ms/step - loss: 0.0243 - accuracy: 0.9991 - auc: 1.0000 - recall: 0.9957 - precision: 0.9947 - val_loss: 0.1586 - val_accuracy: 0.9820 - val_auc: 0.9630 - val_recall: 0.8811 - val_precision: 0.9193\n",
      "Epoch 16/128\n",
      "1624/1624 [==============================] - 33s 20ms/step - loss: 0.0228 - accuracy: 0.9995 - auc: 1.0000 - recall: 0.9972 - precision: 0.9970 - val_loss: 0.1606 - val_accuracy: 0.9813 - val_auc: 0.9630 - val_recall: 0.8811 - val_precision: 0.9121\n",
      "Epoch 17/128\n",
      "1624/1624 [==============================] - 33s 20ms/step - loss: 0.0228 - accuracy: 0.9994 - auc: 1.0000 - recall: 0.9972 - precision: 0.9960 - val_loss: 0.1626 - val_accuracy: 0.9815 - val_auc: 0.9639 - val_recall: 0.8811 - val_precision: 0.9139\n",
      "Epoch 18/128\n",
      "1624/1624 [==============================] - 29s 18ms/step - loss: 0.0223 - accuracy: 0.9995 - auc: 1.0000 - recall: 0.9977 - precision: 0.9966 - val_loss: 0.1689 - val_accuracy: 0.9823 - val_auc: 0.9628 - val_recall: 0.8906 - val_precision: 0.9147\n",
      "Epoch 19/128\n",
      "1624/1624 [==============================] - 30s 18ms/step - loss: 0.0222 - accuracy: 0.9996 - auc: 1.0000 - recall: 0.9987 - precision: 0.9964 - val_loss: 0.1779 - val_accuracy: 0.9818 - val_auc: 0.9630 - val_recall: 0.8830 - val_precision: 0.9159\n",
      "Epoch 20/128\n",
      "1624/1624 [==============================] - 31s 19ms/step - loss: 0.0218 - accuracy: 0.9996 - auc: 1.0000 - recall: 0.9991 - precision: 0.9964 - val_loss: 0.1863 - val_accuracy: 0.9822 - val_auc: 0.9611 - val_recall: 0.8868 - val_precision: 0.9162\n",
      "Epoch 21/128\n",
      "1624/1624 [==============================] - 34s 21ms/step - loss: 0.0219 - accuracy: 0.9995 - auc: 1.0000 - recall: 0.9991 - precision: 0.9958 - val_loss: 0.1888 - val_accuracy: 0.9818 - val_auc: 0.9603 - val_recall: 0.8830 - val_precision: 0.9159\n",
      "Epoch 22/128\n",
      "1624/1624 [==============================] - 31s 19ms/step - loss: 0.0219 - accuracy: 0.9995 - auc: 1.0000 - recall: 0.9981 - precision: 0.9966 - val_loss: 0.1881 - val_accuracy: 0.9822 - val_auc: 0.9603 - val_recall: 0.8868 - val_precision: 0.9162\n",
      "Epoch 23/128\n",
      "1624/1624 [==============================] - 32s 20ms/step - loss: 0.0218 - accuracy: 0.9996 - auc: 1.0000 - recall: 0.9991 - precision: 0.9960 - val_loss: 0.1897 - val_accuracy: 0.9818 - val_auc: 0.9611 - val_recall: 0.8830 - val_precision: 0.9159\n",
      "Epoch 24/128\n",
      "1624/1624 [==============================] - 33s 20ms/step - loss: 0.0216 - accuracy: 0.9997 - auc: 1.0000 - recall: 0.9991 - precision: 0.9970 - val_loss: 0.1914 - val_accuracy: 0.9822 - val_auc: 0.9603 - val_recall: 0.8849 - val_precision: 0.9178\n",
      "Epoch 25/128\n",
      "1624/1624 [==============================] - 32s 20ms/step - loss: 0.0217 - accuracy: 0.9997 - auc: 1.0000 - recall: 0.9996 - precision: 0.9968 - val_loss: 0.1942 - val_accuracy: 0.9818 - val_auc: 0.9603 - val_recall: 0.8811 - val_precision: 0.9175\n",
      "Epoch 26/128\n",
      "1624/1624 [==============================] - 33s 20ms/step - loss: 0.0216 - accuracy: 0.9997 - auc: 1.0000 - recall: 0.9998 - precision: 0.9966 - val_loss: 0.1926 - val_accuracy: 0.9822 - val_auc: 0.9593 - val_recall: 0.8868 - val_precision: 0.9162\n",
      "\n",
      " MODEL EVALUATION ON TEST SET ============================================================================ \n",
      "\n",
      "226/226 [==============================] - 3s 12ms/step - loss: 0.0849 - accuracy: 0.9816 - auc: 0.9872 - recall: 0.8723 - precision: 0.9236\n"
     ]
    }
   ],
   "source": [
    "# 5-layer on normally sampled train set. => to submit\n",
    "# predictions_CNN_prob_7\n",
    "# normally sampled\n",
    "#  \n",
    "\n",
    "model = tf.keras.Sequential([\n",
    "    layers.Reshape(target_shape=(20, 20, 1), input_shape=(400,)),\n",
    "    layers.Conv2D(32, (3, 3), activation = 'relu', kernel_regularizer=l2(0.00001), padding='same'),\n",
    "    layers.BatchNormalization(),\n",
    "    layers.MaxPooling2D(pool_size=(2, 2), strides=(2, 2), padding='same'),\n",
    "    layers.Conv2D(64, (3, 3), activation = 'relu', kernel_regularizer=l2(0.00001), padding='same'),\n",
    "    layers.BatchNormalization(),\n",
    "    layers.MaxPooling2D(pool_size=(2, 2), strides=(2, 2), padding='same'),\n",
    "    layers.Conv2D(128, (3, 3), activation = 'relu', kernel_regularizer=l2(0.00001), padding='same'),\n",
    "    layers.BatchNormalization(),\n",
    "    layers.MaxPooling2D(pool_size=(2, 2), strides=(2, 2), padding='same'),\n",
    "    layers.Conv2D(256, (3, 3), activation = 'relu', kernel_regularizer=l2(0.00001), padding='same'),\n",
    "    layers.BatchNormalization(),\n",
    "    layers.MaxPooling2D(pool_size=(2, 2), strides=(2, 2), padding='same'),\n",
    "    layers.Conv2D(256, (3, 3), activation = 'relu', kernel_regularizer=l2(0.00001), padding='same'),\n",
    "    layers.BatchNormalization(),\n",
    "    layers.MaxPooling2D(pool_size=(2, 2), strides=(2, 2), padding='same'),\n",
    "    layers.Flatten(),\n",
    "    #layers.Dropout(0.5),\n",
    "    layers.Dense(128, activation='relu'),\n",
    "    layers.Dropout(0.6),\n",
    "    layers.Dense(64, activation='relu'),\n",
    "    layers.Dense(1, activation='sigmoid')\n",
    "])\n",
    "\n",
    "model_CNN_7 = model_score(model, x_train, y_train)"
   ]
  },
  {
   "cell_type": "code",
   "execution_count": 70,
   "metadata": {},
   "outputs": [
    {
     "name": "stdout",
     "output_type": "stream",
     "text": [
      "          Id     Predicted\n",
      "0          0  8.565439e-06\n",
      "1          1  6.351068e-05\n",
      "2          2  2.352402e-05\n",
      "3          3  2.126926e-09\n",
      "4          4  1.668296e-07\n",
      "...      ...           ...\n",
      "30912  30912  1.296144e-04\n",
      "30913  30913  3.701574e-03\n",
      "30914  30914  2.170700e-01\n",
      "30915  30915  8.016825e-06\n",
      "30916  30916  2.035295e-06\n",
      "\n",
      "[30917 rows x 2 columns]\n"
     ]
    },
    {
     "data": {
      "text/plain": [
       "True"
      ]
     },
     "execution_count": 70,
     "metadata": {},
     "output_type": "execute_result"
    }
   ],
   "source": [
    "pred_test_to_csv(model_CNN_7[0], \"predictions_CNN_prob_7\")"
   ]
  },
  {
   "cell_type": "code",
   "execution_count": 74,
   "metadata": {},
   "outputs": [
    {
     "name": "stdout",
     "output_type": "stream",
     "text": [
      "\n",
      " MODEL BUILDING ============================================================================ \n",
      "\n",
      "Epoch 1/128\n",
      "1624/1624 [==============================] - 30s 17ms/step - loss: 0.2661 - accuracy: 0.9128 - auc: 0.8316 - recall: 0.2470 - precision: 0.5385 - val_loss: 0.2039 - val_accuracy: 0.9463 - val_auc: 0.9604 - val_recall: 0.4736 - val_precision: 0.8901\n",
      "Epoch 2/128\n",
      "1624/1624 [==============================] - 30s 19ms/step - loss: 0.1632 - accuracy: 0.9481 - auc: 0.9397 - recall: 0.5320 - precision: 0.8336 - val_loss: 0.2349 - val_accuracy: 0.9612 - val_auc: 0.9686 - val_recall: 0.7472 - val_precision: 0.8148\n",
      "Epoch 3/128\n",
      "1624/1624 [==============================] - 35s 22ms/step - loss: 0.1337 - accuracy: 0.9596 - auc: 0.9597 - recall: 0.6445 - precision: 0.8759 - val_loss: 0.1656 - val_accuracy: 0.9633 - val_auc: 0.9681 - val_recall: 0.6887 - val_precision: 0.8859\n",
      "Epoch 4/128\n",
      "1624/1624 [==============================] - 35s 22ms/step - loss: 0.1103 - accuracy: 0.9685 - auc: 0.9749 - recall: 0.7243 - precision: 0.9089 - val_loss: 0.2215 - val_accuracy: 0.9702 - val_auc: 0.9795 - val_recall: 0.7887 - val_precision: 0.8745\n",
      "Epoch 5/128\n",
      "1624/1624 [==============================] - 32s 20ms/step - loss: 0.1054 - accuracy: 0.9700 - auc: 0.9789 - recall: 0.7432 - precision: 0.9089 - val_loss: 0.1399 - val_accuracy: 0.9645 - val_auc: 0.9751 - val_recall: 0.6660 - val_precision: 0.9265\n",
      "Epoch 6/128\n",
      "1624/1624 [==============================] - 33s 20ms/step - loss: 0.0941 - accuracy: 0.9752 - auc: 0.9843 - recall: 0.7941 - precision: 0.9210 - val_loss: 0.1393 - val_accuracy: 0.9707 - val_auc: 0.9850 - val_recall: 0.7321 - val_precision: 0.9349\n",
      "Epoch 7/128\n",
      "1624/1624 [==============================] - 32s 20ms/step - loss: 0.0849 - accuracy: 0.9781 - auc: 0.9886 - recall: 0.8235 - precision: 0.9258 - val_loss: 0.1368 - val_accuracy: 0.9754 - val_auc: 0.9844 - val_recall: 0.8245 - val_precision: 0.8992\n",
      "Epoch 8/128\n",
      "1624/1624 [==============================] - 33s 20ms/step - loss: 0.0838 - accuracy: 0.9798 - auc: 0.9893 - recall: 0.8384 - precision: 0.9316 - val_loss: 0.1353 - val_accuracy: 0.9770 - val_auc: 0.9895 - val_recall: 0.8528 - val_precision: 0.8915\n",
      "Epoch 9/128\n",
      "1624/1624 [==============================] - 33s 21ms/step - loss: 0.0771 - accuracy: 0.9818 - auc: 0.9919 - recall: 0.8584 - precision: 0.9346 - val_loss: 0.0935 - val_accuracy: 0.9763 - val_auc: 0.9857 - val_recall: 0.8415 - val_precision: 0.8938\n",
      "Epoch 10/128\n",
      "1624/1624 [==============================] - 34s 21ms/step - loss: 0.0733 - accuracy: 0.9837 - auc: 0.9930 - recall: 0.8750 - precision: 0.9405 - val_loss: 0.1120 - val_accuracy: 0.9773 - val_auc: 0.9837 - val_recall: 0.8528 - val_precision: 0.8950\n",
      "Epoch 11/128\n",
      "1624/1624 [==============================] - 35s 21ms/step - loss: 0.0679 - accuracy: 0.9853 - auc: 0.9941 - recall: 0.9067 - precision: 0.9293 - val_loss: 0.1766 - val_accuracy: 0.9543 - val_auc: 0.9579 - val_recall: 0.5264 - val_precision: 0.9555\n",
      "Epoch 12/128\n",
      "1624/1624 [==============================] - 34s 21ms/step - loss: 0.0704 - accuracy: 0.9859 - auc: 0.9938 - recall: 0.9102 - precision: 0.9326 - val_loss: 0.1050 - val_accuracy: 0.9735 - val_auc: 0.9881 - val_recall: 0.9038 - val_precision: 0.8244\n",
      "Epoch 13/128\n",
      "1624/1624 [==============================] - 35s 22ms/step - loss: 0.0645 - accuracy: 0.9870 - auc: 0.9954 - recall: 0.9176 - precision: 0.9374 - val_loss: 0.1038 - val_accuracy: 0.9754 - val_auc: 0.9855 - val_recall: 0.8038 - val_precision: 0.9181\n",
      "Epoch 14/128\n",
      "1624/1624 [==============================] - 34s 21ms/step - loss: 0.0643 - accuracy: 0.9879 - auc: 0.9958 - recall: 0.9189 - precision: 0.9461 - val_loss: 0.1071 - val_accuracy: 0.9745 - val_auc: 0.9791 - val_recall: 0.7925 - val_precision: 0.9190\n",
      "Epoch 15/128\n",
      "1624/1624 [==============================] - 34s 21ms/step - loss: 0.0477 - accuracy: 0.9933 - auc: 0.9987 - recall: 0.9606 - precision: 0.9653 - val_loss: 0.0926 - val_accuracy: 0.9802 - val_auc: 0.9869 - val_recall: 0.8792 - val_precision: 0.9031\n",
      "Epoch 16/128\n",
      "1624/1624 [==============================] - 36s 22ms/step - loss: 0.0399 - accuracy: 0.9963 - auc: 0.9992 - recall: 0.9804 - precision: 0.9783 - val_loss: 0.0992 - val_accuracy: 0.9811 - val_auc: 0.9828 - val_recall: 0.8811 - val_precision: 0.9103\n",
      "Epoch 17/128\n",
      "1624/1624 [==============================] - 34s 21ms/step - loss: 0.0360 - accuracy: 0.9969 - auc: 0.9999 - recall: 0.9855 - precision: 0.9803 - val_loss: 0.1137 - val_accuracy: 0.9799 - val_auc: 0.9806 - val_recall: 0.8887 - val_precision: 0.8920\n",
      "Epoch 18/128\n",
      "1624/1624 [==============================] - 34s 21ms/step - loss: 0.0336 - accuracy: 0.9977 - auc: 0.9998 - recall: 0.9902 - precision: 0.9843 - val_loss: 0.1296 - val_accuracy: 0.9809 - val_auc: 0.9767 - val_recall: 0.8925 - val_precision: 0.8992\n",
      "Epoch 19/128\n",
      "1624/1624 [==============================] - 37s 23ms/step - loss: 0.0328 - accuracy: 0.9979 - auc: 0.9998 - recall: 0.9898 - precision: 0.9866 - val_loss: 0.1333 - val_accuracy: 0.9801 - val_auc: 0.9733 - val_recall: 0.8849 - val_precision: 0.8967\n",
      "Epoch 20/128\n",
      "1624/1624 [==============================] - 37s 23ms/step - loss: 0.0308 - accuracy: 0.9981 - auc: 0.9998 - recall: 0.9949 - precision: 0.9846 - val_loss: 0.1486 - val_accuracy: 0.9813 - val_auc: 0.9663 - val_recall: 0.8830 - val_precision: 0.9105\n",
      "Epoch 21/128\n",
      "1624/1624 [==============================] - 39s 24ms/step - loss: 0.0291 - accuracy: 0.9988 - auc: 0.9999 - recall: 0.9970 - precision: 0.9903 - val_loss: 0.1512 - val_accuracy: 0.9815 - val_auc: 0.9673 - val_recall: 0.8868 - val_precision: 0.9091\n",
      "Epoch 22/128\n",
      "1624/1624 [==============================] - 34s 21ms/step - loss: 0.0288 - accuracy: 0.9987 - auc: 1.0000 - recall: 0.9966 - precision: 0.9894 - val_loss: 0.1557 - val_accuracy: 0.9818 - val_auc: 0.9664 - val_recall: 0.8811 - val_precision: 0.9175\n",
      "Epoch 23/128\n",
      "1624/1624 [==============================] - 33s 20ms/step - loss: 0.0287 - accuracy: 0.9988 - auc: 1.0000 - recall: 0.9974 - precision: 0.9894 - val_loss: 0.1615 - val_accuracy: 0.9816 - val_auc: 0.9654 - val_recall: 0.8868 - val_precision: 0.9109\n",
      "Epoch 24/128\n",
      "1624/1624 [==============================] - 32s 20ms/step - loss: 0.0287 - accuracy: 0.9988 - auc: 0.9999 - recall: 0.9979 - precision: 0.9892 - val_loss: 0.1694 - val_accuracy: 0.9813 - val_auc: 0.9635 - val_recall: 0.8811 - val_precision: 0.9121\n",
      "Epoch 25/128\n",
      "1624/1624 [==============================] - 32s 20ms/step - loss: 0.0281 - accuracy: 0.9989 - auc: 1.0000 - recall: 0.9981 - precision: 0.9901 - val_loss: 0.1731 - val_accuracy: 0.9813 - val_auc: 0.9635 - val_recall: 0.8868 - val_precision: 0.9073\n",
      "Epoch 26/128\n",
      "1624/1624 [==============================] - 32s 20ms/step - loss: 0.0281 - accuracy: 0.9989 - auc: 1.0000 - recall: 0.9979 - precision: 0.9903 - val_loss: 0.1740 - val_accuracy: 0.9816 - val_auc: 0.9635 - val_recall: 0.8868 - val_precision: 0.9109\n",
      "Epoch 27/128\n",
      "1624/1624 [==============================] - 33s 20ms/step - loss: 0.0283 - accuracy: 0.9990 - auc: 1.0000 - recall: 0.9977 - precision: 0.9909 - val_loss: 0.1747 - val_accuracy: 0.9815 - val_auc: 0.9635 - val_recall: 0.8868 - val_precision: 0.9091\n",
      "\n",
      " MODEL EVALUATION ON TEST SET ============================================================================ \n",
      "\n",
      "226/226 [==============================] - 3s 11ms/step - loss: 0.0861 - accuracy: 0.9828 - auc: 0.9878 - recall: 0.8858 - precision: 0.9247\n"
     ]
    }
   ],
   "source": [
    "# 5-layer on normally sampled train set. ===> submit\n",
    "# predictions_CNN_prob_8\n",
    "# normally sampled\n",
    "#  0.99076\n",
    "\n",
    "\n",
    "model = tf.keras.Sequential([\n",
    "    layers.Reshape(target_shape=(20, 20, 1), input_shape=(400,)),\n",
    "    layers.Conv2D(32, (3, 3), activation = 'relu', kernel_regularizer=l2(0.00001), padding='same'),\n",
    "    layers.BatchNormalization(),\n",
    "    layers.MaxPooling2D(pool_size=(2, 2), strides=(2, 2), padding='same'),\n",
    "    layers.Conv2D(64, (3, 3), activation = 'relu', kernel_regularizer=l2(0.00001), padding='same'),\n",
    "    layers.BatchNormalization(),\n",
    "    layers.MaxPooling2D(pool_size=(2, 2), strides=(2, 2), padding='same'),\n",
    "    layers.Conv2D(128, (3, 3), activation = 'relu', kernel_regularizer=l2(0.00001), padding='same'),\n",
    "    layers.BatchNormalization(),\n",
    "    layers.MaxPooling2D(pool_size=(2, 2), strides=(2, 2), padding='same'),\n",
    "    layers.Conv2D(256, (3, 3), activation = 'relu', kernel_regularizer=l2(0.00001), padding='same'),\n",
    "    layers.BatchNormalization(),\n",
    "    layers.MaxPooling2D(pool_size=(2, 2), strides=(2, 2), padding='same'),\n",
    "    layers.Conv2D(256, (3, 3), activation = 'relu', kernel_regularizer=l2(0.00001), padding='same'),\n",
    "    layers.BatchNormalization(),\n",
    "    layers.MaxPooling2D(pool_size=(2, 2), strides=(2, 2), padding='same'),\n",
    "    layers.Flatten(),\n",
    "    #layers.Dropout(0.5),\n",
    "    layers.Dense(128, activation='relu'),\n",
    "    layers.Dropout(0.7),\n",
    "    layers.Dense(32, activation='relu'),\n",
    "    layers.Dropout(0.7),\n",
    "    layers.Dense(16, activation='relu'),\n",
    "    layers.Dense(1, activation='sigmoid')\n",
    "])\n",
    "\n",
    "model_CNN_8 = model_score(model, x_train, y_train)"
   ]
  },
  {
   "cell_type": "code",
   "execution_count": 75,
   "metadata": {},
   "outputs": [
    {
     "name": "stdout",
     "output_type": "stream",
     "text": [
      "          Id     Predicted\n",
      "0          0  9.057642e-07\n",
      "1          1  5.331922e-02\n",
      "2          2  1.952135e-04\n",
      "3          3  2.256034e-07\n",
      "4          4  3.165077e-06\n",
      "...      ...           ...\n",
      "30912  30912  3.877303e-04\n",
      "30913  30913  2.209523e-03\n",
      "30914  30914  2.677908e-01\n",
      "30915  30915  1.394543e-02\n",
      "30916  30916  1.163967e-05\n",
      "\n",
      "[30917 rows x 2 columns]\n"
     ]
    },
    {
     "data": {
      "text/plain": [
       "True"
      ]
     },
     "execution_count": 75,
     "metadata": {},
     "output_type": "execute_result"
    }
   ],
   "source": [
    "pred_test_to_csv(model_CNN_8[0], \"predictions_CNN_prob_8\")"
   ]
  },
  {
   "cell_type": "code",
   "execution_count": 81,
   "metadata": {},
   "outputs": [
    {
     "name": "stdout",
     "output_type": "stream",
     "text": [
      "\n",
      " MODEL BUILDING ============================================================================ \n",
      "\n",
      "Epoch 1/128\n",
      "1624/1624 [==============================] - 28s 16ms/step - loss: 0.1820 - accuracy: 0.9433 - auc: 0.9088 - recall: 0.4941 - precision: 0.8031 - val_loss: 0.1577 - val_accuracy: 0.9451 - val_auc: 0.9552 - val_recall: 0.4377 - val_precision: 0.9243\n",
      "Epoch 2/128\n",
      "1624/1624 [==============================] - 27s 16ms/step - loss: 0.1187 - accuracy: 0.9649 - auc: 0.9636 - recall: 0.7081 - precision: 0.8808 - val_loss: 0.1085 - val_accuracy: 0.9660 - val_auc: 0.9758 - val_recall: 0.7434 - val_precision: 0.8678\n",
      "Epoch 3/128\n",
      "1624/1624 [==============================] - 28s 17ms/step - loss: 0.0983 - accuracy: 0.9717 - auc: 0.9778 - recall: 0.7701 - precision: 0.9024 - val_loss: 0.0996 - val_accuracy: 0.9655 - val_auc: 0.9836 - val_recall: 0.6660 - val_precision: 0.9413\n",
      "Epoch 4/128\n",
      "1624/1624 [==============================] - 29s 18ms/step - loss: 0.0877 - accuracy: 0.9766 - auc: 0.9833 - recall: 0.8126 - precision: 0.9189 - val_loss: 0.1133 - val_accuracy: 0.9693 - val_auc: 0.9770 - val_recall: 0.7717 - val_precision: 0.8796\n",
      "Epoch 5/128\n",
      "1624/1624 [==============================] - 35s 22ms/step - loss: 0.0791 - accuracy: 0.9788 - auc: 0.9883 - recall: 0.8324 - precision: 0.9261 - val_loss: 0.1038 - val_accuracy: 0.9726 - val_auc: 0.9860 - val_recall: 0.8075 - val_precision: 0.8843\n",
      "Epoch 6/128\n",
      "1624/1624 [==============================] - 33s 20ms/step - loss: 0.0708 - accuracy: 0.9826 - auc: 0.9927 - recall: 0.8657 - precision: 0.9371 - val_loss: 0.1017 - val_accuracy: 0.9749 - val_auc: 0.9747 - val_recall: 0.8000 - val_precision: 0.9158\n",
      "Epoch 7/128\n",
      "1624/1624 [==============================] - 35s 22ms/step - loss: 0.0676 - accuracy: 0.9851 - auc: 0.9932 - recall: 0.8882 - precision: 0.9439 - val_loss: 0.1372 - val_accuracy: 0.9579 - val_auc: 0.9864 - val_recall: 0.9094 - val_precision: 0.7120\n",
      "Epoch 8/128\n",
      "1624/1624 [==============================] - 38s 23ms/step - loss: 0.0627 - accuracy: 0.9871 - auc: 0.9941 - recall: 0.9042 - precision: 0.9507 - val_loss: 0.1030 - val_accuracy: 0.9754 - val_auc: 0.9856 - val_recall: 0.8717 - val_precision: 0.8619\n",
      "Epoch 9/128\n",
      "1624/1624 [==============================] - 41s 25ms/step - loss: 0.0428 - accuracy: 0.9941 - auc: 0.9990 - recall: 0.9585 - precision: 0.9759 - val_loss: 0.0886 - val_accuracy: 0.9835 - val_auc: 0.9858 - val_recall: 0.8962 - val_precision: 0.9223\n",
      "Epoch 10/128\n",
      "1624/1624 [==============================] - 37s 23ms/step - loss: 0.0345 - accuracy: 0.9967 - auc: 0.9993 - recall: 0.9785 - precision: 0.9848 - val_loss: 0.0954 - val_accuracy: 0.9839 - val_auc: 0.9824 - val_recall: 0.8925 - val_precision: 0.9293\n",
      "Epoch 11/128\n",
      "1624/1624 [==============================] - 36s 22ms/step - loss: 0.0297 - accuracy: 0.9979 - auc: 0.9995 - recall: 0.9851 - precision: 0.9912 - val_loss: 0.1114 - val_accuracy: 0.9830 - val_auc: 0.9779 - val_recall: 0.8981 - val_precision: 0.9154\n",
      "Epoch 12/128\n",
      "1624/1624 [==============================] - 39s 24ms/step - loss: 0.0276 - accuracy: 0.9982 - auc: 0.9997 - recall: 0.9896 - precision: 0.9906 - val_loss: 0.1139 - val_accuracy: 0.9837 - val_auc: 0.9723 - val_recall: 0.8868 - val_precision: 0.9325\n",
      "Epoch 13/128\n",
      "1624/1624 [==============================] - 45s 28ms/step - loss: 0.0256 - accuracy: 0.9987 - auc: 1.0000 - recall: 0.9932 - precision: 0.9919 - val_loss: 0.1197 - val_accuracy: 0.9841 - val_auc: 0.9687 - val_recall: 0.8774 - val_precision: 0.9451\n",
      "Epoch 14/128\n",
      "1624/1624 [==============================] - 37s 23ms/step - loss: 0.0247 - accuracy: 0.9986 - auc: 0.9999 - recall: 0.9921 - precision: 0.9923 - val_loss: 0.1319 - val_accuracy: 0.9830 - val_auc: 0.9649 - val_recall: 0.8792 - val_precision: 0.9320\n",
      "Epoch 15/128\n",
      "1624/1624 [==============================] - 35s 21ms/step - loss: 0.0227 - accuracy: 0.9992 - auc: 1.0000 - recall: 0.9966 - precision: 0.9949 - val_loss: 0.1354 - val_accuracy: 0.9835 - val_auc: 0.9642 - val_recall: 0.8811 - val_precision: 0.9359\n",
      "Epoch 16/128\n",
      "1624/1624 [==============================] - 36s 22ms/step - loss: 0.0223 - accuracy: 0.9995 - auc: 1.0000 - recall: 0.9983 - precision: 0.9958 - val_loss: 0.1410 - val_accuracy: 0.9839 - val_auc: 0.9632 - val_recall: 0.8811 - val_precision: 0.9396\n",
      "Epoch 17/128\n",
      "1624/1624 [==============================] - 40s 25ms/step - loss: 0.0219 - accuracy: 0.9995 - auc: 1.0000 - recall: 0.9979 - precision: 0.9966 - val_loss: 0.1452 - val_accuracy: 0.9832 - val_auc: 0.9640 - val_recall: 0.8849 - val_precision: 0.9287\n",
      "Epoch 18/128\n",
      "1624/1624 [==============================] - 47s 29ms/step - loss: 0.0218 - accuracy: 0.9995 - auc: 1.0000 - recall: 0.9985 - precision: 0.9958 - val_loss: 0.1487 - val_accuracy: 0.9841 - val_auc: 0.9632 - val_recall: 0.8849 - val_precision: 0.9380\n",
      "Epoch 19/128\n",
      "1624/1624 [==============================] - 37s 23ms/step - loss: 0.0215 - accuracy: 0.9995 - auc: 1.0000 - recall: 0.9981 - precision: 0.9966 - val_loss: 0.1547 - val_accuracy: 0.9834 - val_auc: 0.9595 - val_recall: 0.8868 - val_precision: 0.9289\n",
      "Epoch 20/128\n",
      "1624/1624 [==============================] - 40s 25ms/step - loss: 0.0213 - accuracy: 0.9996 - auc: 1.0000 - recall: 0.9985 - precision: 0.9970 - val_loss: 0.1552 - val_accuracy: 0.9834 - val_auc: 0.9605 - val_recall: 0.8868 - val_precision: 0.9289\n",
      "Epoch 21/128\n",
      "1624/1624 [==============================] - 37s 23ms/step - loss: 0.0216 - accuracy: 0.9994 - auc: 1.0000 - recall: 0.9974 - precision: 0.9955 - val_loss: 0.1561 - val_accuracy: 0.9835 - val_auc: 0.9586 - val_recall: 0.8868 - val_precision: 0.9307\n",
      "\n",
      " MODEL EVALUATION ON TEST SET ============================================================================ \n",
      "\n",
      "226/226 [==============================] - 4s 16ms/step - loss: 0.0862 - accuracy: 0.9809 - auc: 0.9883 - recall: 0.8881 - precision: 0.9037\n"
     ]
    }
   ],
   "source": [
    "# 5-layer on normally sampled train set. ===> submit\n",
    "# predictions_CNN_prob_9\n",
    "# normally sampled\n",
    "#  Kaggle: 0.99249\n",
    "\n",
    "\n",
    "model = tf.keras.Sequential([\n",
    "    layers.Reshape(target_shape=(20, 20, 1), input_shape=(400,)),\n",
    "    layers.Conv2D(32, (3, 3), activation = 'relu', kernel_regularizer=l2(0.00001), padding='same'),\n",
    "    layers.BatchNormalization(),\n",
    "    layers.MaxPooling2D(pool_size=(2, 2), strides=(2, 2), padding='same'),\n",
    "    layers.Conv2D(64, (3, 3), activation = 'relu', kernel_regularizer=l2(0.00001), padding='same'),\n",
    "    layers.BatchNormalization(),\n",
    "    layers.MaxPooling2D(pool_size=(2, 2), strides=(2, 2), padding='same'),\n",
    "    layers.Conv2D(128, (3, 3), activation = 'relu', kernel_regularizer=l2(0.00001), padding='same'),\n",
    "    layers.BatchNormalization(),\n",
    "    layers.MaxPooling2D(pool_size=(2, 2), strides=(2, 2), padding='same'),\n",
    "    layers.Conv2D(256, (3, 3), activation = 'relu', kernel_regularizer=l2(0.00001), padding='same'),\n",
    "    layers.BatchNormalization(),\n",
    "    layers.MaxPooling2D(pool_size=(2, 2), strides=(2, 2), padding='same'),\n",
    "    layers.Conv2D(256, (3, 3), activation = 'relu', kernel_regularizer=l2(0.00001), padding='same'),\n",
    "    layers.BatchNormalization(),\n",
    "    layers.MaxPooling2D(pool_size=(2, 2), strides=(2, 2), padding='same'),\n",
    "    layers.Flatten(),\n",
    "    #layers.Dropout(0.6),\n",
    "    layers.Dense(128, activation='relu', kernel_regularizer=l2(0.00001)),\n",
    "    layers.Dropout(0.6),\n",
    "    layers.Dense(16, activation='relu', kernel_regularizer=l2(0.00001)),\n",
    "    layers.Dense(1, activation='sigmoid')\n",
    "])\n",
    "\n",
    "model_CNN_9 = model_score(model, x_train, y_train)"
   ]
  },
  {
   "cell_type": "code",
   "execution_count": 82,
   "metadata": {},
   "outputs": [
    {
     "name": "stdout",
     "output_type": "stream",
     "text": [
      "          Id     Predicted\n",
      "0          0  4.721542e-06\n",
      "1          1  8.080629e-03\n",
      "2          2  3.323448e-07\n",
      "3          3  5.033775e-09\n",
      "4          4  1.272920e-08\n",
      "...      ...           ...\n",
      "30912  30912  2.600307e-05\n",
      "30913  30913  1.119968e-02\n",
      "30914  30914  2.807036e-01\n",
      "30915  30915  9.110881e-10\n",
      "30916  30916  4.104823e-08\n",
      "\n",
      "[30917 rows x 2 columns]\n"
     ]
    },
    {
     "data": {
      "text/plain": [
       "True"
      ]
     },
     "execution_count": 82,
     "metadata": {},
     "output_type": "execute_result"
    }
   ],
   "source": [
    "pred_test_to_csv(model_CNN_9[0], \"predictions_CNN_prob_9\")"
   ]
  },
  {
   "cell_type": "code",
   "execution_count": 54,
   "metadata": {},
   "outputs": [
    {
     "name": "stdout",
     "output_type": "stream",
     "text": [
      "\n",
      " MODEL BUILDING ============================================================================ \n",
      "\n",
      "Epoch 1/128\n",
      "2954/2954 [==============================] - 63s 21ms/step - loss: 0.2408 - accuracy: 0.9091 - auc: 0.9677 - recall: 0.9155 - precision: 0.9041 - val_loss: 0.1265 - val_accuracy: 0.9596 - val_auc: 0.9703 - val_recall: 0.8000 - val_precision: 0.7786\n",
      "Epoch 2/128\n",
      "2954/2954 [==============================] - 65s 22ms/step - loss: 0.1121 - accuracy: 0.9669 - auc: 0.9932 - recall: 0.9740 - precision: 0.9604 - val_loss: 0.1452 - val_accuracy: 0.9520 - val_auc: 0.9742 - val_recall: 0.8844 - val_precision: 0.6925\n",
      "Epoch 3/128\n",
      "2954/2954 [==============================] - 62s 21ms/step - loss: 0.0858 - accuracy: 0.9791 - auc: 0.9966 - recall: 0.9842 - precision: 0.9744 - val_loss: 0.1323 - val_accuracy: 0.9629 - val_auc: 0.9699 - val_recall: 0.8752 - val_precision: 0.7657\n",
      "Epoch 4/128\n",
      "2954/2954 [==============================] - 56s 19ms/step - loss: 0.0756 - accuracy: 0.9844 - auc: 0.9977 - recall: 0.9878 - precision: 0.9811 - val_loss: 0.1678 - val_accuracy: 0.9555 - val_auc: 0.9773 - val_recall: 0.9046 - val_precision: 0.7063\n",
      "Epoch 5/128\n",
      "2954/2954 [==============================] - 57s 19ms/step - loss: 0.0676 - accuracy: 0.9876 - auc: 0.9986 - recall: 0.9904 - precision: 0.9850 - val_loss: 0.1874 - val_accuracy: 0.9586 - val_auc: 0.9765 - val_recall: 0.9009 - val_precision: 0.7263\n",
      "Epoch 6/128\n",
      "2954/2954 [==============================] - 55s 19ms/step - loss: 0.0647 - accuracy: 0.9899 - auc: 0.9986 - recall: 0.9922 - precision: 0.9878 - val_loss: 0.1289 - val_accuracy: 0.9738 - val_auc: 0.9729 - val_recall: 0.8477 - val_precision: 0.8717\n",
      "Epoch 7/128\n",
      "2954/2954 [==============================] - 57s 19ms/step - loss: 0.0419 - accuracy: 0.9971 - auc: 0.9998 - recall: 0.9982 - precision: 0.9960 - val_loss: 0.1507 - val_accuracy: 0.9792 - val_auc: 0.9625 - val_recall: 0.8624 - val_precision: 0.9126\n",
      "Epoch 8/128\n",
      "2954/2954 [==============================] - 59s 20ms/step - loss: 0.0347 - accuracy: 0.9987 - auc: 0.9999 - recall: 0.9990 - precision: 0.9983 - val_loss: 0.1586 - val_accuracy: 0.9808 - val_auc: 0.9625 - val_recall: 0.8936 - val_precision: 0.9019\n",
      "Epoch 9/128\n",
      "2954/2954 [==============================] - 55s 19ms/step - loss: 0.0319 - accuracy: 0.9991 - auc: 1.0000 - recall: 0.9996 - precision: 0.9986 - val_loss: 0.1801 - val_accuracy: 0.9811 - val_auc: 0.9558 - val_recall: 0.8697 - val_precision: 0.9258\n",
      "Epoch 10/128\n",
      "2954/2954 [==============================] - 56s 19ms/step - loss: 0.0297 - accuracy: 0.9992 - auc: 1.0000 - recall: 0.9996 - precision: 0.9989 - val_loss: 0.2028 - val_accuracy: 0.9804 - val_auc: 0.9505 - val_recall: 0.8569 - val_precision: 0.9303\n",
      "Epoch 11/128\n",
      "2954/2954 [==============================] - 65s 22ms/step - loss: 0.0286 - accuracy: 0.9993 - auc: 1.0000 - recall: 0.9996 - precision: 0.9989 - val_loss: 0.1881 - val_accuracy: 0.9801 - val_auc: 0.9537 - val_recall: 0.8679 - val_precision: 0.9167\n",
      "Epoch 12/128\n",
      "2954/2954 [==============================] - 57s 19ms/step - loss: 0.0271 - accuracy: 0.9996 - auc: 1.0000 - recall: 0.9999 - precision: 0.9993 - val_loss: 0.1936 - val_accuracy: 0.9797 - val_auc: 0.9521 - val_recall: 0.8569 - val_precision: 0.9229\n",
      "Epoch 13/128\n",
      "2954/2954 [==============================] - 55s 19ms/step - loss: 0.0267 - accuracy: 0.9996 - auc: 1.0000 - recall: 0.9999 - precision: 0.9993 - val_loss: 0.1990 - val_accuracy: 0.9802 - val_auc: 0.9504 - val_recall: 0.8550 - val_precision: 0.9301\n",
      "\n",
      " MODEL EVALUATION ON TEST SET ============================================================================ \n",
      "\n",
      "451/451 [==============================] - 5s 11ms/step - loss: 0.1244 - accuracy: 0.9575 - auc: 0.9731 - recall: 0.8063 - precision: 0.7362\n"
     ]
    }
   ],
   "source": [
    "# 5-layer on normally sampled train set. \n",
    "# predictions_CNN_prob_10\n",
    "# adasyn sampled\n",
    "#  \n",
    "\n",
    "model = tf.keras.Sequential([\n",
    "    layers.Reshape(target_shape=(20, 20, 1), input_shape=(400,)),\n",
    "    layers.Conv2D(32, (3, 3), activation = 'relu', kernel_regularizer=l2(0.00001), padding='same'),\n",
    "    layers.BatchNormalization(),\n",
    "    layers.MaxPooling2D(pool_size=(2, 2), strides=(2, 2), padding='same'),\n",
    "    layers.Conv2D(64, (3, 3), activation = 'relu', kernel_regularizer=l2(0.00001), padding='same'),\n",
    "    layers.BatchNormalization(),\n",
    "    layers.MaxPooling2D(pool_size=(2, 2), strides=(2, 2), padding='same'),\n",
    "    layers.Conv2D(128, (3, 3), activation = 'relu', kernel_regularizer=l2(0.00001), padding='same'),\n",
    "    layers.BatchNormalization(),\n",
    "    layers.MaxPooling2D(pool_size=(2, 2), strides=(2, 2), padding='same'),\n",
    "    layers.Conv2D(256, (3, 3), activation = 'relu', kernel_regularizer=l2(0.00001), padding='same'),\n",
    "    layers.BatchNormalization(),\n",
    "    layers.MaxPooling2D(pool_size=(2, 2), strides=(2, 2), padding='same'),\n",
    "    layers.Conv2D(256, (3, 3), activation = 'relu', kernel_regularizer=l2(0.00001), padding='same'),\n",
    "    layers.BatchNormalization(),\n",
    "    layers.MaxPooling2D(pool_size=(2, 2), strides=(2, 2), padding='same'),\n",
    "    layers.Flatten(),\n",
    "    #layers.Dropout(0.6),\n",
    "    layers.Dense(128, activation='relu', kernel_regularizer=l2(0.00001)),\n",
    "    layers.Dropout(0.6),\n",
    "    layers.Dense(16, activation='relu', kernel_regularizer=l2(0.00001)),\n",
    "    layers.Dense(1, activation='sigmoid')\n",
    "])\n",
    "\n",
    "model_CNN_10 = model_score(model, x_train_adasyn, y_train_adasyn)"
   ]
  },
  {
   "cell_type": "code",
   "execution_count": 35,
   "metadata": {},
   "outputs": [
    {
     "name": "stdout",
     "output_type": "stream",
     "text": [
      "\n",
      " MODEL BUILDING ============================================================================ \n",
      "\n",
      "Epoch 1/128\n",
      "2950/2950 [==============================] - 59s 20ms/step - loss: 0.2203 - accuracy: 0.9206 - auc: 0.9730 - recall: 0.9299 - precision: 0.9128 - val_loss: 0.1348 - val_accuracy: 0.9548 - val_auc: 0.9692 - val_recall: 0.7688 - val_precision: 0.7563\n",
      "Epoch 2/128\n",
      "2950/2950 [==============================] - 58s 20ms/step - loss: 0.1031 - accuracy: 0.9718 - auc: 0.9942 - recall: 0.9769 - precision: 0.9670 - val_loss: 0.1425 - val_accuracy: 0.9591 - val_auc: 0.9657 - val_recall: 0.7284 - val_precision: 0.8186\n",
      "Epoch 3/128\n",
      "2950/2950 [==============================] - 56s 19ms/step - loss: 0.0822 - accuracy: 0.9811 - auc: 0.9969 - recall: 0.9847 - precision: 0.9777 - val_loss: 0.1169 - val_accuracy: 0.9678 - val_auc: 0.9759 - val_recall: 0.7927 - val_precision: 0.8554\n",
      "Epoch 4/128\n",
      "2950/2950 [==============================] - 57s 19ms/step - loss: 0.0707 - accuracy: 0.9869 - auc: 0.9981 - recall: 0.9893 - precision: 0.9846 - val_loss: 0.1204 - val_accuracy: 0.9731 - val_auc: 0.9713 - val_recall: 0.8220 - val_precision: 0.8854\n",
      "Epoch 5/128\n",
      "2950/2950 [==============================] - 57s 19ms/step - loss: 0.0670 - accuracy: 0.9883 - auc: 0.9986 - recall: 0.9904 - precision: 0.9863 - val_loss: 0.1262 - val_accuracy: 0.9679 - val_auc: 0.9844 - val_recall: 0.9083 - val_precision: 0.7857\n",
      "Epoch 6/128\n",
      "2950/2950 [==============================] - 57s 19ms/step - loss: 0.0627 - accuracy: 0.9907 - auc: 0.9988 - recall: 0.9917 - precision: 0.9897 - val_loss: 0.1139 - val_accuracy: 0.9757 - val_auc: 0.9758 - val_recall: 0.8220 - val_precision: 0.9124\n",
      "Epoch 7/128\n",
      "2950/2950 [==============================] - 58s 20ms/step - loss: 0.0599 - accuracy: 0.9917 - auc: 0.9991 - recall: 0.9925 - precision: 0.9910 - val_loss: 0.1413 - val_accuracy: 0.9719 - val_auc: 0.9695 - val_recall: 0.8495 - val_precision: 0.8527\n",
      "Epoch 8/128\n",
      "2950/2950 [==============================] - 58s 20ms/step - loss: 0.0580 - accuracy: 0.9925 - auc: 0.9993 - recall: 0.9936 - precision: 0.9915 - val_loss: 0.1476 - val_accuracy: 0.9745 - val_auc: 0.9684 - val_recall: 0.8514 - val_precision: 0.8755\n",
      "Epoch 9/128\n",
      "2950/2950 [==============================] - 57s 19ms/step - loss: 0.0560 - accuracy: 0.9935 - auc: 0.9994 - recall: 0.9940 - precision: 0.9930 - val_loss: 0.1426 - val_accuracy: 0.9726 - val_auc: 0.9711 - val_recall: 0.8624 - val_precision: 0.8499\n",
      "Epoch 10/128\n",
      "2950/2950 [==============================] - 59s 20ms/step - loss: 0.0560 - accuracy: 0.9937 - auc: 0.9994 - recall: 0.9946 - precision: 0.9929 - val_loss: 0.1717 - val_accuracy: 0.9652 - val_auc: 0.9739 - val_recall: 0.8991 - val_precision: 0.7704\n",
      "Epoch 11/128\n",
      "2950/2950 [==============================] - 58s 20ms/step - loss: 0.0540 - accuracy: 0.9944 - auc: 0.9995 - recall: 0.9956 - precision: 0.9932 - val_loss: 0.1651 - val_accuracy: 0.9671 - val_auc: 0.9715 - val_recall: 0.8917 - val_precision: 0.7877\n",
      "Epoch 12/128\n",
      "2950/2950 [==============================] - 58s 20ms/step - loss: 0.0415 - accuracy: 0.9983 - auc: 0.9999 - recall: 0.9988 - precision: 0.9978 - val_loss: 0.1730 - val_accuracy: 0.9804 - val_auc: 0.9581 - val_recall: 0.8661 - val_precision: 0.9219\n",
      "Epoch 13/128\n",
      "2950/2950 [==============================] - 57s 19ms/step - loss: 0.0369 - accuracy: 0.9992 - auc: 1.0000 - recall: 0.9995 - precision: 0.9989 - val_loss: 0.1855 - val_accuracy: 0.9809 - val_auc: 0.9571 - val_recall: 0.8642 - val_precision: 0.9290\n",
      "Epoch 14/128\n",
      "2950/2950 [==============================] - 59s 20ms/step - loss: 0.0347 - accuracy: 0.9994 - auc: 1.0000 - recall: 0.9996 - precision: 0.9992 - val_loss: 0.1935 - val_accuracy: 0.9801 - val_auc: 0.9563 - val_recall: 0.8716 - val_precision: 0.9135\n",
      "Epoch 15/128\n",
      "2950/2950 [==============================] - 57s 19ms/step - loss: 0.0331 - accuracy: 0.9994 - auc: 1.0000 - recall: 0.9996 - precision: 0.9992 - val_loss: 0.2230 - val_accuracy: 0.9804 - val_auc: 0.9452 - val_recall: 0.8624 - val_precision: 0.9252\n",
      "Epoch 16/128\n",
      "2950/2950 [==============================] - 59s 20ms/step - loss: 0.0318 - accuracy: 0.9996 - auc: 1.0000 - recall: 0.9998 - precision: 0.9993 - val_loss: 0.2265 - val_accuracy: 0.9804 - val_auc: 0.9473 - val_recall: 0.8624 - val_precision: 0.9252\n",
      "Epoch 17/128\n",
      "2950/2950 [==============================] - 57s 19ms/step - loss: 0.0306 - accuracy: 0.9997 - auc: 1.0000 - recall: 0.9999 - precision: 0.9994 - val_loss: 0.2325 - val_accuracy: 0.9799 - val_auc: 0.9465 - val_recall: 0.8514 - val_precision: 0.9299\n",
      "Epoch 18/128\n",
      "2950/2950 [==============================] - 58s 20ms/step - loss: 0.0303 - accuracy: 0.9997 - auc: 1.0000 - recall: 1.0000 - precision: 0.9994 - val_loss: 0.2342 - val_accuracy: 0.9804 - val_auc: 0.9448 - val_recall: 0.8569 - val_precision: 0.9303\n",
      "\n",
      " MODEL EVALUATION ON TEST SET ============================================================================ \n",
      "\n",
      "451/451 [==============================] - 5s 11ms/step - loss: 0.1184 - accuracy: 0.9766 - auc: 0.9742 - recall: 0.8339 - precision: 0.8929\n"
     ]
    }
   ],
   "source": [
    "# 5-layer on normally sampled train set. \n",
    "# predictions_CNN_prob_11\n",
    "# borderline sampled\n",
    "#  \n",
    "\n",
    "model = tf.keras.Sequential([\n",
    "    layers.Reshape(target_shape=(20, 20, 1), input_shape=(400,)),\n",
    "    layers.Conv2D(32, (3, 3), activation = 'relu', kernel_regularizer=l2(0.00001), padding='same'),\n",
    "    layers.BatchNormalization(),\n",
    "    layers.MaxPooling2D(pool_size=(2, 2), strides=(2, 2), padding='same'),\n",
    "    layers.Conv2D(64, (3, 3), activation = 'relu', kernel_regularizer=l2(0.00001), padding='same'),\n",
    "    layers.BatchNormalization(),\n",
    "    layers.MaxPooling2D(pool_size=(2, 2), strides=(2, 2), padding='same'),\n",
    "    layers.Conv2D(128, (3, 3), activation = 'relu', kernel_regularizer=l2(0.00001), padding='same'),\n",
    "    layers.BatchNormalization(),\n",
    "    layers.MaxPooling2D(pool_size=(2, 2), strides=(2, 2), padding='same'),\n",
    "    layers.Conv2D(256, (3, 3), activation = 'relu', kernel_regularizer=l2(0.00001), padding='same'),\n",
    "    layers.BatchNormalization(),\n",
    "    layers.MaxPooling2D(pool_size=(2, 2), strides=(2, 2), padding='same'),\n",
    "    layers.Conv2D(256, (3, 3), activation = 'relu', kernel_regularizer=l2(0.00001), padding='same'),\n",
    "    layers.BatchNormalization(),\n",
    "    layers.MaxPooling2D(pool_size=(2, 2), strides=(2, 2), padding='same'),\n",
    "    layers.Flatten(),\n",
    "    #layers.Dropout(0.6),\n",
    "    layers.Dense(128, activation='relu', kernel_regularizer=l2(0.00001)),\n",
    "    layers.Dropout(0.6),\n",
    "    layers.Dense(16, activation='relu', kernel_regularizer=l2(0.00001)),\n",
    "    layers.Dense(1, activation='sigmoid')\n",
    "])\n",
    "\n",
    "model_CNN_11 = model_score(model, x_train_borderline, y_train_borderline)"
   ]
  },
  {
   "cell_type": "code",
   "execution_count": 14,
   "metadata": {},
   "outputs": [
    {
     "name": "stdout",
     "output_type": "stream",
     "text": [
      "          Id     Predicted\n",
      "0          0  8.629061e-08\n",
      "1          1  1.916419e-05\n",
      "2          2  5.860349e-04\n",
      "3          3  2.802911e-07\n",
      "4          4  7.559953e-08\n",
      "...      ...           ...\n",
      "30912  30912  2.332528e-04\n",
      "30913  30913  1.318149e-02\n",
      "30914  30914  1.473697e-01\n",
      "30915  30915  8.662563e-06\n",
      "30916  30916  8.383747e-03\n",
      "\n",
      "[30917 rows x 2 columns]\n"
     ]
    },
    {
     "data": {
      "text/plain": [
       "True"
      ]
     },
     "execution_count": 14,
     "metadata": {},
     "output_type": "execute_result"
    }
   ],
   "source": [
    "pred_test_to_csv(model_CNN_11[0], \"predictions_CNN_prob_11\")"
   ]
  },
  {
   "cell_type": "code",
   "execution_count": 36,
   "metadata": {},
   "outputs": [
    {
     "name": "stdout",
     "output_type": "stream",
     "text": [
      "\n",
      " MODEL BUILDING ============================================================================ \n",
      "\n",
      "Epoch 1/128\n",
      "2950/2950 [==============================] - 60s 20ms/step - loss: 0.2020 - accuracy: 0.9265 - auc: 0.9775 - recall: 0.9234 - precision: 0.9291 - val_loss: 0.1181 - val_accuracy: 0.9622 - val_auc: 0.9772 - val_recall: 0.8349 - val_precision: 0.7804\n",
      "Epoch 2/128\n",
      "2950/2950 [==============================] - 57s 19ms/step - loss: 0.1017 - accuracy: 0.9701 - auc: 0.9948 - recall: 0.9726 - precision: 0.9677 - val_loss: 0.1255 - val_accuracy: 0.9662 - val_auc: 0.9782 - val_recall: 0.8385 - val_precision: 0.8103\n",
      "Epoch 3/128\n",
      "2950/2950 [==============================] - 61s 21ms/step - loss: 0.0837 - accuracy: 0.9798 - auc: 0.9970 - recall: 0.9816 - precision: 0.9781 - val_loss: 0.1262 - val_accuracy: 0.9622 - val_auc: 0.9744 - val_recall: 0.8569 - val_precision: 0.7694\n",
      "Epoch 4/128\n",
      "2950/2950 [==============================] - 55s 19ms/step - loss: 0.0753 - accuracy: 0.9840 - auc: 0.9980 - recall: 0.9851 - precision: 0.9830 - val_loss: 0.1249 - val_accuracy: 0.9664 - val_auc: 0.9835 - val_recall: 0.8789 - val_precision: 0.7891\n",
      "Epoch 5/128\n",
      "2950/2950 [==============================] - 57s 19ms/step - loss: 0.0708 - accuracy: 0.9868 - auc: 0.9984 - recall: 0.9876 - precision: 0.9860 - val_loss: 0.1125 - val_accuracy: 0.9716 - val_auc: 0.9806 - val_recall: 0.8110 - val_precision: 0.8787\n",
      "Epoch 6/128\n",
      "2950/2950 [==============================] - 55s 19ms/step - loss: 0.0663 - accuracy: 0.9893 - auc: 0.9987 - recall: 0.9899 - precision: 0.9887 - val_loss: 0.1274 - val_accuracy: 0.9711 - val_auc: 0.9829 - val_recall: 0.8972 - val_precision: 0.8150\n",
      "Epoch 7/128\n",
      "2950/2950 [==============================] - 58s 20ms/step - loss: 0.0626 - accuracy: 0.9907 - auc: 0.9990 - recall: 0.9906 - precision: 0.9907 - val_loss: 0.1134 - val_accuracy: 0.9768 - val_auc: 0.9800 - val_recall: 0.8642 - val_precision: 0.8870\n",
      "Epoch 8/128\n",
      "2950/2950 [==============================] - 57s 19ms/step - loss: 0.0604 - accuracy: 0.9916 - auc: 0.9991 - recall: 0.9917 - precision: 0.9914 - val_loss: 0.1231 - val_accuracy: 0.9737 - val_auc: 0.9805 - val_recall: 0.8972 - val_precision: 0.8359\n",
      "Epoch 9/128\n",
      "2950/2950 [==============================] - 56s 19ms/step - loss: 0.0573 - accuracy: 0.9928 - auc: 0.9993 - recall: 0.9934 - precision: 0.9922 - val_loss: 0.1543 - val_accuracy: 0.9692 - val_auc: 0.9746 - val_recall: 0.8679 - val_precision: 0.8169\n",
      "Epoch 10/128\n",
      "2950/2950 [==============================] - 56s 19ms/step - loss: 0.0568 - accuracy: 0.9929 - auc: 0.9992 - recall: 0.9931 - precision: 0.9927 - val_loss: 0.1282 - val_accuracy: 0.9768 - val_auc: 0.9731 - val_recall: 0.8459 - val_precision: 0.9022\n",
      "Epoch 11/128\n",
      "2950/2950 [==============================] - 55s 19ms/step - loss: 0.0417 - accuracy: 0.9980 - auc: 0.9999 - recall: 0.9982 - precision: 0.9977 - val_loss: 0.1360 - val_accuracy: 0.9811 - val_auc: 0.9697 - val_recall: 0.8734 - val_precision: 0.9225\n",
      "Epoch 12/128\n",
      "2950/2950 [==============================] - 56s 19ms/step - loss: 0.0369 - accuracy: 0.9990 - auc: 0.9999 - recall: 0.9992 - precision: 0.9987 - val_loss: 0.1653 - val_accuracy: 0.9808 - val_auc: 0.9586 - val_recall: 0.8642 - val_precision: 0.9272\n",
      "Epoch 13/128\n",
      "2950/2950 [==============================] - 56s 19ms/step - loss: 0.0344 - accuracy: 0.9993 - auc: 0.9999 - recall: 0.9996 - precision: 0.9989 - val_loss: 0.1869 - val_accuracy: 0.9806 - val_auc: 0.9584 - val_recall: 0.8771 - val_precision: 0.9140\n",
      "Epoch 14/128\n",
      "2950/2950 [==============================] - 57s 19ms/step - loss: 0.0327 - accuracy: 0.9994 - auc: 0.9999 - recall: 0.9996 - precision: 0.9992 - val_loss: 0.1975 - val_accuracy: 0.9806 - val_auc: 0.9528 - val_recall: 0.8661 - val_precision: 0.9237\n",
      "Epoch 15/128\n",
      "2950/2950 [==============================] - 56s 19ms/step - loss: 0.0317 - accuracy: 0.9994 - auc: 1.0000 - recall: 0.9997 - precision: 0.9991 - val_loss: 0.1996 - val_accuracy: 0.9808 - val_auc: 0.9488 - val_recall: 0.8550 - val_precision: 0.9357\n",
      "Epoch 16/128\n",
      "2950/2950 [==============================] - 55s 19ms/step - loss: 0.0304 - accuracy: 0.9996 - auc: 1.0000 - recall: 0.9997 - precision: 0.9995 - val_loss: 0.1943 - val_accuracy: 0.9811 - val_auc: 0.9538 - val_recall: 0.8697 - val_precision: 0.9258\n",
      "Epoch 17/128\n",
      "2950/2950 [==============================] - 56s 19ms/step - loss: 0.0301 - accuracy: 0.9996 - auc: 1.0000 - recall: 0.9998 - precision: 0.9994 - val_loss: 0.1967 - val_accuracy: 0.9809 - val_auc: 0.9538 - val_recall: 0.8697 - val_precision: 0.9240\n",
      "\n",
      " MODEL EVALUATION ON TEST SET ============================================================================ \n",
      "\n",
      "451/451 [==============================] - 5s 11ms/step - loss: 0.1049 - accuracy: 0.9736 - auc: 0.9851 - recall: 0.8157 - precision: 0.8757\n"
     ]
    }
   ],
   "source": [
    "# 5-layer on normally sampled train set. \n",
    "# predictions_CNN_prob_12\n",
    "# svm sampled\n",
    "# \n",
    "#  \n",
    "model = tf.keras.Sequential([\n",
    "    layers.Reshape(target_shape=(20, 20, 1), input_shape=(400,)),\n",
    "    layers.Conv2D(32, (3, 3), activation = 'relu', kernel_regularizer=l2(0.00001), padding='same'),\n",
    "    layers.BatchNormalization(),\n",
    "    layers.MaxPooling2D(pool_size=(2, 2), strides=(2, 2), padding='same'),\n",
    "    layers.Conv2D(64, (3, 3), activation = 'relu', kernel_regularizer=l2(0.00001), padding='same'),\n",
    "    layers.BatchNormalization(),\n",
    "    layers.MaxPooling2D(pool_size=(2, 2), strides=(2, 2), padding='same'),\n",
    "    layers.Conv2D(128, (3, 3), activation = 'relu', kernel_regularizer=l2(0.00001), padding='same'),\n",
    "    layers.BatchNormalization(),\n",
    "    layers.MaxPooling2D(pool_size=(2, 2), strides=(2, 2), padding='same'),\n",
    "    layers.Conv2D(256, (3, 3), activation = 'relu', kernel_regularizer=l2(0.00001), padding='same'),\n",
    "    layers.BatchNormalization(),\n",
    "    layers.MaxPooling2D(pool_size=(2, 2), strides=(2, 2), padding='same'),\n",
    "    layers.Conv2D(256, (3, 3), activation = 'relu', kernel_regularizer=l2(0.00001), padding='same'),\n",
    "    layers.BatchNormalization(),\n",
    "    layers.MaxPooling2D(pool_size=(2, 2), strides=(2, 2), padding='same'),\n",
    "    layers.Flatten(),\n",
    "    #layers.Dropout(0.6),\n",
    "    layers.Dense(128, activation='relu', kernel_regularizer=l2(0.00001)),\n",
    "    layers.Dropout(0.6),\n",
    "    layers.Dense(16, activation='relu', kernel_regularizer=l2(0.00001)),\n",
    "    layers.Dense(1, activation='sigmoid')\n",
    "])\n",
    "model_CNN_12 = model_score(model, x_train_svmsmote, y_train_svmsmote)"
   ]
  },
  {
   "cell_type": "code",
   "execution_count": 55,
   "metadata": {},
   "outputs": [
    {
     "name": "stdout",
     "output_type": "stream",
     "text": [
      "          Id     Predicted\n",
      "0          0  1.182344e-03\n",
      "1          1  3.673962e-04\n",
      "2          2  1.781049e-05\n",
      "3          3  9.008203e-07\n",
      "4          4  5.624769e-05\n",
      "...      ...           ...\n",
      "30912  30912  3.286622e-03\n",
      "30913  30913  8.990210e-02\n",
      "30914  30914  1.148125e-01\n",
      "30915  30915  2.370128e-05\n",
      "30916  30916  1.280994e-05\n",
      "\n",
      "[30917 rows x 2 columns]\n"
     ]
    },
    {
     "data": {
      "text/plain": [
       "True"
      ]
     },
     "execution_count": 55,
     "metadata": {},
     "output_type": "execute_result"
    }
   ],
   "source": [
    "pred_test_to_csv(model_CNN_12[0], \"predictions_CNN_prob_12\")"
   ]
  },
  {
   "cell_type": "code",
   "execution_count": 37,
   "metadata": {},
   "outputs": [
    {
     "name": "stdout",
     "output_type": "stream",
     "text": [
      "\n",
      " MODEL BUILDING ============================================================================ \n",
      "\n",
      "Epoch 1/128\n",
      "2950/2950 [==============================] - 57s 19ms/step - loss: 0.2286 - accuracy: 0.9138 - auc: 0.9713 - recall: 0.9092 - precision: 0.9176 - val_loss: 0.3274 - val_accuracy: 0.9007 - val_auc: 0.9711 - val_recall: 0.9321 - val_precision: 0.4866\n",
      "Epoch 2/128\n",
      "2950/2950 [==============================] - 55s 19ms/step - loss: 0.1145 - accuracy: 0.9663 - auc: 0.9932 - recall: 0.9706 - precision: 0.9624 - val_loss: 0.1495 - val_accuracy: 0.9428 - val_auc: 0.9744 - val_recall: 0.8972 - val_precision: 0.6409\n",
      "Epoch 3/128\n",
      "2950/2950 [==============================] - 55s 19ms/step - loss: 0.0913 - accuracy: 0.9769 - auc: 0.9963 - recall: 0.9802 - precision: 0.9737 - val_loss: 0.1258 - val_accuracy: 0.9653 - val_auc: 0.9833 - val_recall: 0.8807 - val_precision: 0.7805\n",
      "Epoch 4/128\n",
      "2950/2950 [==============================] - 57s 19ms/step - loss: 0.0806 - accuracy: 0.9828 - auc: 0.9976 - recall: 0.9860 - precision: 0.9796 - val_loss: 0.1250 - val_accuracy: 0.9645 - val_auc: 0.9861 - val_recall: 0.9064 - val_precision: 0.7623\n",
      "Epoch 5/128\n",
      "2950/2950 [==============================] - 56s 19ms/step - loss: 0.0714 - accuracy: 0.9865 - auc: 0.9984 - recall: 0.9894 - precision: 0.9836 - val_loss: 0.1242 - val_accuracy: 0.9714 - val_auc: 0.9754 - val_recall: 0.8606 - val_precision: 0.8405\n",
      "Epoch 6/128\n",
      "2950/2950 [==============================] - 57s 19ms/step - loss: 0.0658 - accuracy: 0.9891 - auc: 0.9988 - recall: 0.9911 - precision: 0.9872 - val_loss: 0.1244 - val_accuracy: 0.9716 - val_auc: 0.9804 - val_recall: 0.8826 - val_precision: 0.8279\n",
      "Epoch 7/128\n",
      "2950/2950 [==============================] - 58s 20ms/step - loss: 0.0630 - accuracy: 0.9908 - auc: 0.9989 - recall: 0.9919 - precision: 0.9896 - val_loss: 0.1226 - val_accuracy: 0.9718 - val_auc: 0.9800 - val_recall: 0.9028 - val_precision: 0.8173\n",
      "Epoch 8/128\n",
      "2950/2950 [==============================] - 56s 19ms/step - loss: 0.0605 - accuracy: 0.9916 - auc: 0.9991 - recall: 0.9927 - precision: 0.9905 - val_loss: 0.1264 - val_accuracy: 0.9697 - val_auc: 0.9797 - val_recall: 0.9064 - val_precision: 0.7994\n",
      "Epoch 9/128\n",
      "2950/2950 [==============================] - 56s 19ms/step - loss: 0.0576 - accuracy: 0.9929 - auc: 0.9993 - recall: 0.9942 - precision: 0.9917 - val_loss: 0.1382 - val_accuracy: 0.9747 - val_auc: 0.9744 - val_recall: 0.8734 - val_precision: 0.8608\n",
      "Epoch 10/128\n",
      "2950/2950 [==============================] - 56s 19ms/step - loss: 0.0568 - accuracy: 0.9932 - auc: 0.9994 - recall: 0.9936 - precision: 0.9929 - val_loss: 0.1475 - val_accuracy: 0.9733 - val_auc: 0.9669 - val_recall: 0.8110 - val_precision: 0.8966\n",
      "Epoch 11/128\n",
      "2950/2950 [==============================] - 56s 19ms/step - loss: 0.0573 - accuracy: 0.9934 - auc: 0.9993 - recall: 0.9937 - precision: 0.9932 - val_loss: 0.1439 - val_accuracy: 0.9731 - val_auc: 0.9757 - val_recall: 0.8844 - val_precision: 0.8397\n",
      "Epoch 12/128\n",
      "2950/2950 [==============================] - 56s 19ms/step - loss: 0.0559 - accuracy: 0.9939 - auc: 0.9994 - recall: 0.9939 - precision: 0.9939 - val_loss: 0.1597 - val_accuracy: 0.9714 - val_auc: 0.9654 - val_recall: 0.7706 - val_precision: 0.9130\n",
      "Epoch 13/128\n",
      "2950/2950 [==============================] - 57s 19ms/step - loss: 0.0428 - accuracy: 0.9981 - auc: 0.9999 - recall: 0.9985 - precision: 0.9978 - val_loss: 0.1598 - val_accuracy: 0.9782 - val_auc: 0.9652 - val_recall: 0.8587 - val_precision: 0.9052\n",
      "Epoch 14/128\n",
      "2950/2950 [==============================] - 57s 19ms/step - loss: 0.0383 - accuracy: 0.9991 - auc: 0.9999 - recall: 0.9994 - precision: 0.9987 - val_loss: 0.1771 - val_accuracy: 0.9796 - val_auc: 0.9638 - val_recall: 0.8514 - val_precision: 0.9261\n",
      "Epoch 15/128\n",
      "2950/2950 [==============================] - 55s 19ms/step - loss: 0.0355 - accuracy: 0.9994 - auc: 1.0000 - recall: 0.9997 - precision: 0.9992 - val_loss: 0.1960 - val_accuracy: 0.9782 - val_auc: 0.9610 - val_recall: 0.8514 - val_precision: 0.9116\n",
      "Epoch 16/128\n",
      "2950/2950 [==============================] - 57s 19ms/step - loss: 0.0341 - accuracy: 0.9994 - auc: 1.0000 - recall: 0.9997 - precision: 0.9992 - val_loss: 0.2065 - val_accuracy: 0.9811 - val_auc: 0.9585 - val_recall: 0.8716 - val_precision: 0.9241\n",
      "Epoch 17/128\n",
      "2950/2950 [==============================] - 57s 19ms/step - loss: 0.0329 - accuracy: 0.9995 - auc: 1.0000 - recall: 0.9997 - precision: 0.9993 - val_loss: 0.1847 - val_accuracy: 0.9801 - val_auc: 0.9666 - val_recall: 0.8881 - val_precision: 0.8996\n",
      "Epoch 18/128\n",
      "2950/2950 [==============================] - 57s 19ms/step - loss: 0.0317 - accuracy: 0.9996 - auc: 1.0000 - recall: 0.9999 - precision: 0.9993 - val_loss: 0.1940 - val_accuracy: 0.9801 - val_auc: 0.9644 - val_recall: 0.8697 - val_precision: 0.9151\n",
      "Epoch 19/128\n",
      "2950/2950 [==============================] - 56s 19ms/step - loss: 0.0315 - accuracy: 0.9997 - auc: 1.0000 - recall: 1.0000 - precision: 0.9994 - val_loss: 0.1990 - val_accuracy: 0.9802 - val_auc: 0.9608 - val_recall: 0.8734 - val_precision: 0.9136\n",
      "\n",
      " MODEL EVALUATION ON TEST SET ============================================================================ \n",
      "\n",
      "451/451 [==============================] - 5s 10ms/step - loss: 0.1232 - accuracy: 0.9710 - auc: 0.9836 - recall: 0.9071 - precision: 0.7934\n"
     ]
    }
   ],
   "source": [
    "# 5-layer on normally sampled train set. \n",
    "# predictions_CNN_prob_13\n",
    "# smotetomek sampled\n",
    "# \n",
    "#  \n",
    "model = tf.keras.Sequential([\n",
    "    layers.Reshape(target_shape=(20, 20, 1), input_shape=(400,)),\n",
    "    layers.Conv2D(32, (3, 3), activation = 'relu', kernel_regularizer=l2(0.00001), padding='same'),\n",
    "    layers.BatchNormalization(),\n",
    "    layers.MaxPooling2D(pool_size=(2, 2), strides=(2, 2), padding='same'),\n",
    "    layers.Conv2D(64, (3, 3), activation = 'relu', kernel_regularizer=l2(0.00001), padding='same'),\n",
    "    layers.BatchNormalization(),\n",
    "    layers.MaxPooling2D(pool_size=(2, 2), strides=(2, 2), padding='same'),\n",
    "    layers.Conv2D(128, (3, 3), activation = 'relu', kernel_regularizer=l2(0.00001), padding='same'),\n",
    "    layers.BatchNormalization(),\n",
    "    layers.MaxPooling2D(pool_size=(2, 2), strides=(2, 2), padding='same'),\n",
    "    layers.Conv2D(256, (3, 3), activation = 'relu', kernel_regularizer=l2(0.00001), padding='same'),\n",
    "    layers.BatchNormalization(),\n",
    "    layers.MaxPooling2D(pool_size=(2, 2), strides=(2, 2), padding='same'),\n",
    "    layers.Conv2D(256, (3, 3), activation = 'relu', kernel_regularizer=l2(0.00001), padding='same'),\n",
    "    layers.BatchNormalization(),\n",
    "    layers.MaxPooling2D(pool_size=(2, 2), strides=(2, 2), padding='same'),\n",
    "    layers.Flatten(),\n",
    "    #layers.Dropout(0.6),\n",
    "    layers.Dense(128, activation='relu', kernel_regularizer=l2(0.00001)),\n",
    "    layers.Dropout(0.6),\n",
    "    layers.Dense(16, activation='relu', kernel_regularizer=l2(0.00001)),\n",
    "    layers.Dense(1, activation='sigmoid')\n",
    "])\n",
    "model_CNN_13 = model_score(model, x_train_tomek, y_train_tomek)"
   ]
  },
  {
   "cell_type": "code",
   "execution_count": 18,
   "metadata": {},
   "outputs": [
    {
     "name": "stdout",
     "output_type": "stream",
     "text": [
      "\n",
      " MODEL BUILDING ============================================================================ \n",
      "\n",
      "Epoch 1/128\n",
      "2887/2887 [==============================] - 65s 22ms/step - loss: 0.2112 - accuracy: 0.9214 - auc: 0.9754 - recall: 0.9210 - precision: 0.9247 - val_loss: 0.1558 - val_accuracy: 0.9470 - val_auc: 0.9699 - val_recall: 0.8422 - val_precision: 0.6760\n",
      "Epoch 2/128\n",
      "2887/2887 [==============================] - 71s 24ms/step - loss: 0.0980 - accuracy: 0.9716 - auc: 0.9951 - recall: 0.9749 - precision: 0.9696 - val_loss: 0.1846 - val_accuracy: 0.9359 - val_auc: 0.9777 - val_recall: 0.9193 - val_precision: 0.6058\n",
      "Epoch 3/128\n",
      "2887/2887 [==============================] - 79s 27ms/step - loss: 0.0740 - accuracy: 0.9828 - auc: 0.9977 - recall: 0.9846 - precision: 0.9816 - val_loss: 0.2008 - val_accuracy: 0.9468 - val_auc: 0.9780 - val_recall: 0.9138 - val_precision: 0.6570\n",
      "Epoch 4/128\n",
      "2887/2887 [==============================] - 79s 28ms/step - loss: 0.0642 - accuracy: 0.9877 - auc: 0.9986 - recall: 0.9895 - precision: 0.9864 - val_loss: 0.1761 - val_accuracy: 0.9673 - val_auc: 0.9728 - val_recall: 0.8991 - val_precision: 0.7853\n",
      "Epoch 5/128\n",
      "2887/2887 [==============================] - 77s 27ms/step - loss: 0.0603 - accuracy: 0.9903 - auc: 0.9989 - recall: 0.9914 - precision: 0.9896 - val_loss: 0.1573 - val_accuracy: 0.9683 - val_auc: 0.9727 - val_recall: 0.8789 - val_precision: 0.8037\n",
      "Epoch 6/128\n",
      "2887/2887 [==============================] - 79s 27ms/step - loss: 0.0553 - accuracy: 0.9926 - auc: 0.9992 - recall: 0.9934 - precision: 0.9920 - val_loss: 0.2116 - val_accuracy: 0.9615 - val_auc: 0.9505 - val_recall: 0.8073 - val_precision: 0.7899\n",
      "Epoch 7/128\n",
      "2887/2887 [==============================] - 78s 27ms/step - loss: 0.0392 - accuracy: 0.9979 - auc: 0.9998 - recall: 0.9982 - precision: 0.9977 - val_loss: 0.1738 - val_accuracy: 0.9738 - val_auc: 0.9733 - val_recall: 0.8991 - val_precision: 0.8362\n",
      "Epoch 8/128\n",
      "2887/2887 [==============================] - 89s 31ms/step - loss: 0.0315 - accuracy: 0.9995 - auc: 1.0000 - recall: 0.9996 - precision: 0.9995 - val_loss: 0.2049 - val_accuracy: 0.9740 - val_auc: 0.9622 - val_recall: 0.8881 - val_precision: 0.8447\n",
      "Epoch 9/128\n",
      "2887/2887 [==============================] - 80s 28ms/step - loss: 0.0290 - accuracy: 0.9996 - auc: 1.0000 - recall: 0.9996 - precision: 0.9996 - val_loss: 0.2154 - val_accuracy: 0.9733 - val_auc: 0.9574 - val_recall: 0.8789 - val_precision: 0.8448\n",
      "Epoch 10/128\n",
      "2887/2887 [==============================] - 80s 28ms/step - loss: 0.0269 - accuracy: 0.9997 - auc: 1.0000 - recall: 0.9998 - precision: 0.9997 - val_loss: 0.2415 - val_accuracy: 0.9740 - val_auc: 0.9568 - val_recall: 0.8881 - val_precision: 0.8447\n",
      "Epoch 11/128\n",
      "2887/2887 [==============================] - 69s 24ms/step - loss: 0.0252 - accuracy: 0.9998 - auc: 1.0000 - recall: 0.9998 - precision: 0.9998 - val_loss: 0.2547 - val_accuracy: 0.9738 - val_auc: 0.9547 - val_recall: 0.8826 - val_precision: 0.8468\n",
      "Epoch 12/128\n",
      "2887/2887 [==============================] - 62s 21ms/step - loss: 0.0240 - accuracy: 0.9999 - auc: 1.0000 - recall: 0.9999 - precision: 1.0000 - val_loss: 0.2612 - val_accuracy: 0.9747 - val_auc: 0.9502 - val_recall: 0.8826 - val_precision: 0.8544\n",
      "Epoch 13/128\n",
      "2887/2887 [==============================] - 58s 20ms/step - loss: 0.0237 - accuracy: 0.9999 - auc: 1.0000 - recall: 1.0000 - precision: 0.9999 - val_loss: 0.2668 - val_accuracy: 0.9742 - val_auc: 0.9502 - val_recall: 0.8844 - val_precision: 0.8486\n",
      "\n",
      " MODEL EVALUATION ON TEST SET ============================================================================ \n",
      "\n",
      "226/226 [==============================] - 3s 12ms/step - loss: 0.1468 - accuracy: 0.9509 - auc: 0.9728 - recall: 0.8598 - precision: 0.6732\n"
     ]
    }
   ],
   "source": [
    "# 5-layer on normally sampled train set. \n",
    "# predictions_CNN_prob_14\n",
    "# smoteen sampled\n",
    "# \n",
    "#  \n",
    "model = tf.keras.Sequential([\n",
    "    layers.Reshape(target_shape=(20, 20, 1), input_shape=(400,)),\n",
    "    layers.Conv2D(32, (3, 3), activation = 'relu', kernel_regularizer=l2(0.00001), padding='same'),\n",
    "    layers.BatchNormalization(),\n",
    "    layers.MaxPooling2D(pool_size=(2, 2), strides=(2, 2), padding='same'),\n",
    "    layers.Conv2D(64, (3, 3), activation = 'relu', kernel_regularizer=l2(0.00001), padding='same'),\n",
    "    layers.BatchNormalization(),\n",
    "    layers.MaxPooling2D(pool_size=(2, 2), strides=(2, 2), padding='same'),\n",
    "    layers.Conv2D(128, (3, 3), activation = 'relu', kernel_regularizer=l2(0.00001), padding='same'),\n",
    "    layers.BatchNormalization(),\n",
    "    layers.MaxPooling2D(pool_size=(2, 2), strides=(2, 2), padding='same'),\n",
    "    layers.Conv2D(256, (3, 3), activation = 'relu', kernel_regularizer=l2(0.00001), padding='same'),\n",
    "    layers.BatchNormalization(),\n",
    "    layers.MaxPooling2D(pool_size=(2, 2), strides=(2, 2), padding='same'),\n",
    "    layers.Conv2D(256, (3, 3), activation = 'relu', kernel_regularizer=l2(0.00001), padding='same'),\n",
    "    layers.BatchNormalization(),\n",
    "    layers.MaxPooling2D(pool_size=(2, 2), strides=(2, 2), padding='same'),\n",
    "    layers.Flatten(),\n",
    "    #layers.Dropout(0.6),\n",
    "    layers.Dense(128, activation='relu', kernel_regularizer=l2(0.00001)),\n",
    "    layers.Dropout(0.6),\n",
    "    layers.Dense(16, activation='relu', kernel_regularizer=l2(0.00001)),\n",
    "    layers.Dense(1, activation='sigmoid')\n",
    "])\n",
    "model_CNN_14 = model_score(model, x_train_smenn, y_train_smenn)"
   ]
  },
  {
   "cell_type": "code",
   "execution_count": 44,
   "metadata": {},
   "outputs": [
    {
     "name": "stdout",
     "output_type": "stream",
     "text": [
      "\n",
      " MODEL BUILDING ============================================================================ \n",
      "\n",
      "Epoch 1/128\n",
      "2950/2950 [==============================] - 90s 30ms/step - loss: 0.2235 - accuracy: 0.9153 - auc: 0.9727 - recall: 0.9169 - precision: 0.9140 - val_loss: 0.1617 - val_accuracy: 0.9563 - val_auc: 0.9795 - val_recall: 0.8734 - val_precision: 0.7223\n",
      "Epoch 2/128\n",
      "2950/2950 [==============================] - 82s 28ms/step - loss: 0.1070 - accuracy: 0.9695 - auc: 0.9940 - recall: 0.9779 - precision: 0.9619 - val_loss: 0.1793 - val_accuracy: 0.9534 - val_auc: 0.9851 - val_recall: 0.9450 - val_precision: 0.6830\n",
      "Epoch 3/128\n",
      "2950/2950 [==============================] - 64s 22ms/step - loss: 0.0812 - accuracy: 0.9809 - auc: 0.9972 - recall: 0.9862 - precision: 0.9758 - val_loss: 0.1336 - val_accuracy: 0.9619 - val_auc: 0.9846 - val_recall: 0.9119 - val_precision: 0.7429\n",
      "Epoch 4/128\n",
      "2950/2950 [==============================] - 67s 23ms/step - loss: 0.0710 - accuracy: 0.9864 - auc: 0.9982 - recall: 0.9893 - precision: 0.9835 - val_loss: 0.2116 - val_accuracy: 0.9508 - val_auc: 0.9807 - val_recall: 0.9358 - val_precision: 0.6719\n",
      "Epoch 5/128\n",
      "2950/2950 [==============================] - 67s 23ms/step - loss: 0.0668 - accuracy: 0.9890 - auc: 0.9986 - recall: 0.9920 - precision: 0.9860 - val_loss: 0.1391 - val_accuracy: 0.9631 - val_auc: 0.9846 - val_recall: 0.9211 - val_precision: 0.7470\n",
      "Epoch 6/128\n",
      "2950/2950 [==============================] - 68s 23ms/step - loss: 0.0627 - accuracy: 0.9908 - auc: 0.9989 - recall: 0.9928 - precision: 0.9888 - val_loss: 0.1424 - val_accuracy: 0.9700 - val_auc: 0.9767 - val_recall: 0.9229 - val_precision: 0.7934\n",
      "Epoch 7/128\n",
      "2950/2950 [==============================] - 69s 23ms/step - loss: 0.0596 - accuracy: 0.9926 - auc: 0.9991 - recall: 0.9943 - precision: 0.9910 - val_loss: 0.1418 - val_accuracy: 0.9714 - val_auc: 0.9762 - val_recall: 0.9101 - val_precision: 0.8105\n",
      "Epoch 8/128\n",
      "2950/2950 [==============================] - 63s 21ms/step - loss: 0.0606 - accuracy: 0.9924 - auc: 0.9991 - recall: 0.9941 - precision: 0.9907 - val_loss: 0.1420 - val_accuracy: 0.9764 - val_auc: 0.9702 - val_recall: 0.8991 - val_precision: 0.8581\n",
      "Epoch 9/128\n",
      "2950/2950 [==============================] - 63s 21ms/step - loss: 0.0420 - accuracy: 0.9985 - auc: 0.9999 - recall: 0.9996 - precision: 0.9974 - val_loss: 0.1722 - val_accuracy: 0.9816 - val_auc: 0.9586 - val_recall: 0.8734 - val_precision: 0.9279\n",
      "Epoch 10/128\n",
      "2950/2950 [==============================] - 64s 22ms/step - loss: 0.0374 - accuracy: 0.9994 - auc: 0.9999 - recall: 0.9997 - precision: 0.9990 - val_loss: 0.1856 - val_accuracy: 0.9806 - val_auc: 0.9530 - val_recall: 0.8642 - val_precision: 0.9253\n",
      "Epoch 11/128\n",
      "2950/2950 [==============================] - 62s 21ms/step - loss: 0.0348 - accuracy: 0.9994 - auc: 0.9999 - recall: 0.9997 - precision: 0.9991 - val_loss: 0.2047 - val_accuracy: 0.9799 - val_auc: 0.9478 - val_recall: 0.8532 - val_precision: 0.9281\n",
      "Epoch 12/128\n",
      "2950/2950 [==============================] - 61s 21ms/step - loss: 0.0328 - accuracy: 0.9995 - auc: 0.9999 - recall: 0.9997 - precision: 0.9993 - val_loss: 0.1782 - val_accuracy: 0.9799 - val_auc: 0.9593 - val_recall: 0.8606 - val_precision: 0.9214\n",
      "Epoch 13/128\n",
      "2950/2950 [==============================] - 63s 21ms/step - loss: 0.0304 - accuracy: 0.9995 - auc: 0.9999 - recall: 0.9998 - precision: 0.9993 - val_loss: 0.1842 - val_accuracy: 0.9808 - val_auc: 0.9489 - val_recall: 0.8532 - val_precision: 0.9375\n",
      "Epoch 14/128\n",
      "2950/2950 [==============================] - 61s 21ms/step - loss: 0.0292 - accuracy: 0.9996 - auc: 1.0000 - recall: 0.9998 - precision: 0.9993 - val_loss: 0.1825 - val_accuracy: 0.9816 - val_auc: 0.9499 - val_recall: 0.8550 - val_precision: 0.9452\n",
      "Epoch 15/128\n",
      "2950/2950 [==============================] - 61s 21ms/step - loss: 0.0288 - accuracy: 0.9997 - auc: 1.0000 - recall: 0.9999 - precision: 0.9995 - val_loss: 0.1888 - val_accuracy: 0.9811 - val_auc: 0.9490 - val_recall: 0.8495 - val_precision: 0.9449\n",
      "\n",
      " MODEL EVALUATION ON TEST SET ============================================================================ \n",
      "\n",
      "451/451 [==============================] - 6s 12ms/step - loss: 0.1329 - accuracy: 0.9622 - auc: 0.9865 - recall: 0.9134 - precision: 0.7268\n"
     ]
    }
   ],
   "source": [
    "# 5-layer on normally sampled train set. ===> submit\n",
    "# predictions_CNN_prob_15\n",
    "# random oversampled\n",
    "# \n",
    "\n",
    "\n",
    "model = tf.keras.Sequential([\n",
    "    layers.Reshape(target_shape=(20, 20, 1), input_shape=(400,)),\n",
    "    layers.Conv2D(32, (3, 3), activation = 'relu', kernel_regularizer=l2(0.00001), padding='same'),\n",
    "    layers.BatchNormalization(),\n",
    "    layers.MaxPooling2D(pool_size=(2, 2), strides=(2, 2), padding='same'),\n",
    "    layers.Conv2D(64, (3, 3), activation = 'relu', kernel_regularizer=l2(0.00001), padding='same'),\n",
    "    layers.BatchNormalization(),\n",
    "    layers.MaxPooling2D(pool_size=(2, 2), strides=(2, 2), padding='same'),\n",
    "    layers.Conv2D(128, (3, 3), activation = 'relu', kernel_regularizer=l2(0.00001), padding='same'),\n",
    "    layers.BatchNormalization(),\n",
    "    layers.MaxPooling2D(pool_size=(2, 2), strides=(2, 2), padding='same'),\n",
    "    layers.Conv2D(256, (3, 3), activation = 'relu', kernel_regularizer=l2(0.00001), padding='same'),\n",
    "    layers.BatchNormalization(),\n",
    "    layers.MaxPooling2D(pool_size=(2, 2), strides=(2, 2), padding='same'),\n",
    "    layers.Conv2D(256, (3, 3), activation = 'relu', kernel_regularizer=l2(0.00001), padding='same'),\n",
    "    layers.BatchNormalization(),\n",
    "    layers.MaxPooling2D(pool_size=(2, 2), strides=(2, 2), padding='same'),\n",
    "    layers.Flatten(),\n",
    "    #layers.Dropout(0.6),\n",
    "    layers.Dense(128, activation='relu', kernel_regularizer=l2(0.00001)),\n",
    "    layers.Dropout(0.6),\n",
    "    layers.Dense(32, activation='relu', kernel_regularizer=l2(0.00001)),\n",
    "    layers.Dense(1, activation='sigmoid')\n",
    "])\n",
    "\n",
    "model_CNN_15 = model_score(model, x_train_oversam, y_train_oversam)"
   ]
  },
  {
   "cell_type": "code",
   "execution_count": 45,
   "metadata": {},
   "outputs": [
    {
     "name": "stdout",
     "output_type": "stream",
     "text": [
      "          Id  Predicted\n",
      "0          0   0.000044\n",
      "1          1   0.000160\n",
      "2          2   0.027587\n",
      "3          3   0.000024\n",
      "4          4   0.003521\n",
      "...      ...        ...\n",
      "30912  30912   0.000028\n",
      "30913  30913   0.584994\n",
      "30914  30914   0.227613\n",
      "30915  30915   0.002541\n",
      "30916  30916   0.000012\n",
      "\n",
      "[30917 rows x 2 columns]\n"
     ]
    },
    {
     "data": {
      "text/plain": [
       "True"
      ]
     },
     "execution_count": 45,
     "metadata": {},
     "output_type": "execute_result"
    }
   ],
   "source": [
    "pred_test_to_csv(model_CNN_15[0], \"predictions_CNN_prob_15_2\")"
   ]
  },
  {
   "cell_type": "code",
   "execution_count": 52,
   "metadata": {},
   "outputs": [
    {
     "name": "stdout",
     "output_type": "stream",
     "text": [
      "\n",
      " MODEL BUILDING ============================================================================ \n",
      "\n",
      "Epoch 1/128\n",
      "2950/2950 [==============================] - 44s 14ms/step - loss: 0.2382 - accuracy: 0.9068 - auc: 0.9682 - recall: 0.9054 - precision: 0.9079 - val_loss: 0.1268 - val_accuracy: 0.9496 - val_auc: 0.9761 - val_recall: 0.8569 - val_precision: 0.6868\n",
      "Epoch 2/128\n",
      "2950/2950 [==============================] - 45s 15ms/step - loss: 0.1081 - accuracy: 0.9664 - auc: 0.9935 - recall: 0.9739 - precision: 0.9596 - val_loss: 0.1956 - val_accuracy: 0.9295 - val_auc: 0.9840 - val_recall: 0.9560 - val_precision: 0.5763\n",
      "Epoch 3/128\n",
      "2950/2950 [==============================] - 49s 16ms/step - loss: 0.0794 - accuracy: 0.9800 - auc: 0.9970 - recall: 0.9846 - precision: 0.9756 - val_loss: 0.1842 - val_accuracy: 0.9466 - val_auc: 0.9782 - val_recall: 0.9193 - val_precision: 0.6549\n",
      "Epoch 4/128\n",
      "2950/2950 [==============================] - 53s 18ms/step - loss: 0.0696 - accuracy: 0.9852 - auc: 0.9981 - recall: 0.9899 - precision: 0.9807 - val_loss: 0.1266 - val_accuracy: 0.9721 - val_auc: 0.9811 - val_recall: 0.9211 - val_precision: 0.8097\n",
      "Epoch 5/128\n",
      "2950/2950 [==============================] - 53s 18ms/step - loss: 0.0632 - accuracy: 0.9887 - auc: 0.9988 - recall: 0.9914 - precision: 0.9860 - val_loss: 0.1351 - val_accuracy: 0.9693 - val_auc: 0.9862 - val_recall: 0.9248 - val_precision: 0.7875\n",
      "Epoch 6/128\n",
      "2950/2950 [==============================] - 68s 23ms/step - loss: 0.0591 - accuracy: 0.9911 - auc: 0.9990 - recall: 0.9931 - precision: 0.9892 - val_loss: 0.1141 - val_accuracy: 0.9752 - val_auc: 0.9831 - val_recall: 0.8936 - val_precision: 0.8514\n",
      "Epoch 7/128\n",
      "2950/2950 [==============================] - 62s 21ms/step - loss: 0.0564 - accuracy: 0.9929 - auc: 0.9992 - recall: 0.9941 - precision: 0.9917 - val_loss: 0.1542 - val_accuracy: 0.9690 - val_auc: 0.9812 - val_recall: 0.9156 - val_precision: 0.7896\n",
      "Epoch 8/128\n",
      "2950/2950 [==============================] - 56s 19ms/step - loss: 0.0554 - accuracy: 0.9936 - auc: 0.9993 - recall: 0.9950 - precision: 0.9922 - val_loss: 0.1270 - val_accuracy: 0.9777 - val_auc: 0.9808 - val_recall: 0.9138 - val_precision: 0.8586\n",
      "Epoch 9/128\n",
      "2950/2950 [==============================] - 66s 22ms/step - loss: 0.0544 - accuracy: 0.9938 - auc: 0.9994 - recall: 0.9950 - precision: 0.9927 - val_loss: 0.1286 - val_accuracy: 0.9759 - val_auc: 0.9774 - val_recall: 0.8679 - val_precision: 0.8759\n",
      "Epoch 10/128\n",
      "2950/2950 [==============================] - 63s 21ms/step - loss: 0.0518 - accuracy: 0.9951 - auc: 0.9995 - recall: 0.9963 - precision: 0.9939 - val_loss: 0.1427 - val_accuracy: 0.9777 - val_auc: 0.9714 - val_recall: 0.9028 - val_precision: 0.8662\n",
      "Epoch 11/128\n",
      "2950/2950 [==============================] - 66s 22ms/step - loss: 0.0535 - accuracy: 0.9948 - auc: 0.9994 - recall: 0.9959 - precision: 0.9936 - val_loss: 0.1395 - val_accuracy: 0.9783 - val_auc: 0.9693 - val_recall: 0.8679 - val_precision: 0.8992\n",
      "Epoch 12/128\n",
      "2950/2950 [==============================] - 64s 22ms/step - loss: 0.0414 - accuracy: 0.9987 - auc: 0.9998 - recall: 0.9995 - precision: 0.9979 - val_loss: 0.1633 - val_accuracy: 0.9806 - val_auc: 0.9584 - val_recall: 0.8624 - val_precision: 0.9270\n",
      "Epoch 13/128\n",
      "2950/2950 [==============================] - 69s 23ms/step - loss: 0.0368 - accuracy: 0.9996 - auc: 0.9999 - recall: 0.9999 - precision: 0.9993 - val_loss: 0.2036 - val_accuracy: 0.9804 - val_auc: 0.9461 - val_recall: 0.8514 - val_precision: 0.9355\n",
      "Epoch 14/128\n",
      "2950/2950 [==============================] - 57s 19ms/step - loss: 0.0345 - accuracy: 0.9996 - auc: 1.0000 - recall: 0.9998 - precision: 0.9993 - val_loss: 0.2028 - val_accuracy: 0.9808 - val_auc: 0.9495 - val_recall: 0.8624 - val_precision: 0.9289\n",
      "Epoch 15/128\n",
      "2950/2950 [==============================] - 57s 19ms/step - loss: 0.0321 - accuracy: 0.9996 - auc: 1.0000 - recall: 0.9998 - precision: 0.9994 - val_loss: 0.2135 - val_accuracy: 0.9804 - val_auc: 0.9513 - val_recall: 0.8642 - val_precision: 0.9235\n",
      "Epoch 16/128\n",
      "2950/2950 [==============================] - 58s 20ms/step - loss: 0.0302 - accuracy: 0.9996 - auc: 1.0000 - recall: 0.9998 - precision: 0.9994 - val_loss: 0.2205 - val_accuracy: 0.9804 - val_auc: 0.9449 - val_recall: 0.8514 - val_precision: 0.9355\n",
      "Epoch 17/128\n",
      "2950/2950 [==============================] - 57s 19ms/step - loss: 0.0288 - accuracy: 0.9998 - auc: 1.0000 - recall: 1.0000 - precision: 0.9996 - val_loss: 0.2232 - val_accuracy: 0.9808 - val_auc: 0.9458 - val_recall: 0.8550 - val_precision: 0.9357\n",
      "Epoch 18/128\n",
      "2950/2950 [==============================] - 67s 23ms/step - loss: 0.0285 - accuracy: 0.9998 - auc: 1.0000 - recall: 0.9999 - precision: 0.9996 - val_loss: 0.2274 - val_accuracy: 0.9806 - val_auc: 0.9440 - val_recall: 0.8550 - val_precision: 0.9339\n",
      "\n",
      " MODEL EVALUATION ON TEST SET ============================================================================ \n",
      "\n",
      "451/451 [==============================] - 6s 13ms/step - loss: 0.1079 - accuracy: 0.9777 - auc: 0.9843 - recall: 0.9008 - precision: 0.8537\n"
     ]
    }
   ],
   "source": [
    "# 4-layer on normally sampled train set. \n",
    "# predictions_CNN_prob_16\n",
    "# random over sampled\n",
    "#  \n",
    "\n",
    "model = tf.keras.Sequential([\n",
    "    layers.Reshape(target_shape=(20, 20, 1), input_shape=(400,)),\n",
    "    layers.Conv2D(32, (3, 3), activation = 'relu', kernel_regularizer=l2(0.00001), padding='same'),\n",
    "    layers.BatchNormalization(),\n",
    "    layers.MaxPooling2D(pool_size=(2, 2), strides=(2, 2), padding='same'),\n",
    "    layers.Conv2D(64, (3, 3), activation = 'relu', kernel_regularizer=l2(0.00001), padding='same'),\n",
    "    layers.BatchNormalization(),\n",
    "    layers.MaxPooling2D(pool_size=(2, 2), strides=(2, 2), padding='same'),\n",
    "    layers.Conv2D(128, (3, 3), activation = 'relu', kernel_regularizer=l2(0.00001), padding='same'),\n",
    "    layers.BatchNormalization(),\n",
    "    layers.MaxPooling2D(pool_size=(2, 2), strides=(2, 2), padding='same'),\n",
    "    layers.Conv2D(256, (3, 3), activation = 'relu', kernel_regularizer=l2(0.00001), padding='same'),\n",
    "    layers.BatchNormalization(),\n",
    "    layers.MaxPooling2D(pool_size=(2, 2), strides=(2, 2), padding='same'),\n",
    "    layers.Flatten(),\n",
    "    #layers.Dropout(0.6),\n",
    "    layers.Dense(128, activation='relu', kernel_regularizer=l2(0.00001)),\n",
    "    layers.Dropout(0.6),\n",
    "    layers.Dense(16, activation='relu', kernel_regularizer=l2(0.00001)),\n",
    "    layers.Dense(1, activation='sigmoid')\n",
    "])\n",
    "\n",
    "model_CNN_16 = model_score(model, x_train_oversam, y_train_oversam)"
   ]
  },
  {
   "cell_type": "code",
   "execution_count": 53,
   "metadata": {},
   "outputs": [
    {
     "name": "stdout",
     "output_type": "stream",
     "text": [
      "          Id     Predicted\n",
      "0          0  1.243785e-11\n",
      "1          1  6.365884e-06\n",
      "2          2  9.675701e-10\n",
      "3          3  4.006355e-08\n",
      "4          4  1.434304e-04\n",
      "...      ...           ...\n",
      "30912  30912  1.194210e-06\n",
      "30913  30913  2.830749e-05\n",
      "30914  30914  5.575607e-01\n",
      "30915  30915  3.342547e-06\n",
      "30916  30916  1.045959e-05\n",
      "\n",
      "[30917 rows x 2 columns]\n"
     ]
    },
    {
     "data": {
      "text/plain": [
       "True"
      ]
     },
     "execution_count": 53,
     "metadata": {},
     "output_type": "execute_result"
    }
   ],
   "source": [
    "pred_test_to_csv(model_CNN_16[0], \"predictions_CNN_prob_16\")"
   ]
  },
  {
   "cell_type": "code",
   "execution_count": 28,
   "metadata": {},
   "outputs": [
    {
     "name": "stdout",
     "output_type": "stream",
     "text": [
      "\n",
      " MODEL BUILDING ============================================================================ \n",
      "\n",
      "Epoch 1/128\n",
      "1624/1624 [==============================] - 34s 20ms/step - loss: 0.1737 - accuracy: 0.9439 - auc: 0.9111 - recall: 0.5144 - precision: 0.7992 - val_loss: 0.1902 - val_accuracy: 0.9387 - val_auc: 0.9436 - val_recall: 0.3743 - val_precision: 0.9401\n",
      "Epoch 2/128\n",
      "1624/1624 [==============================] - 35s 21ms/step - loss: 0.1084 - accuracy: 0.9639 - auc: 0.9653 - recall: 0.7063 - precision: 0.8742 - val_loss: 0.1138 - val_accuracy: 0.9579 - val_auc: 0.9661 - val_recall: 0.5817 - val_precision: 0.9548\n",
      "Epoch 3/128\n",
      "1624/1624 [==============================] - 36s 22ms/step - loss: 0.0842 - accuracy: 0.9719 - auc: 0.9785 - recall: 0.7793 - precision: 0.9001 - val_loss: 0.0912 - val_accuracy: 0.9695 - val_auc: 0.9778 - val_recall: 0.7468 - val_precision: 0.9146\n",
      "Epoch 4/128\n",
      "1624/1624 [==============================] - 35s 22ms/step - loss: 0.0692 - accuracy: 0.9764 - auc: 0.9853 - recall: 0.8164 - precision: 0.9164 - val_loss: 0.1081 - val_accuracy: 0.9674 - val_auc: 0.9755 - val_recall: 0.8220 - val_precision: 0.8312\n",
      "Epoch 5/128\n",
      "1624/1624 [==============================] - 37s 23ms/step - loss: 0.0583 - accuracy: 0.9804 - auc: 0.9893 - recall: 0.8471 - precision: 0.9318 - val_loss: 0.0750 - val_accuracy: 0.9777 - val_auc: 0.9825 - val_recall: 0.8110 - val_precision: 0.9444\n",
      "Epoch 6/128\n",
      "1624/1624 [==============================] - 36s 22ms/step - loss: 0.0501 - accuracy: 0.9843 - auc: 0.9915 - recall: 0.8830 - precision: 0.9420 - val_loss: 0.0846 - val_accuracy: 0.9709 - val_auc: 0.9834 - val_recall: 0.8275 - val_precision: 0.8590\n",
      "Epoch 7/128\n",
      "1624/1624 [==============================] - 33s 20ms/step - loss: 0.0434 - accuracy: 0.9856 - auc: 0.9944 - recall: 0.8935 - precision: 0.9458 - val_loss: 0.0797 - val_accuracy: 0.9778 - val_auc: 0.9851 - val_recall: 0.8697 - val_precision: 0.8927\n",
      "Epoch 8/128\n",
      "1624/1624 [==============================] - 34s 21ms/step - loss: 0.0375 - accuracy: 0.9883 - auc: 0.9962 - recall: 0.9144 - precision: 0.9557 - val_loss: 0.1016 - val_accuracy: 0.9751 - val_auc: 0.9686 - val_recall: 0.8330 - val_precision: 0.8955\n",
      "Epoch 9/128\n",
      "1624/1624 [==============================] - 35s 22ms/step - loss: 0.0340 - accuracy: 0.9895 - auc: 0.9963 - recall: 0.9230 - precision: 0.9607 - val_loss: 0.1102 - val_accuracy: 0.9685 - val_auc: 0.9790 - val_recall: 0.8991 - val_precision: 0.7942\n",
      "Epoch 10/128\n",
      "1624/1624 [==============================] - 36s 22ms/step - loss: 0.0326 - accuracy: 0.9909 - auc: 0.9970 - recall: 0.9382 - precision: 0.9609 - val_loss: 0.0874 - val_accuracy: 0.9806 - val_auc: 0.9704 - val_recall: 0.8514 - val_precision: 0.9374\n",
      "Epoch 11/128\n",
      "1624/1624 [==============================] - 34s 21ms/step - loss: 0.0166 - accuracy: 0.9965 - auc: 0.9990 - recall: 0.9758 - precision: 0.9853 - val_loss: 0.0848 - val_accuracy: 0.9808 - val_auc: 0.9795 - val_recall: 0.8844 - val_precision: 0.9094\n",
      "Epoch 12/128\n",
      "1624/1624 [==============================] - 34s 21ms/step - loss: 0.0113 - accuracy: 0.9981 - auc: 0.9996 - recall: 0.9892 - precision: 0.9897 - val_loss: 0.1054 - val_accuracy: 0.9820 - val_auc: 0.9698 - val_recall: 0.8881 - val_precision: 0.9184\n",
      "Epoch 13/128\n",
      "1624/1624 [==============================] - 34s 21ms/step - loss: 0.0097 - accuracy: 0.9986 - auc: 0.9998 - recall: 0.9916 - precision: 0.9932 - val_loss: 0.1266 - val_accuracy: 0.9816 - val_auc: 0.9638 - val_recall: 0.8697 - val_precision: 0.9312\n",
      "Epoch 14/128\n",
      "1624/1624 [==============================] - 34s 21ms/step - loss: 0.0086 - accuracy: 0.9988 - auc: 1.0000 - recall: 0.9933 - precision: 0.9937 - val_loss: 0.1351 - val_accuracy: 0.9828 - val_auc: 0.9611 - val_recall: 0.8789 - val_precision: 0.9355\n",
      "Epoch 15/128\n",
      "1624/1624 [==============================] - 36s 22ms/step - loss: 0.0081 - accuracy: 0.9991 - auc: 0.9999 - recall: 0.9949 - precision: 0.9951 - val_loss: 0.1484 - val_accuracy: 0.9822 - val_auc: 0.9619 - val_recall: 0.8807 - val_precision: 0.9266\n",
      "Epoch 16/128\n",
      "1624/1624 [==============================] - 36s 22ms/step - loss: 0.0078 - accuracy: 0.9994 - auc: 0.9998 - recall: 0.9973 - precision: 0.9958 - val_loss: 0.1487 - val_accuracy: 0.9830 - val_auc: 0.9618 - val_recall: 0.8862 - val_precision: 0.9306\n",
      "Epoch 17/128\n",
      "1624/1624 [==============================] - 35s 22ms/step - loss: 0.0069 - accuracy: 0.9995 - auc: 1.0000 - recall: 0.9983 - precision: 0.9964 - val_loss: 0.1488 - val_accuracy: 0.9825 - val_auc: 0.9616 - val_recall: 0.8862 - val_precision: 0.9253\n",
      "\n",
      " MODEL EVALUATION ON TEST SET ============================================================================ \n",
      "\n",
      "451/451 [==============================] - 6s 12ms/step - loss: 0.0683 - accuracy: 0.9769 - auc: 0.9875 - recall: 0.8016 - precision: 0.9263\n"
     ]
    }
   ],
   "source": [
    "# CNN model 17\n",
    "# 5 layer CNN\n",
    "# Normally Sampled\n",
    "\n",
    "model = tf.keras.Sequential([\n",
    "    layers.Reshape(target_shape=(20, 20, 1), input_shape=(400,)),\n",
    "    layers.Conv2D(32, (3, 3), activation = 'relu', kernel_regularizer=l2(0.000001), padding='same'),\n",
    "    layers.BatchNormalization(),\n",
    "    layers.MaxPooling2D(pool_size=(2, 2), strides=(2, 2), padding='same'),\n",
    "    layers.Conv2D(64, (3, 3), activation = 'relu', kernel_regularizer=l2(0.000001), padding='same'),\n",
    "    layers.BatchNormalization(),\n",
    "    layers.MaxPooling2D(pool_size=(2, 2), strides=(2, 2), padding='same'),\n",
    "    layers.Conv2D(128, (3, 3), activation = 'relu', kernel_regularizer=l2(0.000001), padding='same'),\n",
    "    layers.BatchNormalization(),\n",
    "    layers.MaxPooling2D(pool_size=(2, 2), strides=(2, 2), padding='same'),\n",
    "    layers.Conv2D(256, (3, 3), activation = 'relu', kernel_regularizer=l2(0.000001), padding='same'),\n",
    "    layers.BatchNormalization(),\n",
    "    layers.MaxPooling2D(pool_size=(2, 2), strides=(2, 2), padding='same'),\n",
    "    layers.Conv2D(256, (3, 3), activation = 'relu', kernel_regularizer=l2(0.000001), padding='same'),\n",
    "    layers.BatchNormalization(),\n",
    "    layers.MaxPooling2D(pool_size=(2, 2), strides=(2, 2), padding='same'),\n",
    "    layers.Flatten(),\n",
    "    #layers.Dropout(0.6),\n",
    "    layers.Dense(128, activation='relu', kernel_regularizer=l2(0.000001)),\n",
    "    layers.Dropout(0.6),\n",
    "    layers.Dense(16, activation='relu', kernel_regularizer=l2(0.000001)),\n",
    "    layers.Dense(1, activation='sigmoid')\n",
    "])\n",
    "\n",
    "model_CNN_17 = model_score(model, x_train, y_train)"
   ]
  },
  {
   "cell_type": "code",
   "execution_count": 29,
   "metadata": {},
   "outputs": [
    {
     "name": "stdout",
     "output_type": "stream",
     "text": [
      "          Id     Predicted\n",
      "0          0  1.504792e-07\n",
      "1          1  1.609468e-03\n",
      "2          2  7.392058e-04\n",
      "3          3  6.585059e-07\n",
      "4          4  2.530175e-05\n",
      "...      ...           ...\n",
      "30912  30912  6.021515e-03\n",
      "30913  30913  2.532866e-02\n",
      "30914  30914  6.700584e-02\n",
      "30915  30915  2.512855e-04\n",
      "30916  30916  3.985780e-06\n",
      "\n",
      "[30917 rows x 2 columns]\n"
     ]
    },
    {
     "data": {
      "text/plain": [
       "True"
      ]
     },
     "execution_count": 29,
     "metadata": {},
     "output_type": "execute_result"
    }
   ],
   "source": [
    "pred_test_to_csv(model_CNN_17[0], \"predictions_CNN_prob_17\")"
   ]
  },
  {
   "cell_type": "code",
   "execution_count": 13,
   "metadata": {},
   "outputs": [
    {
     "name": "stdout",
     "output_type": "stream",
     "text": [
      "\n",
      " MODEL BUILDING ============================================================================ \n",
      "\n",
      "Epoch 1/128\n",
      "1624/1624 [==============================] - 36s 21ms/step - loss: 0.2069 - accuracy: 0.9327 - auc: 0.8844 - recall: 0.4113 - precision: 0.7346 - val_loss: 0.1286 - val_accuracy: 0.9556 - val_auc: 0.9617 - val_recall: 0.5908 - val_precision: 0.9070\n",
      "Epoch 2/128\n",
      "1624/1624 [==============================] - 38s 23ms/step - loss: 0.1221 - accuracy: 0.9611 - auc: 0.9591 - recall: 0.6880 - precision: 0.8576 - val_loss: 0.2117 - val_accuracy: 0.9650 - val_auc: 0.9742 - val_recall: 0.7339 - val_precision: 0.8753\n",
      "Epoch 3/128\n",
      "1624/1624 [==============================] - 37s 23ms/step - loss: 0.0951 - accuracy: 0.9696 - auc: 0.9736 - recall: 0.7487 - precision: 0.9015 - val_loss: 0.1211 - val_accuracy: 0.9581 - val_auc: 0.9791 - val_recall: 0.5615 - val_precision: 0.9903\n",
      "Epoch 4/128\n",
      "1624/1624 [==============================] - 39s 24ms/step - loss: 0.0804 - accuracy: 0.9736 - auc: 0.9814 - recall: 0.7866 - precision: 0.9120 - val_loss: 0.1094 - val_accuracy: 0.9586 - val_auc: 0.9797 - val_recall: 0.5908 - val_precision: 0.9527\n",
      "Epoch 5/128\n",
      "1624/1624 [==============================] - 39s 24ms/step - loss: 0.0724 - accuracy: 0.9761 - auc: 0.9851 - recall: 0.8187 - precision: 0.9111 - val_loss: 0.1002 - val_accuracy: 0.9700 - val_auc: 0.9833 - val_recall: 0.7119 - val_precision: 0.9604\n",
      "Epoch 6/128\n",
      "1624/1624 [==============================] - 38s 23ms/step - loss: 0.0609 - accuracy: 0.9807 - auc: 0.9898 - recall: 0.8511 - precision: 0.9319 - val_loss: 0.1177 - val_accuracy: 0.9648 - val_auc: 0.9825 - val_recall: 0.6349 - val_precision: 0.9886\n",
      "Epoch 7/128\n",
      "1624/1624 [==============================] - 39s 24ms/step - loss: 0.0599 - accuracy: 0.9814 - auc: 0.9905 - recall: 0.8573 - precision: 0.9339 - val_loss: 0.1241 - val_accuracy: 0.9707 - val_auc: 0.9840 - val_recall: 0.8606 - val_precision: 0.8345\n",
      "Epoch 8/128\n",
      "1624/1624 [==============================] - 42s 26ms/step - loss: 0.0498 - accuracy: 0.9856 - auc: 0.9928 - recall: 0.8921 - precision: 0.9476 - val_loss: 0.1001 - val_accuracy: 0.9780 - val_auc: 0.9868 - val_recall: 0.8367 - val_precision: 0.9231\n",
      "Epoch 9/128\n",
      "1624/1624 [==============================] - 39s 24ms/step - loss: 0.0423 - accuracy: 0.9864 - auc: 0.9951 - recall: 0.8971 - precision: 0.9513 - val_loss: 0.0972 - val_accuracy: 0.9702 - val_auc: 0.9747 - val_recall: 0.7083 - val_precision: 0.9674\n",
      "Epoch 10/128\n",
      "1624/1624 [==============================] - 41s 25ms/step - loss: 0.0417 - accuracy: 0.9879 - auc: 0.9951 - recall: 0.9159 - precision: 0.9495 - val_loss: 0.0882 - val_accuracy: 0.9768 - val_auc: 0.9823 - val_recall: 0.7835 - val_precision: 0.9639\n",
      "Epoch 11/128\n",
      "1624/1624 [==============================] - 44s 27ms/step - loss: 0.0378 - accuracy: 0.9884 - auc: 0.9967 - recall: 0.9136 - precision: 0.9576 - val_loss: 0.0866 - val_accuracy: 0.9782 - val_auc: 0.9849 - val_recall: 0.8697 - val_precision: 0.8960\n",
      "Epoch 12/128\n",
      "1624/1624 [==============================] - 42s 26ms/step - loss: 0.0379 - accuracy: 0.9897 - auc: 0.9965 - recall: 0.9264 - precision: 0.9590 - val_loss: 0.1070 - val_accuracy: 0.9735 - val_auc: 0.9778 - val_recall: 0.7303 - val_precision: 0.9851\n",
      "Epoch 13/128\n",
      "1624/1624 [==============================] - 43s 27ms/step - loss: 0.0325 - accuracy: 0.9915 - auc: 0.9975 - recall: 0.9437 - precision: 0.9620 - val_loss: 0.0966 - val_accuracy: 0.9764 - val_auc: 0.9770 - val_recall: 0.8165 - val_precision: 0.9252\n",
      "Epoch 14/128\n",
      "1624/1624 [==============================] - 45s 28ms/step - loss: 0.0337 - accuracy: 0.9914 - auc: 0.9971 - recall: 0.9403 - precision: 0.9647 - val_loss: 0.1723 - val_accuracy: 0.9711 - val_auc: 0.9492 - val_recall: 0.7064 - val_precision: 0.9821\n",
      "Epoch 15/128\n",
      "1624/1624 [==============================] - 46s 28ms/step - loss: 0.0308 - accuracy: 0.9921 - auc: 0.9976 - recall: 0.9511 - precision: 0.9620 - val_loss: 0.1007 - val_accuracy: 0.9806 - val_auc: 0.9786 - val_recall: 0.8257 - val_precision: 0.9636\n",
      "Epoch 16/128\n",
      "1624/1624 [==============================] - 39s 24ms/step - loss: 0.0312 - accuracy: 0.9921 - auc: 0.9980 - recall: 0.9437 - precision: 0.9693 - val_loss: 0.0804 - val_accuracy: 0.9809 - val_auc: 0.9845 - val_recall: 0.8312 - val_precision: 0.9618\n",
      "Epoch 17/128\n",
      "1624/1624 [==============================] - 43s 27ms/step - loss: 0.0288 - accuracy: 0.9932 - auc: 0.9977 - recall: 0.9540 - precision: 0.9714 - val_loss: 0.0775 - val_accuracy: 0.9799 - val_auc: 0.9854 - val_recall: 0.8972 - val_precision: 0.8907\n",
      "Epoch 18/128\n",
      "1624/1624 [==============================] - 39s 24ms/step - loss: 0.0243 - accuracy: 0.9945 - auc: 0.9987 - recall: 0.9654 - precision: 0.9743 - val_loss: 0.0889 - val_accuracy: 0.9804 - val_auc: 0.9774 - val_recall: 0.8440 - val_precision: 0.9426\n",
      "Epoch 19/128\n",
      "1624/1624 [==============================] - 49s 30ms/step - loss: 0.0274 - accuracy: 0.9940 - auc: 0.9980 - recall: 0.9595 - precision: 0.9745 - val_loss: 0.1055 - val_accuracy: 0.9730 - val_auc: 0.9726 - val_recall: 0.7284 - val_precision: 0.9802\n",
      "Epoch 20/128\n",
      "1624/1624 [==============================] - 43s 27ms/step - loss: 0.0256 - accuracy: 0.9943 - auc: 0.9988 - recall: 0.9682 - precision: 0.9694 - val_loss: 0.1169 - val_accuracy: 0.9664 - val_auc: 0.9819 - val_recall: 0.9028 - val_precision: 0.7773\n",
      "Epoch 21/128\n",
      "1624/1624 [==============================] - 40s 25ms/step - loss: 0.0255 - accuracy: 0.9947 - auc: 0.9985 - recall: 0.9671 - precision: 0.9749 - val_loss: 0.0894 - val_accuracy: 0.9778 - val_auc: 0.9784 - val_recall: 0.8514 - val_precision: 0.9080\n",
      "Epoch 22/128\n",
      "1624/1624 [==============================] - 44s 27ms/step - loss: 0.0255 - accuracy: 0.9942 - auc: 0.9985 - recall: 0.9709 - precision: 0.9662 - val_loss: 0.0978 - val_accuracy: 0.9785 - val_auc: 0.9766 - val_recall: 0.8716 - val_precision: 0.8979\n",
      "Epoch 23/128\n",
      "1624/1624 [==============================] - 42s 26ms/step - loss: 0.0182 - accuracy: 0.9972 - auc: 0.9991 - recall: 0.9846 - precision: 0.9848 - val_loss: 0.1030 - val_accuracy: 0.9816 - val_auc: 0.9721 - val_recall: 0.8569 - val_precision: 0.9434\n",
      "Epoch 24/128\n",
      "1624/1624 [==============================] - 42s 26ms/step - loss: 0.0141 - accuracy: 0.9982 - auc: 0.9996 - recall: 0.9901 - precision: 0.9907 - val_loss: 0.1163 - val_accuracy: 0.9820 - val_auc: 0.9706 - val_recall: 0.8587 - val_precision: 0.9455\n",
      "Epoch 25/128\n",
      "1624/1624 [==============================] - 45s 28ms/step - loss: 0.0122 - accuracy: 0.9987 - auc: 1.0000 - recall: 0.9941 - precision: 0.9918 - val_loss: 0.1449 - val_accuracy: 0.9818 - val_auc: 0.9646 - val_recall: 0.8587 - val_precision: 0.9435\n",
      "Epoch 26/128\n",
      "1624/1624 [==============================] - 40s 25ms/step - loss: 0.0119 - accuracy: 0.9989 - auc: 0.9997 - recall: 0.9947 - precision: 0.9935 - val_loss: 0.1413 - val_accuracy: 0.9825 - val_auc: 0.9646 - val_recall: 0.8679 - val_precision: 0.9422\n",
      "Epoch 27/128\n",
      "1624/1624 [==============================] - 53s 33ms/step - loss: 0.0115 - accuracy: 0.9990 - auc: 1.0000 - recall: 0.9968 - precision: 0.9927 - val_loss: 0.1385 - val_accuracy: 0.9813 - val_auc: 0.9655 - val_recall: 0.8716 - val_precision: 0.9259\n",
      "Epoch 28/128\n",
      "1624/1624 [==============================] - 41s 25ms/step - loss: 0.0108 - accuracy: 0.9994 - auc: 1.0000 - recall: 0.9987 - precision: 0.9943 - val_loss: 0.1506 - val_accuracy: 0.9820 - val_auc: 0.9639 - val_recall: 0.8661 - val_precision: 0.9384\n",
      "Epoch 29/128\n",
      "1624/1624 [==============================] - 44s 27ms/step - loss: 0.0107 - accuracy: 0.9994 - auc: 1.0000 - recall: 0.9985 - precision: 0.9950 - val_loss: 0.1549 - val_accuracy: 0.9825 - val_auc: 0.9621 - val_recall: 0.8716 - val_precision: 0.9387\n",
      "\n",
      " MODEL EVALUATION ON TEST SET ============================================================================ \n",
      "\n",
      "451/451 [==============================] - 6s 13ms/step - loss: 0.0725 - accuracy: 0.9796 - auc: 0.9873 - recall: 0.8953 - precision: 0.8753\n"
     ]
    }
   ],
   "source": [
    "# CNN model 18\n",
    "# 5 layer CNN\n",
    "# Normally Sampled\n",
    "\n",
    "model = tf.keras.Sequential([\n",
    "    layers.Reshape(target_shape=(20, 20, 1), input_shape=(400,)),\n",
    "    layers.Conv2D(32, (3, 3), activation = 'relu', kernel_regularizer=l2(0.000001), padding='same'),\n",
    "    layers.BatchNormalization(),\n",
    "    layers.MaxPooling2D(pool_size=(2, 2), strides=(2, 2), padding='same'),\n",
    "    layers.Conv2D(64, (3, 3), activation = 'relu', kernel_regularizer=l2(0.000001), padding='same'),\n",
    "    layers.BatchNormalization(),\n",
    "    layers.MaxPooling2D(pool_size=(2, 2), strides=(2, 2), padding='same'),\n",
    "    layers.Conv2D(128, (3, 3), activation = 'relu', kernel_regularizer=l2(0.000001), padding='same'),\n",
    "    layers.BatchNormalization(),\n",
    "    layers.MaxPooling2D(pool_size=(2, 2), strides=(2, 2), padding='same'),\n",
    "    layers.Conv2D(256, (3, 3), activation = 'relu', kernel_regularizer=l2(0.000001), padding='same'),\n",
    "    layers.BatchNormalization(),\n",
    "    layers.MaxPooling2D(pool_size=(2, 2), strides=(2, 2), padding='same'),\n",
    "    layers.Conv2D(256, (3, 3), activation = 'relu', kernel_regularizer=l2(0.000001), padding='same'),\n",
    "    layers.BatchNormalization(),\n",
    "    layers.MaxPooling2D(pool_size=(2, 2), strides=(2, 2), padding='same'),\n",
    "    layers.Flatten(),\n",
    "    layers.Dense(256, activation='relu', kernel_regularizer=l2(0.000001)),\n",
    "    layers.Dropout(0.6),\n",
    "    layers.Dense(64, activation='relu', kernel_regularizer=l2(0.000001)),\n",
    "    layers.Dense(32, activation='relu', kernel_regularizer=l2(0.000001)),\n",
    "    layers.Dropout(0.6),\n",
    "    layers.Dense(16, activation='relu', kernel_regularizer=l2(0.000001)),\n",
    "\n",
    "    layers.Dense(1, activation='sigmoid')\n",
    "])\n",
    "\n",
    "model_CNN_19 = model_score(model, x_train, y_train)"
   ]
  },
  {
   "cell_type": "code",
   "execution_count": 11,
   "metadata": {},
   "outputs": [
    {
     "name": "stdout",
     "output_type": "stream",
     "text": [
      "          Id  Predicted\n",
      "0          0   0.000036\n",
      "1          1   0.004224\n",
      "2          2   0.012739\n",
      "3          3   0.000304\n",
      "4          4   0.000064\n",
      "...      ...        ...\n",
      "30912  30912   0.006777\n",
      "30913  30913   0.011279\n",
      "30914  30914   0.257418\n",
      "30915  30915   0.000593\n",
      "30916  30916   0.038625\n",
      "\n",
      "[30917 rows x 2 columns]\n"
     ]
    },
    {
     "data": {
      "text/plain": [
       "True"
      ]
     },
     "execution_count": 11,
     "metadata": {},
     "output_type": "execute_result"
    }
   ],
   "source": [
    "pred_test_to_csv(model_CNN_19[0], \"predictions_CNN_prob_19_3\")"
   ]
  },
  {
   "cell_type": "code",
   "execution_count": 30,
   "metadata": {},
   "outputs": [],
   "source": [
    "RANDOM_STATE = 6\n",
    "x_train_val, x_test, y_train_val, y_test = train_test_split(X, y, test_size=0.20,random_state=RANDOM_STATE)\n",
    "x_train, x_val, y_train, y_val = train_test_split(x_train_val,y_train_val, test_size=0.10,random_state=RANDOM_STATE)\n",
    "x_train = x_train/255\n",
    "x_val = x_val/255\n",
    "x_test= x_test/255\n"
   ]
  },
  {
   "cell_type": "code",
   "execution_count": null,
   "metadata": {},
   "outputs": [],
   "source": [
    "record ={}"
   ]
  },
  {
   "cell_type": "code",
   "execution_count": 11,
   "metadata": {},
   "outputs": [
    {
     "name": "stdout",
     "output_type": "stream",
     "text": [
      "\n",
      " MODEL BUILDING ============================================================================ \n",
      "\n",
      "Epoch 1/128\n",
      "1620/1620 [==============================] - 31s 18ms/step - loss: 0.1783 - accuracy: 0.9409 - auc: 0.9066 - recall: 0.5073 - precision: 0.7562 - val_loss: 0.1178 - val_accuracy: 0.9597 - val_auc: 0.9617 - val_recall: 0.7710 - val_precision: 0.7741\n",
      "Epoch 2/128\n",
      "1620/1620 [==============================] - 33s 20ms/step - loss: 0.1165 - accuracy: 0.9613 - auc: 0.9609 - recall: 0.7189 - precision: 0.8285 - val_loss: 0.1100 - val_accuracy: 0.9640 - val_auc: 0.9643 - val_recall: 0.8200 - val_precision: 0.7846\n",
      "Epoch 3/128\n",
      "1620/1620 [==============================] - 33s 20ms/step - loss: 0.0952 - accuracy: 0.9679 - auc: 0.9748 - recall: 0.7541 - precision: 0.8725 - val_loss: 0.1009 - val_accuracy: 0.9660 - val_auc: 0.9704 - val_recall: 0.7984 - val_precision: 0.8144\n",
      "Epoch 4/128\n",
      "1620/1620 [==============================] - 35s 21ms/step - loss: 0.0768 - accuracy: 0.9749 - auc: 0.9821 - recall: 0.8152 - precision: 0.8963 - val_loss: 0.1062 - val_accuracy: 0.9621 - val_auc: 0.9770 - val_recall: 0.8043 - val_precision: 0.7769\n",
      "Epoch 5/128\n",
      "1620/1620 [==============================] - 34s 21ms/step - loss: 0.0673 - accuracy: 0.9784 - auc: 0.9866 - recall: 0.8422 - precision: 0.9112 - val_loss: 0.1162 - val_accuracy: 0.9700 - val_auc: 0.9498 - val_recall: 0.7299 - val_precision: 0.9142\n",
      "Epoch 6/128\n",
      "1620/1620 [==============================] - 34s 21ms/step - loss: 0.0567 - accuracy: 0.9821 - auc: 0.9906 - recall: 0.8664 - precision: 0.9296 - val_loss: 0.1317 - val_accuracy: 0.9588 - val_auc: 0.9556 - val_recall: 0.7495 - val_precision: 0.7785\n",
      "Epoch 7/128\n",
      "1620/1620 [==============================] - 35s 21ms/step - loss: 0.0508 - accuracy: 0.9841 - auc: 0.9920 - recall: 0.8842 - precision: 0.9360 - val_loss: 0.0907 - val_accuracy: 0.9715 - val_auc: 0.9782 - val_recall: 0.8200 - val_precision: 0.8534\n",
      "Epoch 8/128\n",
      "1620/1620 [==============================] - 35s 22ms/step - loss: 0.0443 - accuracy: 0.9862 - auc: 0.9942 - recall: 0.9052 - precision: 0.9397 - val_loss: 0.0821 - val_accuracy: 0.9743 - val_auc: 0.9781 - val_recall: 0.8180 - val_precision: 0.8837\n",
      "Epoch 9/128\n",
      "1620/1620 [==============================] - 36s 22ms/step - loss: 0.0414 - accuracy: 0.9876 - auc: 0.9945 - recall: 0.9125 - precision: 0.9483 - val_loss: 0.0921 - val_accuracy: 0.9738 - val_auc: 0.9706 - val_recall: 0.7710 - val_precision: 0.9206\n",
      "Epoch 10/128\n",
      "1620/1620 [==============================] - 39s 24ms/step - loss: 0.0358 - accuracy: 0.9896 - auc: 0.9965 - recall: 0.9282 - precision: 0.9550 - val_loss: 0.0911 - val_accuracy: 0.9734 - val_auc: 0.9737 - val_recall: 0.7945 - val_precision: 0.8943\n",
      "Epoch 11/128\n",
      "1620/1620 [==============================] - 36s 22ms/step - loss: 0.0366 - accuracy: 0.9894 - auc: 0.9964 - recall: 0.9232 - precision: 0.9571 - val_loss: 0.0945 - val_accuracy: 0.9760 - val_auc: 0.9745 - val_recall: 0.8043 - val_precision: 0.9154\n",
      "Epoch 12/128\n",
      "1620/1620 [==============================] - 38s 23ms/step - loss: 0.0336 - accuracy: 0.9905 - auc: 0.9970 - recall: 0.9320 - precision: 0.9613 - val_loss: 0.0946 - val_accuracy: 0.9771 - val_auc: 0.9679 - val_recall: 0.8219 - val_precision: 0.9111\n",
      "Epoch 13/128\n",
      "1620/1620 [==============================] - 38s 24ms/step - loss: 0.0304 - accuracy: 0.9924 - auc: 0.9973 - recall: 0.9455 - precision: 0.9690 - val_loss: 0.1016 - val_accuracy: 0.9708 - val_auc: 0.9708 - val_recall: 0.7965 - val_precision: 0.8641\n",
      "Epoch 14/128\n",
      "1620/1620 [==============================] - 38s 24ms/step - loss: 0.0190 - accuracy: 0.9961 - auc: 0.9995 - recall: 0.9687 - precision: 0.9873 - val_loss: 0.1012 - val_accuracy: 0.9790 - val_auc: 0.9692 - val_recall: 0.8474 - val_precision: 0.9097\n",
      "Epoch 15/128\n",
      "1620/1620 [==============================] - 39s 24ms/step - loss: 0.0140 - accuracy: 0.9978 - auc: 0.9997 - recall: 0.9833 - precision: 0.9922 - val_loss: 0.1158 - val_accuracy: 0.9799 - val_auc: 0.9603 - val_recall: 0.8513 - val_precision: 0.9158\n",
      "Epoch 16/128\n",
      "1620/1620 [==============================] - 40s 25ms/step - loss: 0.0113 - accuracy: 0.9987 - auc: 1.0000 - recall: 0.9904 - precision: 0.9950 - val_loss: 0.1366 - val_accuracy: 0.9802 - val_auc: 0.9491 - val_recall: 0.8532 - val_precision: 0.9179\n",
      "Epoch 17/128\n",
      "1620/1620 [==============================] - 37s 23ms/step - loss: 0.0109 - accuracy: 0.9988 - auc: 1.0000 - recall: 0.9927 - precision: 0.9942 - val_loss: 0.1501 - val_accuracy: 0.9788 - val_auc: 0.9407 - val_recall: 0.8200 - val_precision: 0.9332\n",
      "Epoch 18/128\n",
      "1620/1620 [==============================] - 39s 24ms/step - loss: 0.0096 - accuracy: 0.9992 - auc: 1.0000 - recall: 0.9951 - precision: 0.9957 - val_loss: 0.1572 - val_accuracy: 0.9804 - val_auc: 0.9441 - val_recall: 0.8474 - val_precision: 0.9252\n",
      "Epoch 19/128\n",
      "1620/1620 [==============================] - 40s 24ms/step - loss: 0.0089 - accuracy: 0.9994 - auc: 1.0000 - recall: 0.9955 - precision: 0.9979 - val_loss: 0.1608 - val_accuracy: 0.9807 - val_auc: 0.9441 - val_recall: 0.8493 - val_precision: 0.9274\n",
      "Epoch 20/128\n",
      "1620/1620 [==============================] - 42s 26ms/step - loss: 0.0087 - accuracy: 0.9995 - auc: 1.0000 - recall: 0.9961 - precision: 0.9979 - val_loss: 0.1660 - val_accuracy: 0.9802 - val_auc: 0.9433 - val_recall: 0.8454 - val_precision: 0.9251\n",
      "\n",
      " MODEL EVALUATION ON TEST SET ============================================================================ \n",
      "\n",
      "450/450 [==============================] - 6s 13ms/step - loss: 0.0781 - accuracy: 0.9783 - auc: 0.9794 - recall: 0.8556 - precision: 0.9022\n"
     ]
    }
   ],
   "source": [
    "# CNN model 20\n",
    "# 5 layer CNN\n",
    "# Normally Sampled\n",
    "record3 ={}\n",
    "\n",
    "for i in range(60,61):\n",
    "    RANDOM_STATE = i\n",
    "    x_train_val, x_test, y_train_val, y_test = train_test_split(X, y, test_size=0.20,random_state=RANDOM_STATE)\n",
    "    x_train, x_val, y_train, y_val = train_test_split(x_train_val,y_train_val, test_size=0.10,random_state=RANDOM_STATE)\n",
    "    x_train = x_train/255\n",
    "    x_val = x_val/255\n",
    "    x_test= x_test/255\n",
    "\n",
    "\n",
    "    model = tf.keras.Sequential([\n",
    "        layers.Reshape(target_shape=(20, 20, 1), input_shape=(400,)),\n",
    "        layers.Conv2D(32, (3, 3), activation = 'relu', kernel_regularizer=l2(0.000001), padding='same'),\n",
    "        layers.BatchNormalization(),\n",
    "        layers.MaxPooling2D(pool_size=(2, 2), strides=(2, 2), padding='same'),\n",
    "        layers.Conv2D(64, (3, 3), activation = 'relu', kernel_regularizer=l2(0.000001), padding='same'),\n",
    "        layers.BatchNormalization(),\n",
    "        layers.MaxPooling2D(pool_size=(2, 2), strides=(2, 2), padding='same'),\n",
    "        layers.Conv2D(128, (3, 3), activation = 'relu', kernel_regularizer=l2(0.000001), padding='same'),\n",
    "        layers.BatchNormalization(),\n",
    "        layers.MaxPooling2D(pool_size=(2, 2), strides=(2, 2), padding='same'),\n",
    "        layers.Conv2D(256, (3, 3), activation = 'relu', kernel_regularizer=l2(0.000001), padding='same'),\n",
    "        layers.BatchNormalization(),\n",
    "        layers.MaxPooling2D(pool_size=(2, 2), strides=(2, 2), padding='same'),\n",
    "        layers.Conv2D(256, (3, 3), activation = 'relu', kernel_regularizer=l2(0.000001), padding='same'),\n",
    "        layers.BatchNormalization(),\n",
    "        layers.MaxPooling2D(pool_size=(2, 2), strides=(2, 2), padding='same'),\n",
    "        layers.Conv2D(256, (3, 3), activation = 'relu', kernel_regularizer=l2(0.000001), padding='same'),\n",
    "        layers.BatchNormalization(),\n",
    "        layers.MaxPooling2D(pool_size=(2, 2), strides=(2, 2), padding='same'),\n",
    "        layers.Flatten(),\n",
    "        layers.Dense(128, activation='relu', kernel_regularizer=l2(0.000001)),\n",
    "        layers.Dropout(0.6, seed=RANDOM_STATE),\n",
    "        #layers.Dense(128, activation='relu', kernel_regularizer=l2(0.000001)),\n",
    "        layers.Dense(16, activation='relu', kernel_regularizer=l2(0.000001)),\n",
    "        #layers.Dense(32, activation='relu', kernel_regularizer=l2(0.000001)),\n",
    "        #layers.Dense(16, activation='relu', kernel_regularizer=l2(0.000001)),\n",
    "        layers.Dense(1, activation='sigmoid')\n",
    "    ])\n",
    "\n",
    "    model_CNN_20 = model_score(model, x_train, y_train)\n",
    "    record3[RANDOM_STATE] = model_CNN_20"
   ]
  },
  {
   "cell_type": "code",
   "execution_count": 7,
   "metadata": {},
   "outputs": [
    {
     "name": "stdout",
     "output_type": "stream",
     "text": [
      "45 [0.08285435289144516, 0.9775601029396057, 0.9773394465446472, 0.8039215803146362, 0.9335154891014099]\n",
      "46 [0.07353801280260086, 0.9790884852409363, 0.9865972399711609, 0.8555984497070312, 0.9067103266716003]\n",
      "47 [0.07375148683786392, 0.9784632325172424, 0.9823421239852905, 0.8491008877754211, 0.9027431607246399]\n",
      "48 [0.07212630659341812, 0.9765179753303528, 0.9848204255104065, 0.8209069967269897, 0.9104859232902527]\n",
      "49 [0.07011471688747406, 0.9797832369804382, 0.9829973578453064, 0.8502758145332336, 0.9144067764282227]\n",
      "50 [0.07773926854133606, 0.9770042896270752, 0.9819326996803284, 0.8342007398605347, 0.9121951460838318]\n",
      "51 [0.0708058550953865, 0.978671669960022, 0.9833319187164307, 0.8588235378265381, 0.8960720300674438]\n",
      "52 [0.07138154655694962, 0.9731137752532959, 0.9874613881111145, 0.8018433451652527, 0.8900255560874939]\n",
      "53 [0.08558155596256256, 0.9751285314559937, 0.9839478731155396, 0.8449731469154358, 0.8758949637413025]\n",
      "54 [0.07688213884830475, 0.9754064083099365, 0.9828990697860718, 0.8467375040054321, 0.8801261782646179]\n",
      "55 [0.07893358916044235, 0.9741559028625488, 0.9813746213912964, 0.7650189995765686, 0.9410664439201355]\n",
      "56 [0.07825099676847458, 0.9788801074028015, 0.9830412864685059, 0.8652967810630798, 0.8995253443717957]\n",
      "57 [0.07184413820505142, 0.9773516654968262, 0.9854053854942322, 0.8366064429283142, 0.9002535939216614]\n",
      "58 [0.07240155339241028, 0.9781158566474915, 0.9843016862869263, 0.858144998550415, 0.8922204375267029]\n",
      "59 [0.06990085542201996, 0.9788801074028015, 0.9868019223213196, 0.8593155741691589, 0.9047237634658813]\n"
     ]
    }
   ],
   "source": [
    "for i,j in record3.items():\n",
    "    print(i, j[2])"
   ]
  },
  {
   "cell_type": "code",
   "execution_count": 47,
   "metadata": {},
   "outputs": [],
   "source": [
    "model = record3[42][0]"
   ]
  },
  {
   "cell_type": "code",
   "execution_count": 41,
   "metadata": {},
   "outputs": [
    {
     "data": {
      "text/plain": [
       "<keras.engine.sequential.Sequential at 0x20eab74bc70>"
      ]
     },
     "execution_count": 41,
     "metadata": {},
     "output_type": "execute_result"
    }
   ],
   "source": [
    "model"
   ]
  },
  {
   "cell_type": "code",
   "execution_count": 48,
   "metadata": {},
   "outputs": [
    {
     "name": "stdout",
     "output_type": "stream",
     "text": [
      "          Id     Predicted\n",
      "0          0  3.439843e-07\n",
      "1          1  6.308306e-02\n",
      "2          2  6.886108e-03\n",
      "3          3  6.125866e-05\n",
      "4          4  3.270529e-05\n",
      "...      ...           ...\n",
      "30912  30912  3.924706e-05\n",
      "30913  30913  1.913464e-05\n",
      "30914  30914  4.567312e-02\n",
      "30915  30915  7.807380e-05\n",
      "30916  30916  7.442135e-07\n",
      "\n",
      "[30917 rows x 2 columns]\n"
     ]
    },
    {
     "data": {
      "text/plain": [
       "True"
      ]
     },
     "execution_count": 48,
     "metadata": {},
     "output_type": "execute_result"
    }
   ],
   "source": [
    "pred_test_to_csv(model, \"predictions_CNN_prob_42\")"
   ]
  },
  {
   "cell_type": "markdown",
   "metadata": {},
   "source": []
  },
  {
   "cell_type": "code",
   "execution_count": 27,
   "metadata": {},
   "outputs": [
    {
     "data": {
      "text/plain": [
       "[<keras.engine.sequential.Sequential at 0x20dbea78be0>,\n",
       " <keras.callbacks.History at 0x20db8d88250>,\n",
       " [0.07020298391580582,\n",
       "  0.978324294090271,\n",
       "  0.9851251244544983,\n",
       "  0.8885519504547119,\n",
       "  0.8765893578529358]]"
      ]
     },
     "execution_count": 27,
     "metadata": {},
     "output_type": "execute_result"
    }
   ],
   "source": [
    "model_CNN_20"
   ]
  },
  {
   "cell_type": "code",
   "execution_count": null,
   "metadata": {},
   "outputs": [],
   "source": [
    "pred_test_to_csv(model_CNN_20[0], \"predictions_CNN_prob_20\")"
   ]
  },
  {
   "cell_type": "code",
   "execution_count": 23,
   "metadata": {},
   "outputs": [
    {
     "name": "stdout",
     "output_type": "stream",
     "text": [
      "Epoch 1/128\n",
      "1443/1443 [==============================] - 27s 18ms/step - loss: 0.2865 - accuracy: 0.9114 - auc: 0.6964 - recall: 0.0551 - precision: 0.6705 - val_loss: 0.2606 - val_accuracy: 0.9179 - val_auc: 0.7582 - val_recall: 0.1430 - val_precision: 0.7784\n",
      "Epoch 2/128\n",
      "1443/1443 [==============================] - 25s 17ms/step - loss: 0.2508 - accuracy: 0.9214 - auc: 0.7710 - recall: 0.2203 - precision: 0.7259 - val_loss: 0.2435 - val_accuracy: 0.9220 - val_auc: 0.7862 - val_recall: 0.2652 - val_precision: 0.6931\n",
      "Epoch 3/128\n",
      "1443/1443 [==============================] - 29s 20ms/step - loss: 0.2395 - accuracy: 0.9251 - auc: 0.7915 - recall: 0.2665 - precision: 0.7498 - val_loss: 0.2837 - val_accuracy: 0.8982 - val_auc: 0.7946 - val_recall: 0.4214 - val_precision: 0.4410\n",
      "Epoch 4/128\n",
      "1443/1443 [==============================] - 31s 21ms/step - loss: 0.2344 - accuracy: 0.9261 - auc: 0.8055 - recall: 0.2964 - precision: 0.7331 - val_loss: 0.2363 - val_accuracy: 0.9198 - val_auc: 0.8206 - val_recall: 0.4148 - val_precision: 0.5871\n",
      "Epoch 5/128\n",
      "1443/1443 [==============================] - 32s 22ms/step - loss: 0.2300 - accuracy: 0.9277 - auc: 0.8157 - recall: 0.3183 - precision: 0.7402 - val_loss: 0.2392 - val_accuracy: 0.9232 - val_auc: 0.8149 - val_recall: 0.3958 - val_precision: 0.6267\n",
      "Epoch 6/128\n",
      "1443/1443 [==============================] - 32s 22ms/step - loss: 0.2278 - accuracy: 0.9288 - auc: 0.8195 - recall: 0.3321 - precision: 0.7455 - val_loss: 0.2311 - val_accuracy: 0.9270 - val_auc: 0.8352 - val_recall: 0.3258 - val_precision: 0.7257\n",
      "Epoch 7/128\n",
      "1443/1443 [==============================] - 30s 21ms/step - loss: 0.2242 - accuracy: 0.9295 - auc: 0.8278 - recall: 0.3435 - precision: 0.7456 - val_loss: 0.2291 - val_accuracy: 0.9288 - val_auc: 0.8293 - val_recall: 0.4129 - val_precision: 0.6834\n",
      "Epoch 8/128\n",
      "1443/1443 [==============================] - 31s 21ms/step - loss: 0.2196 - accuracy: 0.9313 - auc: 0.8373 - recall: 0.3489 - precision: 0.7730 - val_loss: 0.2179 - val_accuracy: 0.9301 - val_auc: 0.8460 - val_recall: 0.3381 - val_precision: 0.7677\n",
      "Epoch 9/128\n",
      "1443/1443 [==============================] - 30s 21ms/step - loss: 0.2162 - accuracy: 0.9329 - auc: 0.8422 - recall: 0.3729 - precision: 0.7733 - val_loss: 0.2218 - val_accuracy: 0.9300 - val_auc: 0.8425 - val_recall: 0.3703 - val_precision: 0.7322\n",
      "Epoch 10/128\n",
      "1443/1443 [==============================] - 30s 21ms/step - loss: 0.2142 - accuracy: 0.9329 - auc: 0.8480 - recall: 0.3779 - precision: 0.7670 - val_loss: 0.2153 - val_accuracy: 0.9322 - val_auc: 0.8521 - val_recall: 0.3286 - val_precision: 0.8262\n",
      "Epoch 11/128\n",
      "1443/1443 [==============================] - 30s 21ms/step - loss: 0.2114 - accuracy: 0.9337 - auc: 0.8545 - recall: 0.3758 - precision: 0.7842 - val_loss: 0.2191 - val_accuracy: 0.9299 - val_auc: 0.8497 - val_recall: 0.3741 - val_precision: 0.7274\n",
      "Epoch 12/128\n",
      "1443/1443 [==============================] - 31s 22ms/step - loss: 0.2080 - accuracy: 0.9342 - auc: 0.8606 - recall: 0.3958 - precision: 0.7705 - val_loss: 0.2116 - val_accuracy: 0.9336 - val_auc: 0.8549 - val_recall: 0.3523 - val_precision: 0.8194\n",
      "Epoch 13/128\n",
      "1443/1443 [==============================] - 30s 21ms/step - loss: 0.2073 - accuracy: 0.9343 - auc: 0.8650 - recall: 0.4019 - precision: 0.7655 - val_loss: 0.2135 - val_accuracy: 0.9313 - val_auc: 0.8629 - val_recall: 0.4242 - val_precision: 0.7077\n",
      "Epoch 14/128\n",
      "1443/1443 [==============================] - 31s 21ms/step - loss: 0.2046 - accuracy: 0.9349 - auc: 0.8706 - recall: 0.3910 - precision: 0.7878 - val_loss: 0.2107 - val_accuracy: 0.9326 - val_auc: 0.8652 - val_recall: 0.3731 - val_precision: 0.7725\n",
      "Epoch 15/128\n",
      "1443/1443 [==============================] - 34s 23ms/step - loss: 0.2053 - accuracy: 0.9348 - auc: 0.8695 - recall: 0.3953 - precision: 0.7804 - val_loss: 0.2080 - val_accuracy: 0.9337 - val_auc: 0.8654 - val_recall: 0.3816 - val_precision: 0.7825\n",
      "Epoch 16/128\n",
      "1440/1443 [============================>.] - ETA: 0s - loss: 0.2030 - accuracy: 0.9348 - auc: 0.8742 - recall: 0.4045 - precision: 0.7711"
     ]
    },
    {
     "ename": "KeyboardInterrupt",
     "evalue": "",
     "output_type": "error",
     "traceback": [
      "\u001b[1;31m---------------------------------------------------------------------------\u001b[0m",
      "\u001b[1;31mKeyboardInterrupt\u001b[0m                         Traceback (most recent call last)",
      "\u001b[1;32m~\\AppData\\Local\\Temp/ipykernel_21024/3072215185.py\u001b[0m in \u001b[0;36m<module>\u001b[1;34m\u001b[0m\n\u001b[0;32m     17\u001b[0m \u001b[1;33m\u001b[0m\u001b[0m\n\u001b[0;32m     18\u001b[0m \u001b[1;33m\u001b[0m\u001b[0m\n\u001b[1;32m---> 19\u001b[1;33m history = model.fit(\n\u001b[0m\u001b[0;32m     20\u001b[0m     datagen.flow(x_train_r, y_train, batch_size=32,\n\u001b[0;32m     21\u001b[0m     subset='training'),\n",
      "\u001b[1;32m~\\AppData\\Roaming\\Python\\Python38\\site-packages\\keras\\engine\\training.py\u001b[0m in \u001b[0;36mfit\u001b[1;34m(self, x, y, batch_size, epochs, verbose, callbacks, validation_split, validation_data, shuffle, class_weight, sample_weight, initial_epoch, steps_per_epoch, validation_steps, validation_batch_size, validation_freq, max_queue_size, workers, use_multiprocessing)\u001b[0m\n\u001b[0;32m   1213\u001b[0m                 \u001b[0mmodel\u001b[0m\u001b[1;33m=\u001b[0m\u001b[0mself\u001b[0m\u001b[1;33m,\u001b[0m\u001b[1;33m\u001b[0m\u001b[1;33m\u001b[0m\u001b[0m\n\u001b[0;32m   1214\u001b[0m                 steps_per_execution=self._steps_per_execution)\n\u001b[1;32m-> 1215\u001b[1;33m           val_logs = self.evaluate(\n\u001b[0m\u001b[0;32m   1216\u001b[0m               \u001b[0mx\u001b[0m\u001b[1;33m=\u001b[0m\u001b[0mval_x\u001b[0m\u001b[1;33m,\u001b[0m\u001b[1;33m\u001b[0m\u001b[1;33m\u001b[0m\u001b[0m\n\u001b[0;32m   1217\u001b[0m               \u001b[0my\u001b[0m\u001b[1;33m=\u001b[0m\u001b[0mval_y\u001b[0m\u001b[1;33m,\u001b[0m\u001b[1;33m\u001b[0m\u001b[1;33m\u001b[0m\u001b[0m\n",
      "\u001b[1;32m~\\AppData\\Roaming\\Python\\Python38\\site-packages\\keras\\engine\\training.py\u001b[0m in \u001b[0;36mevaluate\u001b[1;34m(self, x, y, batch_size, verbose, sample_weight, steps, callbacks, max_queue_size, workers, use_multiprocessing, return_dict, **kwargs)\u001b[0m\n\u001b[0;32m   1499\u001b[0m             \u001b[1;32mwith\u001b[0m \u001b[0mtf\u001b[0m\u001b[1;33m.\u001b[0m\u001b[0mprofiler\u001b[0m\u001b[1;33m.\u001b[0m\u001b[0mexperimental\u001b[0m\u001b[1;33m.\u001b[0m\u001b[0mTrace\u001b[0m\u001b[1;33m(\u001b[0m\u001b[1;34m'test'\u001b[0m\u001b[1;33m,\u001b[0m \u001b[0mstep_num\u001b[0m\u001b[1;33m=\u001b[0m\u001b[0mstep\u001b[0m\u001b[1;33m,\u001b[0m \u001b[0m_r\u001b[0m\u001b[1;33m=\u001b[0m\u001b[1;36m1\u001b[0m\u001b[1;33m)\u001b[0m\u001b[1;33m:\u001b[0m\u001b[1;33m\u001b[0m\u001b[1;33m\u001b[0m\u001b[0m\n\u001b[0;32m   1500\u001b[0m               \u001b[0mcallbacks\u001b[0m\u001b[1;33m.\u001b[0m\u001b[0mon_test_batch_begin\u001b[0m\u001b[1;33m(\u001b[0m\u001b[0mstep\u001b[0m\u001b[1;33m)\u001b[0m\u001b[1;33m\u001b[0m\u001b[1;33m\u001b[0m\u001b[0m\n\u001b[1;32m-> 1501\u001b[1;33m               \u001b[0mtmp_logs\u001b[0m \u001b[1;33m=\u001b[0m \u001b[0mself\u001b[0m\u001b[1;33m.\u001b[0m\u001b[0mtest_function\u001b[0m\u001b[1;33m(\u001b[0m\u001b[0miterator\u001b[0m\u001b[1;33m)\u001b[0m\u001b[1;33m\u001b[0m\u001b[1;33m\u001b[0m\u001b[0m\n\u001b[0m\u001b[0;32m   1502\u001b[0m               \u001b[1;32mif\u001b[0m \u001b[0mdata_handler\u001b[0m\u001b[1;33m.\u001b[0m\u001b[0mshould_sync\u001b[0m\u001b[1;33m:\u001b[0m\u001b[1;33m\u001b[0m\u001b[1;33m\u001b[0m\u001b[0m\n\u001b[0;32m   1503\u001b[0m                 \u001b[0mcontext\u001b[0m\u001b[1;33m.\u001b[0m\u001b[0masync_wait\u001b[0m\u001b[1;33m(\u001b[0m\u001b[1;33m)\u001b[0m\u001b[1;33m\u001b[0m\u001b[1;33m\u001b[0m\u001b[0m\n",
      "\u001b[1;32m~\\AppData\\Roaming\\Python\\Python38\\site-packages\\tensorflow\\python\\eager\\def_function.py\u001b[0m in \u001b[0;36m__call__\u001b[1;34m(self, *args, **kwds)\u001b[0m\n\u001b[0;32m    883\u001b[0m \u001b[1;33m\u001b[0m\u001b[0m\n\u001b[0;32m    884\u001b[0m       \u001b[1;32mwith\u001b[0m \u001b[0mOptionalXlaContext\u001b[0m\u001b[1;33m(\u001b[0m\u001b[0mself\u001b[0m\u001b[1;33m.\u001b[0m\u001b[0m_jit_compile\u001b[0m\u001b[1;33m)\u001b[0m\u001b[1;33m:\u001b[0m\u001b[1;33m\u001b[0m\u001b[1;33m\u001b[0m\u001b[0m\n\u001b[1;32m--> 885\u001b[1;33m         \u001b[0mresult\u001b[0m \u001b[1;33m=\u001b[0m \u001b[0mself\u001b[0m\u001b[1;33m.\u001b[0m\u001b[0m_call\u001b[0m\u001b[1;33m(\u001b[0m\u001b[1;33m*\u001b[0m\u001b[0margs\u001b[0m\u001b[1;33m,\u001b[0m \u001b[1;33m**\u001b[0m\u001b[0mkwds\u001b[0m\u001b[1;33m)\u001b[0m\u001b[1;33m\u001b[0m\u001b[1;33m\u001b[0m\u001b[0m\n\u001b[0m\u001b[0;32m    886\u001b[0m \u001b[1;33m\u001b[0m\u001b[0m\n\u001b[0;32m    887\u001b[0m       \u001b[0mnew_tracing_count\u001b[0m \u001b[1;33m=\u001b[0m \u001b[0mself\u001b[0m\u001b[1;33m.\u001b[0m\u001b[0mexperimental_get_tracing_count\u001b[0m\u001b[1;33m(\u001b[0m\u001b[1;33m)\u001b[0m\u001b[1;33m\u001b[0m\u001b[1;33m\u001b[0m\u001b[0m\n",
      "\u001b[1;32m~\\AppData\\Roaming\\Python\\Python38\\site-packages\\tensorflow\\python\\eager\\def_function.py\u001b[0m in \u001b[0;36m_call\u001b[1;34m(self, *args, **kwds)\u001b[0m\n\u001b[0;32m    922\u001b[0m       \u001b[1;31m# In this case we have not created variables on the first call. So we can\u001b[0m\u001b[1;33m\u001b[0m\u001b[1;33m\u001b[0m\u001b[1;33m\u001b[0m\u001b[0m\n\u001b[0;32m    923\u001b[0m       \u001b[1;31m# run the first trace but we should fail if variables are created.\u001b[0m\u001b[1;33m\u001b[0m\u001b[1;33m\u001b[0m\u001b[1;33m\u001b[0m\u001b[0m\n\u001b[1;32m--> 924\u001b[1;33m       \u001b[0mresults\u001b[0m \u001b[1;33m=\u001b[0m \u001b[0mself\u001b[0m\u001b[1;33m.\u001b[0m\u001b[0m_stateful_fn\u001b[0m\u001b[1;33m(\u001b[0m\u001b[1;33m*\u001b[0m\u001b[0margs\u001b[0m\u001b[1;33m,\u001b[0m \u001b[1;33m**\u001b[0m\u001b[0mkwds\u001b[0m\u001b[1;33m)\u001b[0m\u001b[1;33m\u001b[0m\u001b[1;33m\u001b[0m\u001b[0m\n\u001b[0m\u001b[0;32m    925\u001b[0m       \u001b[1;32mif\u001b[0m \u001b[0mself\u001b[0m\u001b[1;33m.\u001b[0m\u001b[0m_created_variables\u001b[0m \u001b[1;32mand\u001b[0m \u001b[1;32mnot\u001b[0m \u001b[0mALLOW_DYNAMIC_VARIABLE_CREATION\u001b[0m\u001b[1;33m:\u001b[0m\u001b[1;33m\u001b[0m\u001b[1;33m\u001b[0m\u001b[0m\n\u001b[0;32m    926\u001b[0m         raise ValueError(\"Creating variables on a non-first call to a function\"\n",
      "\u001b[1;32m~\\AppData\\Roaming\\Python\\Python38\\site-packages\\tensorflow\\python\\eager\\function.py\u001b[0m in \u001b[0;36m__call__\u001b[1;34m(self, *args, **kwargs)\u001b[0m\n\u001b[0;32m   3037\u001b[0m       (graph_function,\n\u001b[0;32m   3038\u001b[0m        filtered_flat_args) = self._maybe_define_function(args, kwargs)\n\u001b[1;32m-> 3039\u001b[1;33m     return graph_function._call_flat(\n\u001b[0m\u001b[0;32m   3040\u001b[0m         filtered_flat_args, captured_inputs=graph_function.captured_inputs)  # pylint: disable=protected-access\n\u001b[0;32m   3041\u001b[0m \u001b[1;33m\u001b[0m\u001b[0m\n",
      "\u001b[1;32m~\\AppData\\Roaming\\Python\\Python38\\site-packages\\tensorflow\\python\\eager\\function.py\u001b[0m in \u001b[0;36m_call_flat\u001b[1;34m(self, args, captured_inputs, cancellation_manager)\u001b[0m\n\u001b[0;32m   1961\u001b[0m         and executing_eagerly):\n\u001b[0;32m   1962\u001b[0m       \u001b[1;31m# No tape is watching; skip to running the function.\u001b[0m\u001b[1;33m\u001b[0m\u001b[1;33m\u001b[0m\u001b[1;33m\u001b[0m\u001b[0m\n\u001b[1;32m-> 1963\u001b[1;33m       return self._build_call_outputs(self._inference_function.call(\n\u001b[0m\u001b[0;32m   1964\u001b[0m           ctx, args, cancellation_manager=cancellation_manager))\n\u001b[0;32m   1965\u001b[0m     forward_backward = self._select_forward_and_backward_functions(\n",
      "\u001b[1;32m~\\AppData\\Roaming\\Python\\Python38\\site-packages\\tensorflow\\python\\eager\\function.py\u001b[0m in \u001b[0;36mcall\u001b[1;34m(self, ctx, args, cancellation_manager)\u001b[0m\n\u001b[0;32m    589\u001b[0m       \u001b[1;32mwith\u001b[0m \u001b[0m_InterpolateFunctionError\u001b[0m\u001b[1;33m(\u001b[0m\u001b[0mself\u001b[0m\u001b[1;33m)\u001b[0m\u001b[1;33m:\u001b[0m\u001b[1;33m\u001b[0m\u001b[1;33m\u001b[0m\u001b[0m\n\u001b[0;32m    590\u001b[0m         \u001b[1;32mif\u001b[0m \u001b[0mcancellation_manager\u001b[0m \u001b[1;32mis\u001b[0m \u001b[1;32mNone\u001b[0m\u001b[1;33m:\u001b[0m\u001b[1;33m\u001b[0m\u001b[1;33m\u001b[0m\u001b[0m\n\u001b[1;32m--> 591\u001b[1;33m           outputs = execute.execute(\n\u001b[0m\u001b[0;32m    592\u001b[0m               \u001b[0mstr\u001b[0m\u001b[1;33m(\u001b[0m\u001b[0mself\u001b[0m\u001b[1;33m.\u001b[0m\u001b[0msignature\u001b[0m\u001b[1;33m.\u001b[0m\u001b[0mname\u001b[0m\u001b[1;33m)\u001b[0m\u001b[1;33m,\u001b[0m\u001b[1;33m\u001b[0m\u001b[1;33m\u001b[0m\u001b[0m\n\u001b[0;32m    593\u001b[0m               \u001b[0mnum_outputs\u001b[0m\u001b[1;33m=\u001b[0m\u001b[0mself\u001b[0m\u001b[1;33m.\u001b[0m\u001b[0m_num_outputs\u001b[0m\u001b[1;33m,\u001b[0m\u001b[1;33m\u001b[0m\u001b[1;33m\u001b[0m\u001b[0m\n",
      "\u001b[1;32m~\\AppData\\Roaming\\Python\\Python38\\site-packages\\tensorflow\\python\\eager\\execute.py\u001b[0m in \u001b[0;36mquick_execute\u001b[1;34m(op_name, num_outputs, inputs, attrs, ctx, name)\u001b[0m\n\u001b[0;32m     57\u001b[0m   \u001b[1;32mtry\u001b[0m\u001b[1;33m:\u001b[0m\u001b[1;33m\u001b[0m\u001b[1;33m\u001b[0m\u001b[0m\n\u001b[0;32m     58\u001b[0m     \u001b[0mctx\u001b[0m\u001b[1;33m.\u001b[0m\u001b[0mensure_initialized\u001b[0m\u001b[1;33m(\u001b[0m\u001b[1;33m)\u001b[0m\u001b[1;33m\u001b[0m\u001b[1;33m\u001b[0m\u001b[0m\n\u001b[1;32m---> 59\u001b[1;33m     tensors = pywrap_tfe.TFE_Py_Execute(ctx._handle, device_name, op_name,\n\u001b[0m\u001b[0;32m     60\u001b[0m                                         inputs, attrs, num_outputs)\n\u001b[0;32m     61\u001b[0m   \u001b[1;32mexcept\u001b[0m \u001b[0mcore\u001b[0m\u001b[1;33m.\u001b[0m\u001b[0m_NotOkStatusException\u001b[0m \u001b[1;32mas\u001b[0m \u001b[0me\u001b[0m\u001b[1;33m:\u001b[0m\u001b[1;33m\u001b[0m\u001b[1;33m\u001b[0m\u001b[0m\n",
      "\u001b[1;31mKeyboardInterrupt\u001b[0m: "
     ]
    }
   ],
   "source": [
    "## With Data Augmentation\n",
    "\n",
    "datagen = ImageDataGenerator(\n",
    "    featurewise_center=True,\n",
    "    featurewise_std_normalization=True,\n",
    "    rotation_range=10,\n",
    "    width_shift_range=0.2,\n",
    "    height_shift_range=0.2,\n",
    "    horizontal_flip=False,\n",
    "    validation_split=0.2)\n",
    "\n",
    "\n",
    "x_train_r = layers.Reshape(target_shape=(20, 20, 1), input_shape=(400,))(x_train)\n",
    "x_train_r.shape\n",
    "\n",
    "datagen.fit(x_train_r)\n",
    "\n",
    "\n",
    "history = model.fit(\n",
    "    datagen.flow(x_train_r, y_train, batch_size=32,\n",
    "    subset='training'),\n",
    "    validation_data=datagen.flow(x_train_r, y_train,\n",
    "    batch_size=8, subset='validation'), \n",
    "    epochs= 128, \n",
    "    batch_size = 64, \n",
    "    callbacks=callbacks\n",
    ")"
   ]
  },
  {
   "cell_type": "markdown",
   "metadata": {},
   "source": [
    "## Splitting Training and Testing Data"
   ]
  },
  {
   "cell_type": "code",
   "execution_count": 49,
   "metadata": {},
   "outputs": [],
   "source": [
    "X = ds.drop('label', axis=1)\n",
    "y = ds.label.values\n",
    "\n",
    "x_train, x_test, y_train, y_test = train_test_split(X, y, test_size=0.20, random_state=0, stratify=y)\n",
    "x_train = x_train/255\n",
    "x_test = x_test/255\n"
   ]
  },
  {
   "cell_type": "markdown",
   "metadata": {},
   "source": [
    "## XGBoost (Base)"
   ]
  },
  {
   "cell_type": "code",
   "execution_count": 50,
   "metadata": {},
   "outputs": [
    {
     "data": {
      "text/plain": [
       "XGBClassifier(base_score=0.5, booster='gbtree', colsample_bylevel=1,\n",
       "              colsample_bynode=1, colsample_bytree=1, eval_metric='logloss',\n",
       "              gamma=0, gpu_id=-1, importance_type='gain',\n",
       "              interaction_constraints='', learning_rate=0.300000012,\n",
       "              max_delta_step=0, max_depth=6, min_child_weight=1, missing=nan,\n",
       "              monotone_constraints='()', n_estimators=100, n_jobs=12,\n",
       "              num_parallel_tree=1, random_state=0, reg_alpha=0, reg_lambda=1,\n",
       "              scale_pos_weight=1, subsample=1, tree_method='exact',\n",
       "              use_label_encoder=False, validate_parameters=1, verbosity=None)"
      ]
     },
     "execution_count": 50,
     "metadata": {},
     "output_type": "execute_result"
    }
   ],
   "source": [
    "xgb = xgboost.XGBClassifier(use_label_encoder=False, eval_metric='logloss')\n",
    "xgb.fit(x_train,y_train)\n"
   ]
  },
  {
   "cell_type": "code",
   "execution_count": 51,
   "metadata": {},
   "outputs": [
    {
     "name": "stdout",
     "output_type": "stream",
     "text": [
      "TRAIN RESULT:\n",
      "================================================\n",
      "ACCURACY SCORE: 99.95%\n",
      "_______________________________________________\n",
      "CLASSIFICATION REPORT:\n",
      "                      0            1  accuracy     macro avg  weighted avg\n",
      "precision      0.999676     0.998091  0.999532      0.998884      0.999532\n",
      "recall         0.999809     0.996759  0.999532      0.998284      0.999532\n",
      "f1-score       0.999743     0.997425  0.999532      0.998584      0.999532\n",
      "support    52465.000000  5246.000000  0.999532  57711.000000  57711.000000\n",
      "_______________________________________________\n",
      "CONFUSION MATRIX: \n",
      " [[52455    10]\n",
      " [   17  5229]]\n",
      "\n",
      "_______________________________________________\n",
      "AUC Score: \n",
      " 0.9999868619636735\n",
      "\n"
     ]
    }
   ],
   "source": [
    "print_train_score(xgb, x_train,y_train)\n"
   ]
  },
  {
   "cell_type": "code",
   "execution_count": 52,
   "metadata": {},
   "outputs": [
    {
     "name": "stdout",
     "output_type": "stream",
     "text": [
      "TEST RESULT:\n",
      "================================================\n",
      "ACCURACY SCORE: 97.14%\n",
      "_______________________________________________\n",
      "CLASSIFICATION REPORT:\n",
      "                      0            1  accuracy     macro avg  weighted avg\n",
      "precision      0.974667     0.930210  0.971444      0.952439      0.970625\n",
      "recall         0.994434     0.741616  0.971444      0.868025      0.971444\n",
      "f1-score       0.984452     0.825276  0.971444      0.904864      0.969977\n",
      "support    13116.000000  1312.000000  0.971444  14428.000000  14428.000000\n",
      "_______________________________________________\n",
      "CONFUSION MATRIX: \n",
      " [[13043    73]\n",
      " [  339   973]]\n",
      "\n",
      "_______________________________________________\n",
      "AUC Score: \n",
      " 0.9858884942706356\n",
      "\n"
     ]
    }
   ],
   "source": [
    "print_test_score(xgb, x_test,y_test)\n"
   ]
  },
  {
   "cell_type": "code",
   "execution_count": 53,
   "metadata": {},
   "outputs": [],
   "source": [
    "test_ds = pd.read_csv(\"test.csv\")\n",
    "Id = test_ds['Id'][:]\n",
    "test_ds = test_ds.drop(\"Id\", axis=1)\n",
    "test_ds = test_ds/255\n",
    "\n",
    "y_pred_proba = xgb.predict_proba(test_ds)"
   ]
  },
  {
   "cell_type": "code",
   "execution_count": 55,
   "metadata": {},
   "outputs": [
    {
     "name": "stdout",
     "output_type": "stream",
     "text": [
      "          Id     Predicted\n",
      "0          0  2.899778e-06\n",
      "1          1  2.501287e-11\n",
      "2          2  5.768883e-17\n",
      "3          3  3.866564e-25\n",
      "4          4  7.860897e-16\n",
      "...      ...           ...\n",
      "30912  30912  5.064118e-09\n",
      "30913  30913  3.525026e-05\n",
      "30914  30914  3.110209e-02\n",
      "30915  30915  1.194052e-16\n",
      "30916  30916  1.857667e-12\n",
      "\n",
      "[30917 rows x 2 columns]\n"
     ]
    }
   ],
   "source": [
    "pred_df = pd.DataFrame({'Id':Id.values, 'Predicted':pred.flatten()}, columns=['Id', 'Predicted'])\n",
    "print(pred_df)\n",
    "pred_df.to_csv('predictions_xgb.csv', index=False)"
   ]
  },
  {
   "cell_type": "markdown",
   "metadata": {},
   "source": [
    "## XGBoost (Feature Selection)"
   ]
  },
  {
   "cell_type": "code",
   "execution_count": 70,
   "metadata": {},
   "outputs": [
    {
     "name": "stdout",
     "output_type": "stream",
     "text": [
      "Thresh=0.000, n=400, Accuracy: 97.519%, F1-score: 0.848, ROC_AUC: 0.988\n",
      "Thresh=0.000, n=399, Accuracy: 97.449%, F1-score: 0.843, ROC_AUC: 0.989\n",
      "Thresh=0.000, n=398, Accuracy: 97.449%, F1-score: 0.843, ROC_AUC: 0.988\n",
      "Thresh=0.000, n=397, Accuracy: 97.415%, F1-score: 0.840, ROC_AUC: 0.987\n",
      "Thresh=0.001, n=396, Accuracy: 97.540%, F1-score: 0.848, ROC_AUC: 0.988\n",
      "Thresh=0.001, n=395, Accuracy: 97.408%, F1-score: 0.840, ROC_AUC: 0.987\n",
      "Thresh=0.001, n=394, Accuracy: 97.463%, F1-score: 0.844, ROC_AUC: 0.988\n",
      "Thresh=0.001, n=393, Accuracy: 97.533%, F1-score: 0.848, ROC_AUC: 0.988\n",
      "Thresh=0.001, n=392, Accuracy: 97.491%, F1-score: 0.845, ROC_AUC: 0.988\n",
      "Thresh=0.001, n=391, Accuracy: 97.526%, F1-score: 0.847, ROC_AUC: 0.990\n",
      "Thresh=0.001, n=390, Accuracy: 97.456%, F1-score: 0.844, ROC_AUC: 0.989\n",
      "Thresh=0.001, n=389, Accuracy: 97.422%, F1-score: 0.841, ROC_AUC: 0.988\n",
      "Thresh=0.001, n=388, Accuracy: 97.436%, F1-score: 0.841, ROC_AUC: 0.988\n",
      "Thresh=0.001, n=387, Accuracy: 97.491%, F1-score: 0.845, ROC_AUC: 0.988\n",
      "Thresh=0.001, n=386, Accuracy: 97.540%, F1-score: 0.850, ROC_AUC: 0.988\n",
      "Thresh=0.001, n=385, Accuracy: 97.408%, F1-score: 0.840, ROC_AUC: 0.988\n",
      "Thresh=0.001, n=384, Accuracy: 97.373%, F1-score: 0.838, ROC_AUC: 0.988\n",
      "Thresh=0.001, n=383, Accuracy: 97.318%, F1-score: 0.834, ROC_AUC: 0.987\n",
      "Thresh=0.001, n=382, Accuracy: 97.491%, F1-score: 0.845, ROC_AUC: 0.987\n",
      "Thresh=0.001, n=381, Accuracy: 97.352%, F1-score: 0.836, ROC_AUC: 0.988\n",
      "Thresh=0.001, n=380, Accuracy: 97.366%, F1-score: 0.837, ROC_AUC: 0.988\n",
      "Thresh=0.001, n=379, Accuracy: 97.373%, F1-score: 0.838, ROC_AUC: 0.987\n",
      "Thresh=0.001, n=378, Accuracy: 97.345%, F1-score: 0.836, ROC_AUC: 0.986\n",
      "Thresh=0.001, n=377, Accuracy: 97.408%, F1-score: 0.840, ROC_AUC: 0.987\n",
      "Thresh=0.001, n=376, Accuracy: 97.387%, F1-score: 0.838, ROC_AUC: 0.988\n",
      "Thresh=0.001, n=375, Accuracy: 97.332%, F1-score: 0.834, ROC_AUC: 0.988\n",
      "Thresh=0.001, n=374, Accuracy: 97.401%, F1-score: 0.839, ROC_AUC: 0.988\n",
      "Thresh=0.001, n=373, Accuracy: 97.422%, F1-score: 0.840, ROC_AUC: 0.988\n",
      "Thresh=0.001, n=372, Accuracy: 97.477%, F1-score: 0.845, ROC_AUC: 0.989\n",
      "Thresh=0.001, n=371, Accuracy: 97.304%, F1-score: 0.833, ROC_AUC: 0.988\n",
      "Thresh=0.001, n=370, Accuracy: 97.512%, F1-score: 0.847, ROC_AUC: 0.987\n",
      "Thresh=0.001, n=369, Accuracy: 97.463%, F1-score: 0.844, ROC_AUC: 0.988\n",
      "Thresh=0.001, n=368, Accuracy: 97.470%, F1-score: 0.844, ROC_AUC: 0.986\n",
      "Thresh=0.001, n=367, Accuracy: 97.345%, F1-score: 0.836, ROC_AUC: 0.988\n",
      "Thresh=0.001, n=366, Accuracy: 97.394%, F1-score: 0.840, ROC_AUC: 0.988\n",
      "Thresh=0.001, n=365, Accuracy: 97.394%, F1-score: 0.839, ROC_AUC: 0.988\n",
      "Thresh=0.001, n=364, Accuracy: 97.373%, F1-score: 0.838, ROC_AUC: 0.988\n",
      "Thresh=0.001, n=363, Accuracy: 97.366%, F1-score: 0.837, ROC_AUC: 0.987\n",
      "Thresh=0.001, n=362, Accuracy: 97.429%, F1-score: 0.842, ROC_AUC: 0.988\n",
      "Thresh=0.001, n=361, Accuracy: 97.422%, F1-score: 0.840, ROC_AUC: 0.989\n",
      "Thresh=0.001, n=360, Accuracy: 97.311%, F1-score: 0.833, ROC_AUC: 0.988\n",
      "Thresh=0.001, n=359, Accuracy: 97.429%, F1-score: 0.841, ROC_AUC: 0.987\n",
      "Thresh=0.001, n=358, Accuracy: 97.449%, F1-score: 0.842, ROC_AUC: 0.987\n",
      "Thresh=0.001, n=357, Accuracy: 97.290%, F1-score: 0.833, ROC_AUC: 0.987\n",
      "Thresh=0.001, n=356, Accuracy: 97.325%, F1-score: 0.833, ROC_AUC: 0.988\n",
      "Thresh=0.001, n=355, Accuracy: 97.415%, F1-score: 0.841, ROC_AUC: 0.989\n",
      "Thresh=0.001, n=354, Accuracy: 97.366%, F1-score: 0.838, ROC_AUC: 0.988\n",
      "Thresh=0.001, n=353, Accuracy: 97.380%, F1-score: 0.838, ROC_AUC: 0.988\n",
      "Thresh=0.001, n=352, Accuracy: 97.442%, F1-score: 0.842, ROC_AUC: 0.988\n",
      "Thresh=0.001, n=351, Accuracy: 97.526%, F1-score: 0.848, ROC_AUC: 0.986\n"
     ]
    }
   ],
   "source": [
    "thresholds = sort(xgb.feature_importances_)\n",
    "store = {}\n",
    "\n",
    "for thresh in thresholds[:50]:\n",
    "    selection = SelectFromModel(xgb, threshold=thresh, prefit=True)\n",
    "    select_x_train = selection.transform(x_train)\n",
    "    selection_model = xgboost.XGBClassifier(use_label_encoder=False, eval_metric='logloss')\n",
    "    selection_model.fit(select_x_train, y_train)\n",
    "    select_x_test = selection.transform(x_test)\n",
    "    predictions = selection_model.predict(select_x_test)\n",
    "    accuracy = accuracy_score(y_test, predictions)\n",
    "    f1 = f1_score(y_test,predictions)\n",
    "    n = select_x_train.shape[1]\n",
    "    roc_auc = roc_auc_score(y_test, selection_model.predict_proba(select_x_test)[:, 1])\n",
    "    store[n] = {\"Threshold\": thresh, \"Accuracy\": accuracy, \"F1-Score\": f1, \"ROC_AUC\": roc_auc, \"Model\": selection_model, \"Selection\": selection}\n",
    "    print(\"Thresh=%.3f, n=%d, Accuracy: %.3f%%, F1-score: %.3f, ROC_AUC: %.3f\" % (thresh, n , accuracy*100.0, f1, roc_auc))\n",
    "    \n"
   ]
  },
  {
   "cell_type": "code",
   "execution_count": 76,
   "metadata": {},
   "outputs": [],
   "source": [
    "thresh_re = pd.DataFrame(store).T"
   ]
  },
  {
   "cell_type": "code",
   "execution_count": 133,
   "metadata": {},
   "outputs": [
    {
     "data": {
      "text/html": [
       "<div>\n",
       "<style scoped>\n",
       "    .dataframe tbody tr th:only-of-type {\n",
       "        vertical-align: middle;\n",
       "    }\n",
       "\n",
       "    .dataframe tbody tr th {\n",
       "        vertical-align: top;\n",
       "    }\n",
       "\n",
       "    .dataframe thead th {\n",
       "        text-align: right;\n",
       "    }\n",
       "</style>\n",
       "<table border=\"1\" class=\"dataframe\">\n",
       "  <thead>\n",
       "    <tr style=\"text-align: right;\">\n",
       "      <th></th>\n",
       "      <th>Threshold</th>\n",
       "      <th>Accuracy</th>\n",
       "      <th>F1-Score</th>\n",
       "      <th>ROC_AUC</th>\n",
       "      <th>Model</th>\n",
       "      <th>Selection</th>\n",
       "      <th>Accuracy\\t</th>\n",
       "    </tr>\n",
       "  </thead>\n",
       "  <tbody>\n",
       "    <tr>\n",
       "      <th>400</th>\n",
       "      <td>0.000397</td>\n",
       "      <td>0.975187</td>\n",
       "      <td>0.847530</td>\n",
       "      <td>0.988013</td>\n",
       "      <td>XGBClassifier(base_score=0.5, booster='gbtree'...</td>\n",
       "      <td>SelectFromModel(estimator=XGBClassifier(base_s...</td>\n",
       "      <td>0.975187</td>\n",
       "    </tr>\n",
       "    <tr>\n",
       "      <th>399</th>\n",
       "      <td>0.000409</td>\n",
       "      <td>0.974494</td>\n",
       "      <td>0.842601</td>\n",
       "      <td>0.988947</td>\n",
       "      <td>XGBClassifier(base_score=0.5, booster='gbtree'...</td>\n",
       "      <td>SelectFromModel(estimator=XGBClassifier(base_s...</td>\n",
       "      <td>0.974494</td>\n",
       "    </tr>\n",
       "    <tr>\n",
       "      <th>398</th>\n",
       "      <td>0.000420</td>\n",
       "      <td>0.974494</td>\n",
       "      <td>0.843137</td>\n",
       "      <td>0.988064</td>\n",
       "      <td>XGBClassifier(base_score=0.5, booster='gbtree'...</td>\n",
       "      <td>SelectFromModel(estimator=XGBClassifier(base_s...</td>\n",
       "      <td>0.974494</td>\n",
       "    </tr>\n",
       "    <tr>\n",
       "      <th>397</th>\n",
       "      <td>0.000437</td>\n",
       "      <td>0.974147</td>\n",
       "      <td>0.840394</td>\n",
       "      <td>0.987188</td>\n",
       "      <td>XGBClassifier(base_score=0.5, booster='gbtree'...</td>\n",
       "      <td>SelectFromModel(estimator=XGBClassifier(base_s...</td>\n",
       "      <td>0.974147</td>\n",
       "    </tr>\n",
       "    <tr>\n",
       "      <th>396</th>\n",
       "      <td>0.000511</td>\n",
       "      <td>0.975395</td>\n",
       "      <td>0.848485</td>\n",
       "      <td>0.988470</td>\n",
       "      <td>XGBClassifier(base_score=0.5, booster='gbtree'...</td>\n",
       "      <td>SelectFromModel(estimator=XGBClassifier(base_s...</td>\n",
       "      <td>0.975395</td>\n",
       "    </tr>\n",
       "  </tbody>\n",
       "</table>\n",
       "</div>"
      ],
      "text/plain": [
       "     Threshold  Accuracy  F1-Score   ROC_AUC  \\\n",
       "400   0.000397  0.975187  0.847530  0.988013   \n",
       "399   0.000409  0.974494  0.842601  0.988947   \n",
       "398   0.000420  0.974494  0.843137  0.988064   \n",
       "397   0.000437  0.974147  0.840394  0.987188   \n",
       "396   0.000511  0.975395  0.848485  0.988470   \n",
       "\n",
       "                                                 Model  \\\n",
       "400  XGBClassifier(base_score=0.5, booster='gbtree'...   \n",
       "399  XGBClassifier(base_score=0.5, booster='gbtree'...   \n",
       "398  XGBClassifier(base_score=0.5, booster='gbtree'...   \n",
       "397  XGBClassifier(base_score=0.5, booster='gbtree'...   \n",
       "396  XGBClassifier(base_score=0.5, booster='gbtree'...   \n",
       "\n",
       "                                             Selection  Accuracy\\t  \n",
       "400  SelectFromModel(estimator=XGBClassifier(base_s...    0.975187  \n",
       "399  SelectFromModel(estimator=XGBClassifier(base_s...    0.974494  \n",
       "398  SelectFromModel(estimator=XGBClassifier(base_s...    0.974494  \n",
       "397  SelectFromModel(estimator=XGBClassifier(base_s...    0.974147  \n",
       "396  SelectFromModel(estimator=XGBClassifier(base_s...    0.975395  "
      ]
     },
     "execution_count": 133,
     "metadata": {},
     "output_type": "execute_result"
    }
   ],
   "source": [
    "thresh_re.head()"
   ]
  },
  {
   "cell_type": "code",
   "execution_count": 123,
   "metadata": {},
   "outputs": [],
   "source": [
    "thresh_re['ROC_AUC'] =pd.to_numeric(thresh_re['ROC_AUC'])\n",
    "thresh_re['Threshold'] =pd.to_numeric(thresh_re['Threshold'])\n",
    "thresh_re['Accuracy'] =pd.to_numeric(thresh_re['Accuracy'])\n",
    "thresh_re['F1-Score'] =pd.to_numeric(thresh_re['F1-Score'])"
   ]
  },
  {
   "cell_type": "code",
   "execution_count": 124,
   "metadata": {},
   "outputs": [
    {
     "data": {
      "text/plain": [
       "Threshold                                              0.000511\n",
       "Accuracy                                               0.975395\n",
       "F1-Score                                               0.848485\n",
       "ROC_AUC                                                 0.98847\n",
       "Model         XGBClassifier(base_score=0.5, booster='gbtree'...\n",
       "Selection     SelectFromModel(estimator=XGBClassifier(base_s...\n",
       "Accuracy\\t                                             0.975395\n",
       "Name: 396, dtype: object"
      ]
     },
     "execution_count": 124,
     "metadata": {},
     "output_type": "execute_result"
    }
   ],
   "source": [
    "best_thresh = thresh_re.loc[thresh_re['Accuracy'].idxmax()]\n",
    "best_thresh"
   ]
  },
  {
   "cell_type": "code",
   "execution_count": 88,
   "metadata": {},
   "outputs": [],
   "source": [
    "best_select = store[391][\"Selection\"]\n",
    "best_model = store[391][\"Model\"]\n"
   ]
  },
  {
   "cell_type": "markdown",
   "metadata": {},
   "source": [
    "## Logistics Regression"
   ]
  },
  {
   "cell_type": "code",
   "execution_count": 339,
   "metadata": {},
   "outputs": [
    {
     "data": {
      "text/plain": [
       "LogisticRegression(max_iter=10000)"
      ]
     },
     "execution_count": 339,
     "metadata": {},
     "output_type": "execute_result"
    }
   ],
   "source": [
    "logRegModel = LogisticRegression(max_iter=10000)\n",
    "logRegModel = LogisticRegression(max_iter=10000)\n",
    "logRegModel.fit(x_train, y_train)"
   ]
  },
  {
   "cell_type": "code",
   "execution_count": 340,
   "metadata": {},
   "outputs": [
    {
     "name": "stdout",
     "output_type": "stream",
     "text": [
      "TRAIN RESULT:\n",
      "================================================\n",
      "ACCURACY SCORE: 92.22%\n",
      "_______________________________________________\n",
      "CLASSIFICATION REPORT:\n",
      "                      0            1  accuracy     macro avg  weighted avg\n",
      "precision      0.926878     0.749506  0.922216      0.838192      0.910755\n",
      "recall         0.992757     0.216737  0.922216      0.604747      0.922216\n",
      "f1-score       0.958687     0.336241  0.922216      0.647464      0.902106\n",
      "support    52465.000000  5246.000000  0.922216  57711.000000  57711.000000\n",
      "_______________________________________________\n",
      "CONFUSION MATRIX: \n",
      " [[52085   380]\n",
      " [ 4109  1137]]\n",
      "\n",
      "_______________________________________________\n",
      "AUC Score: \n",
      " 0.8274844486306594\n",
      "\n"
     ]
    }
   ],
   "source": [
    "print_train_score(logRegModel, x_train,y_train)\n"
   ]
  },
  {
   "cell_type": "code",
   "execution_count": 341,
   "metadata": {},
   "outputs": [
    {
     "name": "stdout",
     "output_type": "stream",
     "text": [
      "TEST RESULT:\n",
      "================================================\n",
      "ACCURACY SCORE: 92.22%\n",
      "_______________________________________________\n",
      "CLASSIFICATION REPORT:\n",
      "                      0            1  accuracy     macro avg  weighted avg\n",
      "precision      0.926524     0.756098  0.922165      0.841311      0.911026\n",
      "recall         0.993138     0.212652  0.922165      0.602895      0.922165\n",
      "f1-score       0.958675     0.331945  0.922165      0.645310      0.901684\n",
      "support    13116.000000  1312.000000  0.922165  14428.000000  14428.000000\n",
      "_______________________________________________\n",
      "CONFUSION MATRIX: \n",
      " [[13026    90]\n",
      " [ 1033   279]]\n",
      "\n",
      "_______________________________________________\n",
      "AUC Score: \n",
      " 0.8031492500781023\n",
      "\n"
     ]
    }
   ],
   "source": [
    "print_test_score(logRegModel, x_test ,y_test)\n"
   ]
  },
  {
   "cell_type": "markdown",
   "metadata": {},
   "source": [
    "## Linear SVM"
   ]
  },
  {
   "cell_type": "code",
   "execution_count": 345,
   "metadata": {},
   "outputs": [
    {
     "data": {
      "text/plain": [
       "LinearSVC(loss='hinge', max_iter=1000000)"
      ]
     },
     "execution_count": 345,
     "metadata": {},
     "output_type": "execute_result"
    }
   ],
   "source": [
    "linearSVM = LinearSVC(loss='hinge', dual=True,max_iter=1000000)\n",
    "linearSVM.fit(x_train,y_train)"
   ]
  },
  {
   "cell_type": "code",
   "execution_count": 346,
   "metadata": {},
   "outputs": [
    {
     "name": "stdout",
     "output_type": "stream",
     "text": [
      "TRAIN RESULT:\n",
      "================================================\n",
      "ACCURACY SCORE: 90.91%\n",
      "_______________________________________________\n",
      "CLASSIFICATION REPORT:\n",
      "                      0       1  accuracy     macro avg  weighted avg\n",
      "precision      0.909099     0.0  0.909099      0.454549      0.826461\n",
      "recall         1.000000     0.0  0.909099      0.500000      0.909099\n",
      "f1-score       0.952385     0.0  0.909099      0.476193      0.865812\n",
      "support    52465.000000  5246.0  0.909099  57711.000000  57711.000000\n",
      "_______________________________________________\n",
      "CONFUSION MATRIX: \n",
      " [[52465     0]\n",
      " [ 5246     0]]\n",
      "\n"
     ]
    }
   ],
   "source": [
    "print_train_score(linearSVM, x_train, y_train, auc=False)\n"
   ]
  },
  {
   "cell_type": "code",
   "execution_count": 347,
   "metadata": {},
   "outputs": [
    {
     "name": "stdout",
     "output_type": "stream",
     "text": [
      "TEST RESULT:\n",
      "================================================\n",
      "ACCURACY SCORE: 90.91%\n",
      "_______________________________________________\n",
      "CLASSIFICATION REPORT:\n",
      "                      0       1  accuracy     macro avg  weighted avg\n",
      "precision      0.909066     0.0  0.909066      0.454533      0.826400\n",
      "recall         1.000000     0.0  0.909066      0.500000      0.909066\n",
      "f1-score       0.952367     0.0  0.909066      0.476184      0.865764\n",
      "support    13116.000000  1312.0  0.909066  14428.000000  14428.000000\n",
      "_______________________________________________\n",
      "CONFUSION MATRIX: \n",
      " [[13116     0]\n",
      " [ 1312     0]]\n",
      "\n"
     ]
    }
   ],
   "source": [
    "print_test_score(linearSVM, x_test, y_test, auc=False)\n"
   ]
  },
  {
   "cell_type": "markdown",
   "metadata": {},
   "source": [
    "## Polynomial Kernel SVM¶\n"
   ]
  },
  {
   "cell_type": "code",
   "execution_count": 348,
   "metadata": {},
   "outputs": [
    {
     "data": {
      "text/plain": [
       "SVC(kernel='poly')"
      ]
     },
     "execution_count": 348,
     "metadata": {},
     "output_type": "execute_result"
    }
   ],
   "source": [
    "polynomialSVM = SVC(kernel=\"poly\")\n",
    "polynomialSVM.fit(x_train,y_train)"
   ]
  },
  {
   "cell_type": "code",
   "execution_count": 349,
   "metadata": {},
   "outputs": [
    {
     "name": "stdout",
     "output_type": "stream",
     "text": [
      "TRAIN RESULT:\n",
      "================================================\n",
      "ACCURACY SCORE: 98.91%\n",
      "_______________________________________________\n",
      "CLASSIFICATION REPORT:\n",
      "                      0           1  accuracy     macro avg  weighted avg\n",
      "precision      0.989074     0.98961  0.989118      0.989342      0.989123\n",
      "recall         0.999066     0.88963  0.989118      0.944348      0.989118\n",
      "f1-score       0.994045     0.93696  0.989118      0.965503      0.988856\n",
      "support    52465.000000  5246.00000  0.989118  57711.000000  57711.000000\n",
      "_______________________________________________\n",
      "CONFUSION MATRIX: \n",
      " [[52416    49]\n",
      " [  579  4667]]\n",
      "\n"
     ]
    }
   ],
   "source": [
    "print_train_score(polynomialSVM, x_train, y_train, auc=False)\n"
   ]
  },
  {
   "cell_type": "code",
   "execution_count": 350,
   "metadata": {},
   "outputs": [
    {
     "name": "stdout",
     "output_type": "stream",
     "text": [
      "TEST RESULT:\n",
      "================================================\n",
      "ACCURACY SCORE: 97.32%\n",
      "_______________________________________________\n",
      "CLASSIFICATION REPORT:\n",
      "                      0            1  accuracy     macro avg  weighted avg\n",
      "precision      0.976066     0.937618  0.973246      0.956842      0.972570\n",
      "recall         0.994968     0.756098  0.973246      0.875533      0.973246\n",
      "f1-score       0.985426     0.837131  0.973246      0.911279      0.971941\n",
      "support    13116.000000  1312.000000  0.973246  14428.000000  14428.000000\n",
      "_______________________________________________\n",
      "CONFUSION MATRIX: \n",
      " [[13050    66]\n",
      " [  320   992]]\n",
      "\n"
     ]
    }
   ],
   "source": [
    "print_test_score(polynomialSVM, x_test, y_test, auc=False)                           \n"
   ]
  },
  {
   "cell_type": "markdown",
   "metadata": {},
   "source": [
    "## Radial Kernel SVM\n"
   ]
  },
  {
   "cell_type": "code",
   "execution_count": 351,
   "metadata": {},
   "outputs": [
    {
     "data": {
      "text/plain": [
       "SVC()"
      ]
     },
     "execution_count": 351,
     "metadata": {},
     "output_type": "execute_result"
    }
   ],
   "source": [
    "\n",
    "rbfSVM = SVC(kernel=\"rbf\")\n",
    "rbfSVM.fit(x_train,y_train)"
   ]
  },
  {
   "cell_type": "code",
   "execution_count": 352,
   "metadata": {},
   "outputs": [
    {
     "name": "stdout",
     "output_type": "stream",
     "text": [
      "TRAIN RESULT:\n",
      "================================================\n",
      "ACCURACY SCORE: 98.06%\n",
      "_______________________________________________\n",
      "CLASSIFICATION REPORT:\n",
      "                      0            1  accuracy     macro avg  weighted avg\n",
      "precision      0.980985     0.976460  0.980645      0.978722      0.980573\n",
      "recall         0.998056     0.806519  0.980645      0.902288      0.980645\n",
      "f1-score       0.989447     0.883391  0.980645      0.936419      0.979806\n",
      "support    52465.000000  5246.000000  0.980645  57711.000000  57711.000000\n",
      "_______________________________________________\n",
      "CONFUSION MATRIX: \n",
      " [[52363   102]\n",
      " [ 1015  4231]]\n",
      "\n"
     ]
    }
   ],
   "source": [
    "print_train_score(rbfSVM, x_train, y_train, auc=False)\n"
   ]
  },
  {
   "cell_type": "code",
   "execution_count": 353,
   "metadata": {},
   "outputs": [
    {
     "name": "stdout",
     "output_type": "stream",
     "text": [
      "TEST RESULT:\n",
      "================================================\n",
      "ACCURACY SCORE: 96.92%\n",
      "_______________________________________________\n",
      "CLASSIFICATION REPORT:\n",
      "                      0            1  accuracy     macro avg  weighted avg\n",
      "precision      0.971918     0.932203  0.969157      0.952061      0.968307\n",
      "recall         0.994815     0.712652  0.969157      0.853734      0.969157\n",
      "f1-score       0.983233     0.807775  0.969157      0.895504      0.967278\n",
      "support    13116.000000  1312.000000  0.969157  14428.000000  14428.000000\n",
      "_______________________________________________\n",
      "CONFUSION MATRIX: \n",
      " [[13048    68]\n",
      " [  377   935]]\n",
      "\n"
     ]
    }
   ],
   "source": [
    "print_test_score(rbfSVM, x_test, y_test, auc=False)\n"
   ]
  },
  {
   "cell_type": "markdown",
   "metadata": {},
   "source": [
    "## Adaboost"
   ]
  },
  {
   "cell_type": "code",
   "execution_count": 354,
   "metadata": {},
   "outputs": [],
   "source": [
    "from sklearn.ensemble import AdaBoostClassifier"
   ]
  },
  {
   "cell_type": "code",
   "execution_count": 355,
   "metadata": {},
   "outputs": [
    {
     "data": {
      "text/plain": [
       "AdaBoostClassifier(n_estimators=100, random_state=0)"
      ]
     },
     "execution_count": 355,
     "metadata": {},
     "output_type": "execute_result"
    }
   ],
   "source": [
    "ada = AdaBoostClassifier(n_estimators=100,random_state=0)\n",
    "ada.fit(x_train, y_train)"
   ]
  },
  {
   "cell_type": "code",
   "execution_count": 356,
   "metadata": {},
   "outputs": [
    {
     "name": "stdout",
     "output_type": "stream",
     "text": [
      "TRAIN RESULT:\n",
      "================================================\n",
      "ACCURACY SCORE: 92.24%\n",
      "_______________________________________________\n",
      "CLASSIFICATION REPORT:\n",
      "                      0            1  accuracy     macro avg  weighted avg\n",
      "precision      0.926147     0.771631  0.922372      0.848889      0.912101\n",
      "recall         0.993863     0.207396  0.922372      0.600629      0.922372\n",
      "f1-score       0.958811     0.326923  0.922372      0.642867      0.901371\n",
      "support    52465.000000  5246.000000  0.922372  57711.000000  57711.000000\n",
      "_______________________________________________\n",
      "CONFUSION MATRIX: \n",
      " [[52143   322]\n",
      " [ 4158  1088]]\n",
      "\n",
      "_______________________________________________\n",
      "AUC Score: \n",
      " 0.8768183054992383\n",
      "\n"
     ]
    }
   ],
   "source": [
    "print_train_score(ada, x_train,y_train)\n"
   ]
  },
  {
   "cell_type": "code",
   "execution_count": 357,
   "metadata": {},
   "outputs": [
    {
     "name": "stdout",
     "output_type": "stream",
     "text": [
      "TEST RESULT:\n",
      "================================================\n",
      "ACCURACY SCORE: 92.09%\n",
      "_______________________________________________\n",
      "CLASSIFICATION REPORT:\n",
      "                      0            1  accuracy     macro avg  weighted avg\n",
      "precision      0.925702     0.735537  0.920918      0.830620      0.908410\n",
      "recall         0.992681     0.203506  0.920918      0.598093      0.920918\n",
      "f1-score       0.958022     0.318806  0.920918      0.638414      0.899895\n",
      "support    13116.000000  1312.000000  0.920918  14428.000000  14428.000000\n",
      "_______________________________________________\n",
      "CONFUSION MATRIX: \n",
      " [[13020    96]\n",
      " [ 1045   267]]\n",
      "\n",
      "_______________________________________________\n",
      "AUC Score: \n",
      " 0.8529957708514643\n",
      "\n"
     ]
    }
   ],
   "source": [
    "print_test_score(ada, x_test,y_test)\n"
   ]
  },
  {
   "cell_type": "markdown",
   "metadata": {},
   "source": [
    "## Neural Networks"
   ]
  },
  {
   "cell_type": "code",
   "execution_count": 223,
   "metadata": {},
   "outputs": [],
   "source": [
    "nn_model = tf.keras.Sequential([\n",
    "    #layers.InputLayer(input_shape=(None,), dtype=\"float\"),\n",
    "    layers.Dense(256, activation=\"relu\"),\n",
    "    layers.Dropout(0.3),\n",
    "    layers.Dense(256, activation=\"relu\"),\n",
    "    layers.Dropout(0.3),\n",
    "    layers.Dense(128, activation=\"relu\"),\n",
    "    layers.Dropout(0.3),\n",
    "    layers.Dense(128, activation=\"relu\"),\n",
    "    layers.Dropout(0.3),\n",
    "    layers.Dense(64, activation=\"relu\"),\n",
    "    layers.Dropout(0.3),\n",
    "    layers.Dense(1, activation=\"sigmoid\", name=\"predictions\")\n",
    "])"
   ]
  },
  {
   "cell_type": "code",
   "execution_count": 224,
   "metadata": {},
   "outputs": [],
   "source": [
    "nn_model.compile(loss='binary_crossentropy',\n",
    "              optimizer=\"adam\",\n",
    "              metrics=['accuracy', 'AUC'])"
   ]
  },
  {
   "cell_type": "code",
   "execution_count": 215,
   "metadata": {},
   "outputs": [],
   "source": [
    "callbacks = [ ReduceLROnPlateau(monitor='val_loss', patience=5, cooldown=0),\n",
    "              EarlyStopping(monitor='val_accuracy', min_delta=1e-4, patience=5)]"
   ]
  },
  {
   "cell_type": "code",
   "execution_count": 248,
   "metadata": {},
   "outputs": [
    {
     "name": "stdout",
     "output_type": "stream",
     "text": [
      "Epoch 1/128\n",
      "812/812 [==============================] - 7s 8ms/step - loss: 0.1121 - accuracy: 0.9625 - auc: 0.9639 - val_loss: 0.1125 - val_accuracy: 0.9550 - val_auc: 0.9710\n",
      "Epoch 2/128\n",
      "812/812 [==============================] - 9s 12ms/step - loss: 0.1083 - accuracy: 0.9643 - auc: 0.9656 - val_loss: 0.1085 - val_accuracy: 0.9589 - val_auc: 0.9686\n",
      "Epoch 3/128\n",
      "812/812 [==============================] - 10s 12ms/step - loss: 0.1112 - accuracy: 0.9642 - auc: 0.9635 - val_loss: 0.1123 - val_accuracy: 0.9582 - val_auc: 0.9728\n",
      "Epoch 4/128\n",
      "812/812 [==============================] - 9s 11ms/step - loss: 0.1070 - accuracy: 0.9641 - auc: 0.9682 - val_loss: 0.1250 - val_accuracy: 0.9581 - val_auc: 0.9691\n",
      "Epoch 5/128\n",
      "812/812 [==============================] - 9s 11ms/step - loss: 0.1052 - accuracy: 0.9649 - auc: 0.9685 - val_loss: 0.1040 - val_accuracy: 0.9641 - val_auc: 0.9698\n",
      "Epoch 6/128\n",
      "812/812 [==============================] - 11s 14ms/step - loss: 0.1055 - accuracy: 0.9648 - auc: 0.9680 - val_loss: 0.1064 - val_accuracy: 0.9591 - val_auc: 0.9750\n",
      "Epoch 7/128\n",
      "812/812 [==============================] - 13s 16ms/step - loss: 0.1003 - accuracy: 0.9658 - auc: 0.9707 - val_loss: 0.1035 - val_accuracy: 0.9666 - val_auc: 0.9725\n",
      "Epoch 8/128\n",
      "812/812 [==============================] - 12s 15ms/step - loss: 0.1056 - accuracy: 0.9645 - auc: 0.9696 - val_loss: 0.0985 - val_accuracy: 0.9648 - val_auc: 0.9747\n",
      "Epoch 9/128\n",
      "812/812 [==============================] - 9s 11ms/step - loss: 0.1021 - accuracy: 0.9670 - auc: 0.9698 - val_loss: 0.0965 - val_accuracy: 0.9650 - val_auc: 0.9747\n",
      "Epoch 10/128\n",
      "812/812 [==============================] - 12s 14ms/step - loss: 0.0994 - accuracy: 0.9666 - auc: 0.9724 - val_loss: 0.0979 - val_accuracy: 0.9634 - val_auc: 0.9759\n",
      "Epoch 11/128\n",
      "812/812 [==============================] - 15s 18ms/step - loss: 0.0955 - accuracy: 0.9677 - auc: 0.9741 - val_loss: 0.0962 - val_accuracy: 0.9652 - val_auc: 0.9786\n",
      "Epoch 12/128\n",
      "812/812 [==============================] - 12s 15ms/step - loss: 0.0989 - accuracy: 0.9675 - auc: 0.9704 - val_loss: 0.0990 - val_accuracy: 0.9652 - val_auc: 0.9772\n"
     ]
    }
   ],
   "source": [
    "BATCH_SIZE = 64\n",
    "EPOCHS = 128\n",
    "\n",
    "history = nn_model.fit(x_train, y_train,\n",
    "                    batch_size=BATCH_SIZE,\n",
    "                    epochs=EPOCHS,\n",
    "                    validation_split=0.1,\n",
    "                    verbose=1,\n",
    "                    callbacks=callbacks)"
   ]
  },
  {
   "cell_type": "code",
   "execution_count": null,
   "metadata": {},
   "outputs": [
    {
     "name": "stdout",
     "output_type": "stream",
     "text": [
      "226/226 [==============================] - 1s 5ms/step - loss: 0.1100 - accuracy: 0.9582 - auc: 0.9733\n"
     ]
    }
   ],
   "source": [
    "score = nn_model.evaluate(x_test, y_test, batch_size=BATCH_SIZE)\n"
   ]
  },
  {
   "cell_type": "markdown",
   "metadata": {},
   "source": [
    "# Testing on Test Data"
   ]
  },
  {
   "cell_type": "code",
   "execution_count": 131,
   "metadata": {},
   "outputs": [],
   "source": [
    "test_ds = pd.read_csv(\"test.csv\")\n",
    "Id = test_ds['Id'][:]\n",
    "test_ds = test_ds.drop(\"Id\", axis=1)"
   ]
  },
  {
   "cell_type": "markdown",
   "metadata": {},
   "source": [
    "## XGB with 391 Features"
   ]
  },
  {
   "cell_type": "code",
   "execution_count": 244,
   "metadata": {},
   "outputs": [
    {
     "data": {
      "text/plain": [
       "True"
      ]
     },
     "execution_count": 244,
     "metadata": {},
     "output_type": "execute_result"
    }
   ],
   "source": [
    "test_transform = best_select.transform(test_ds)\n",
    "predictions = best_model.predict(test_transform)\n",
    "predict_to_csv(best_model, test_transform,\"predictions_xgb_391\")"
   ]
  },
  {
   "cell_type": "markdown",
   "metadata": {},
   "source": [
    "## XGB with all Features"
   ]
  },
  {
   "cell_type": "code",
   "execution_count": 130,
   "metadata": {},
   "outputs": [
    {
     "data": {
      "text/plain": [
       "True"
      ]
     },
     "execution_count": 130,
     "metadata": {},
     "output_type": "execute_result"
    }
   ],
   "source": [
    "predict_to_csv(xgb,test_ds,\"predictions_xgb\")"
   ]
  },
  {
   "cell_type": "code",
   "execution_count": 245,
   "metadata": {},
   "outputs": [
    {
     "data": {
      "text/plain": [
       "True"
      ]
     },
     "execution_count": 245,
     "metadata": {},
     "output_type": "execute_result"
    }
   ],
   "source": [
    "predict_to_csv(nn_model,test_ds,\"prediction_nn1\")"
   ]
  },
  {
   "cell_type": "code",
   "execution_count": 246,
   "metadata": {},
   "outputs": [],
   "source": [
    "a = pd.read_csv(\"predictions_xgb_391.csv\")\n",
    "b = pd.read_csv(\"prediction_nn1.csv\")"
   ]
  },
  {
   "cell_type": "code",
   "execution_count": 247,
   "metadata": {},
   "outputs": [
    {
     "data": {
      "text/plain": [
       "0"
      ]
     },
     "execution_count": 247,
     "metadata": {},
     "output_type": "execute_result"
    }
   ],
   "source": [
    "sum(a.Predicted - b.Predicted)"
   ]
  }
 ],
 "metadata": {
  "interpreter": {
   "hash": "c61f45fa4287766d1fe49b974af5d77a1d3358a56f5db6d660bceae78d85026e"
  },
  "kernelspec": {
   "display_name": "Python 3.8.11 64-bit ('gpuEnv': conda)",
   "name": "python3"
  },
  "language_info": {
   "codemirror_mode": {
    "name": "ipython",
    "version": 3
   },
   "file_extension": ".py",
   "mimetype": "text/x-python",
   "name": "python",
   "nbconvert_exporter": "python",
   "pygments_lexer": "ipython3",
   "version": "3.8.11"
  },
  "orig_nbformat": 4
 },
 "nbformat": 4,
 "nbformat_minor": 2
}
